{
 "cells": [
  {
   "cell_type": "code",
   "execution_count": 1,
   "id": "786794bd",
   "metadata": {
    "ExecuteTime": {
     "end_time": "2021-08-03T09:57:09.385057Z",
     "start_time": "2021-08-03T09:57:08.505170Z"
    }
   },
   "outputs": [],
   "source": [
    "%matplotlib inline\n",
    "%config InlineBackend.figure_format = 'retina'\n",
    "\n",
    "import pandas as pd\n",
    "import numpy as np"
   ]
  },
  {
   "cell_type": "code",
   "execution_count": 2,
   "id": "43426006",
   "metadata": {
    "ExecuteTime": {
     "end_time": "2021-08-03T09:57:09.857502Z",
     "start_time": "2021-08-03T09:57:09.711418Z"
    }
   },
   "outputs": [
    {
     "data": {
      "text/plain": [
       "seed    series_seed  simulations  stimulus  stimulus_id\n",
       "85387   12245        first        0         4918           [[0.5, 0.7, 0.6, 0.5, 0.4, 0.6, 0.4, 0.9, 1.0,...\n",
       "                                            180160         [[0.4, 0.4, 0.7, 0.6, 0.1, 0.2, 0.1, 0.0, 0.8,...\n",
       "                                            227728         [[0.6, 0.8, 0.4, 0.5, 0.1, 0.3, 0.9, 0.9, 0.6,...\n",
       "                                            294899         [[0.8, 0.9, 0.4, 0.3, 0.5, 0.9, 0.1, 0.6, 0.3,...\n",
       "                                            366797         [[0.2, 0.0, 0.2, 0.5, 0.3, 0.6, 0.9, 0.7, 0.2,...\n",
       "                                                                                 ...                        \n",
       "979676  5905072      last         4         294899         [[1.0, 0.9, 0.9, 0.2, 0.3, 0.7, 0.4, 0.1, 0.6,...\n",
       "                                            366797         [[0.5, 0.8, 0.6, 0.8, 0.1, 0.6, 0.8, 0.6, 0.8,...\n",
       "                                            408166         [[0.1, 0.2, 0.4, 0.5, 0.2, 1.0, 0.3, 0.9, 0.3,...\n",
       "                                            599593         [[0.1, 0.6, 0.6, 0.8, 0.6, 0.0, 0.9, 0.4, 0.7,...\n",
       "                                            983115         [[0.3, 0.5, 0.2, 0.6, 0.3, 0.5, 0.4, 0.4, 0.2,...\n",
       "Length: 576, dtype: object"
      ]
     },
     "execution_count": 2,
     "metadata": {},
     "output_type": "execute_result"
    }
   ],
   "source": [
    "seed = [85387, 167102, 578561, 979676]\n",
    "series_seed = [12245, 23928, 5905072]\n",
    "simulations = ['first', 'last']\n",
    "stimulus = [0, 1, 4]\n",
    "stimulus_id = [4918, 180160, 227728, 294899, 366797, 408166, 599593, 983115]\n",
    "# seed = [85387, 167102]\n",
    "# series_seed = [12245, 23928]\n",
    "# simulations = ['first', 'last']\n",
    "# stimulus = [0, 1]\n",
    "# stimulus_id = [4918, 180160]\n",
    "\n",
    "n_times = 6\n",
    "n_neurons = 1000\n",
    "\n",
    "index = pd.MultiIndex.from_product(\n",
    "    [seed, series_seed, simulations, stimulus, stimulus_id],\n",
    "    names=['seed', 'series_seed', 'simulations', 'stimulus', 'stimulus_id']\n",
    ")\n",
    "\n",
    "np.random.seed(0)\n",
    "values = [np.random.rand(n_times * n_neurons).round(1).reshape(n_times, n_neurons) for i in range(len(index))]\n",
    "raw = pd.Series(values, index=index)\n",
    "raw"
   ]
  },
  {
   "cell_type": "code",
   "execution_count": 3,
   "id": "89372d98",
   "metadata": {
    "ExecuteTime": {
     "end_time": "2021-08-03T09:57:12.211318Z",
     "start_time": "2021-08-03T09:57:11.438199Z"
    }
   },
   "outputs": [
    {
     "name": "stdout",
     "output_type": "stream",
     "text": [
      "seed: [85387, 167102, 578561, 979676]\n",
      "series_seed: [12245, 23928, 5905072]\n",
      "simulations: ['first', 'last']\n",
      "stimulus: [0, 1, 4]\n",
      "stimulus_id: [4918, 180160, 227728, 294899, 366797, 408166, 599593, 983115]\n"
     ]
    }
   ],
   "source": [
    "import simProjectAnalysis as spa\n",
    "data = spa.ConditionCollection.from_pandas(raw)\n",
    "for cond in data.conditions():\n",
    "    print(\"{0}: {1}\".format(cond, data.labels_of(cond)))\n"
   ]
  },
  {
   "cell_type": "code",
   "execution_count": 4,
   "id": "5388cd68",
   "metadata": {
    "ExecuteTime": {
     "end_time": "2021-08-03T09:57:13.604955Z",
     "start_time": "2021-08-03T09:57:13.595405Z"
    }
   },
   "outputs": [
    {
     "name": "stdout",
     "output_type": "stream",
     "text": [
      "seed: [85387, 167102, 578561, 979676]\n",
      "series_seed: [12245, 23928, 5905072]\n",
      "simulations: ['first', 'last']\n",
      "stimulus: [1]\n",
      "stimulus_id: [4918, 180160, 227728, 294899, 366797, 408166, 599593, 983115]\n"
     ]
    }
   ],
   "source": [
    "tmp = data.filter(stimulus=1)\n",
    "for cond in tmp.conditions():\n",
    "    print(\"{0}: {1}\".format(cond, tmp.labels_of(cond)))"
   ]
  },
  {
   "cell_type": "code",
   "execution_count": 5,
   "id": "727e01d1",
   "metadata": {
    "ExecuteTime": {
     "end_time": "2021-08-03T09:57:15.286439Z",
     "start_time": "2021-08-03T09:57:15.208941Z"
    }
   },
   "outputs": [
    {
     "data": {
      "text/plain": [
       "seed    simulations  stimulus_id\n",
       "85387   first        4918           [[0.5, 0.7, 0.6, 0.5, 0.4, 0.6, 0.4, 0.9, 1.0,...\n",
       "                     180160         [[0.4, 0.4, 0.7, 0.6, 0.1, 0.2, 0.1, 0.0, 0.8,...\n",
       "                     227728         [[0.6, 0.8, 0.4, 0.5, 0.1, 0.3, 0.9, 0.9, 0.6,...\n",
       "                     294899         [[0.8, 0.9, 0.4, 0.3, 0.5, 0.9, 0.1, 0.6, 0.3,...\n",
       "                     366797         [[0.2, 0.0, 0.2, 0.5, 0.3, 0.6, 0.9, 0.7, 0.2,...\n",
       "                                                          ...                        \n",
       "979676  last         294899         [[1.0, 0.9, 0.9, 0.2, 0.3, 0.7, 0.4, 0.1, 0.6,...\n",
       "                     366797         [[0.5, 0.8, 0.6, 0.8, 0.1, 0.6, 0.8, 0.6, 0.8,...\n",
       "                     408166         [[0.1, 0.2, 0.4, 0.5, 0.2, 1.0, 0.3, 0.9, 0.3,...\n",
       "                     599593         [[0.1, 0.6, 0.6, 0.8, 0.6, 0.0, 0.9, 0.4, 0.7,...\n",
       "                     983115         [[0.3, 0.5, 0.2, 0.6, 0.3, 0.5, 0.4, 0.4, 0.2,...\n",
       "Length: 576, dtype: object"
      ]
     },
     "metadata": {},
     "output_type": "display_data"
    }
   ],
   "source": [
    "data = data.remove_label(\"series_seed\")\n",
    "data = data.remove_label(\"stimulus\")\n",
    "display(data.to_pandas())"
   ]
  },
  {
   "cell_type": "code",
   "execution_count": 6,
   "id": "c9047014",
   "metadata": {
    "ExecuteTime": {
     "end_time": "2021-08-03T09:57:16.809960Z",
     "start_time": "2021-08-03T09:57:16.801381Z"
    }
   },
   "outputs": [
    {
     "data": {
      "text/plain": [
       "(6, 1000)"
      ]
     },
     "execution_count": 6,
     "metadata": {},
     "output_type": "execute_result"
    }
   ],
   "source": [
    "data.get()[0].shape"
   ]
  },
  {
   "cell_type": "code",
   "execution_count": 7,
   "id": "123c08d7",
   "metadata": {
    "ExecuteTime": {
     "end_time": "2021-08-03T09:59:15.914771Z",
     "start_time": "2021-08-03T09:57:18.346811Z"
    }
   },
   "outputs": [
    {
     "name": "stderr",
     "output_type": "stream",
     "text": [
      "__metadata__--> 57465/                                                                                                                                                                                    \r"
     ]
    }
   ],
   "source": [
    "indices = range(200, 300)\n",
    "\n",
    "def split_into_neurons(in_result):\n",
    "    for idx in indices:\n",
    "        yield in_result.res[:, idx], {\"neuron_index\": idx}\n",
    "\n",
    "data.unpool(split_into_neurons)\n",
    "data_unpooled = data"
   ]
  },
  {
   "cell_type": "code",
   "execution_count": 8,
   "id": "8c8dc937",
   "metadata": {
    "ExecuteTime": {
     "end_time": "2021-08-03T09:59:28.605734Z",
     "start_time": "2021-08-03T09:59:28.447318Z"
    },
    "scrolled": true
   },
   "outputs": [
    {
     "data": {
      "text/plain": [
       "seed    simulations  stimulus_id  neuron_index\n",
       "85387   first        4918         200             [0.3, 0.3, 0.1, 0.9, 0.6, 0.6]\n",
       "                                  201             [0.7, 0.9, 0.8, 0.4, 0.3, 0.2]\n",
       "                                  202             [0.4, 0.9, 0.3, 0.8, 0.2, 0.3]\n",
       "                                  203             [0.2, 0.9, 0.6, 0.7, 0.7, 0.2]\n",
       "                                  204             [0.0, 0.7, 0.6, 0.3, 0.2, 0.6]\n",
       "                                                               ...              \n",
       "979676  last         983115       295             [0.3, 0.8, 0.6, 0.9, 0.3, 0.7]\n",
       "                                  296             [0.1, 0.2, 0.3, 0.4, 0.6, 0.5]\n",
       "                                  297             [0.4, 0.8, 0.9, 0.2, 0.4, 0.4]\n",
       "                                  298             [0.8, 0.4, 0.2, 0.7, 0.1, 0.4]\n",
       "                                  299             [0.5, 0.2, 0.8, 0.1, 0.9, 0.8]\n",
       "Length: 57600, dtype: object"
      ]
     },
     "metadata": {},
     "output_type": "display_data"
    },
    {
     "data": {
      "text/plain": [
       "(6,)"
      ]
     },
     "metadata": {},
     "output_type": "display_data"
    }
   ],
   "source": [
    "display(data.to_pandas())\n",
    "display(data.get()[0].shape)\n"
   ]
  },
  {
   "cell_type": "markdown",
   "id": "33d0df9b",
   "metadata": {},
   "source": [
    "NEWLY ADDED CELL: Generate a shuffled control"
   ]
  },
  {
   "cell_type": "code",
   "execution_count": 9,
   "id": "363a5334",
   "metadata": {
    "ExecuteTime": {
     "end_time": "2021-08-03T09:59:33.622959Z",
     "start_time": "2021-08-03T09:59:33.616389Z"
    }
   },
   "outputs": [],
   "source": [
    "import hashlib\n",
    "\n",
    "def calc_hash(tmp):\n",
    "    tmp = tmp.reorder_levels(sorted(tmp.index.names))\n",
    "    tmp = tmp.sort_index(kind='stable')\n",
    "    return hashlib.md5(tmp.to_json(orient=\"records\").encode(\"utf-8\")).hexdigest()"
   ]
  },
  {
   "cell_type": "code",
   "execution_count": 10,
   "id": "0e3e9ce2",
   "metadata": {
    "ExecuteTime": {
     "end_time": "2021-08-03T10:03:58.469122Z",
     "start_time": "2021-08-03T09:59:34.634842Z"
    }
   },
   "outputs": [
    {
     "name": "stderr",
     "output_type": "stream",
     "text": [
      "__metadata__--> 115076|                                                                                                                                                                                   \r"
     ]
    }
   ],
   "source": [
    "def generate_shuffle_control(stim_id_lst, responses_lst):\n",
    "#     display(list(zip(stim_id_lst, responses_lst)))\n",
    "    responses = np.hstack(responses_lst)\n",
    "    seed = hash(tuple(responses)) % 2 ** 32\n",
    "    np.random.seed(seed)\n",
    "    shuffled_responses = np.split(np.random.permutation(responses), len(stim_id_lst))\n",
    "    for stim_id, shuffled_resp in zip(stim_id_lst, shuffled_responses):\n",
    "        yield shuffled_resp, {\"control_type\": \"shuffled\", \"stimulus_id\": stim_id}\n",
    "    for stim_id, resp in zip(stim_id_lst, responses_lst):\n",
    "        yield resp, {\"control_type\": \"data\", \"stimulus_id\": stim_id}\n",
    "\n",
    "data = data_unpooled\n",
    "data = data.transform([\"stimulus_id\"], generate_shuffle_control, xy=True)\n"
   ]
  },
  {
   "cell_type": "code",
   "execution_count": 11,
   "id": "cc7b9564",
   "metadata": {
    "ExecuteTime": {
     "end_time": "2021-08-03T10:05:09.771442Z",
     "start_time": "2021-08-03T10:05:09.275260Z"
    },
    "scrolled": true
   },
   "outputs": [
    {
     "data": {
      "text/plain": [
       "'aa2c834b1c119b88ec197aa0034e6fbe'"
      ]
     },
     "metadata": {},
     "output_type": "display_data"
    },
    {
     "data": {
      "text/plain": [
       "simulations  seed    neuron_index  control_type  stimulus_id\n",
       "first        85387   200           shuffled      4918           [0.5, 0.5, 0.6, 0.6, 1.0, 0.5]\n",
       "                                                 180160         [0.9, 0.1, 0.7, 0.3, 0.6, 0.2]\n",
       "                                                 227728         [0.3, 0.1, 0.3, 0.3, 0.0, 0.9]\n",
       "                                                 294899         [0.2, 0.8, 0.2, 0.2, 0.2, 0.3]\n",
       "                                                 366797         [0.9, 0.6, 1.0, 0.6, 0.8, 0.7]\n",
       "                                                                             ...              \n",
       "last         979676  299           data          294899         [0.0, 0.0, 0.9, 0.0, 0.2, 1.0]\n",
       "                                                 366797         [0.3, 0.6, 0.2, 0.6, 1.0, 0.7]\n",
       "                                                 408166         [0.6, 0.6, 0.7, 0.2, 0.1, 0.8]\n",
       "                                                 599593         [0.6, 0.8, 0.9, 1.0, 0.6, 0.9]\n",
       "                                                 983115         [0.5, 0.2, 0.8, 0.1, 0.9, 0.8]\n",
       "Length: 115200, dtype: object"
      ]
     },
     "metadata": {},
     "output_type": "display_data"
    }
   ],
   "source": [
    "tmp = data.to_pandas()\n",
    "display(calc_hash(tmp))\n",
    "display(tmp)"
   ]
  },
  {
   "cell_type": "code",
   "execution_count": 12,
   "id": "1443af2e",
   "metadata": {
    "ExecuteTime": {
     "end_time": "2021-08-03T10:05:13.715862Z",
     "start_time": "2021-08-03T10:05:11.737959Z"
    }
   },
   "outputs": [],
   "source": [
    "mean_response = data.map(np.mean)"
   ]
  },
  {
   "cell_type": "code",
   "execution_count": 13,
   "id": "be0f20f5",
   "metadata": {
    "ExecuteTime": {
     "end_time": "2021-08-03T10:06:08.562235Z",
     "start_time": "2021-08-03T10:05:15.029244Z"
    }
   },
   "outputs": [],
   "source": [
    "from scipy.stats import entropy\n",
    "\n",
    "def response_entropy(lst_responses):\n",
    "    return entropy(lst_responses, base=2) / np.log2(len(lst_responses))\n",
    "\n",
    "response_entropy_stims = mean_response.pool([\"stimulus_id\"], func=response_entropy)\n"
   ]
  },
  {
   "cell_type": "code",
   "execution_count": 14,
   "id": "e00c99c9",
   "metadata": {
    "ExecuteTime": {
     "end_time": "2021-08-03T10:06:19.123238Z",
     "start_time": "2021-08-03T10:06:18.489911Z"
    }
   },
   "outputs": [
    {
     "data": {
      "text/plain": [
       "simulations  seed    neuron_index  control_type  stimulus_id\n",
       "first        85387   200           data          4918           0.466667\n",
       "                                                 4918           0.383333\n",
       "                                                 4918           0.366667\n",
       "                                                 4918           0.250000\n",
       "                                                 4918           0.533333\n",
       "                                                                  ...   \n",
       "last         979676  299           shuffled      983115         0.366667\n",
       "                                                 983115         0.333333\n",
       "                                                 983115         0.633333\n",
       "                                                 983115         0.383333\n",
       "                                                 983115         0.516667\n",
       "Length: 115200, dtype: float64"
      ]
     },
     "metadata": {},
     "output_type": "display_data"
    },
    {
     "data": {
      "text/plain": [
       "control_type  simulations  seed    neuron_index\n",
       "data          first        85387   200             0.993328\n",
       "                                   201             0.993278\n",
       "                                   202             0.993513\n",
       "                                   203             0.994929\n",
       "                                   204             0.994429\n",
       "                                                     ...   \n",
       "shuffled      last         979676  295             0.994013\n",
       "                                   296             0.992720\n",
       "                                   297             0.991707\n",
       "                                   298             0.992602\n",
       "                                   299             0.993509\n",
       "Length: 1600, dtype: float64"
      ]
     },
     "metadata": {},
     "output_type": "display_data"
    },
    {
     "data": {
      "text/plain": [
       "'59711ab0112f6037c7bb4072e1426bbd'"
      ]
     },
     "metadata": {},
     "output_type": "display_data"
    },
    {
     "data": {
      "text/plain": [
       "'94b8d5e391a0980a01bb4421d961f401'"
      ]
     },
     "metadata": {},
     "output_type": "display_data"
    }
   ],
   "source": [
    "display(mean_response.to_pandas().sort_index(kind='stable'))\n",
    "display(response_entropy_stims.to_pandas().sort_index(kind='stable'))\n",
    "display(calc_hash(mean_response.to_pandas()))\n",
    "display(calc_hash(response_entropy_stims.to_pandas()))"
   ]
  },
  {
   "cell_type": "code",
   "execution_count": 15,
   "id": "fd6edb77",
   "metadata": {
    "ExecuteTime": {
     "end_time": "2021-08-03T10:06:21.853872Z",
     "start_time": "2021-08-03T10:06:21.525052Z"
    }
   },
   "outputs": [
    {
     "data": {
      "text/plain": [
       "control_type  seed    neuron_index\n",
       "data          85387   200             0.000154\n",
       "                      201             0.000858\n",
       "                      202            -0.000952\n",
       "                      203             0.001664\n",
       "                      204            -0.000155\n",
       "                                        ...   \n",
       "shuffled      979676  295            -0.002226\n",
       "                      296            -0.000617\n",
       "                      297             0.002866\n",
       "                      298             0.001224\n",
       "                      299            -0.000074\n",
       "Length: 800, dtype: float64"
      ]
     },
     "metadata": {},
     "output_type": "display_data"
    },
    {
     "data": {
      "text/plain": [
       "'552dda19592c1e6ee2404b4118760242'"
      ]
     },
     "metadata": {},
     "output_type": "display_data"
    }
   ],
   "source": [
    "def difference_first_last(lst_str, lst_vals):\n",
    "    if not \"first\" in lst_str or not \"last\" in lst_str:\n",
    "        return np.NaN\n",
    "    i = lst_str.index(\"first\")\n",
    "    j = lst_str.index(\"last\")\n",
    "    return lst_vals[i] - lst_vals[j]\n",
    "\n",
    "change_in_response_entropy_stims = response_entropy_stims.pool([\"simulations\"],\n",
    "                                                               func=difference_first_last, xy=True)\n",
    "display(change_in_response_entropy_stims.to_pandas())\n",
    "display(calc_hash(change_in_response_entropy_stims.to_pandas()))"
   ]
  },
  {
   "cell_type": "code",
   "execution_count": 16,
   "id": "d997f1c3",
   "metadata": {
    "ExecuteTime": {
     "end_time": "2021-08-03T10:06:23.241110Z",
     "start_time": "2021-08-03T10:06:22.917151Z"
    }
   },
   "outputs": [
    {
     "data": {
      "text/plain": [
       "<ErrorbarContainer object of 3 artists>"
      ]
     },
     "execution_count": 16,
     "metadata": {},
     "output_type": "execute_result"
    },
    {
     "data": {
      "image/png": "[encoded data removed]",
      "text/plain": [
       "<Figure size 432x288 with 1 Axes>"
      ]
     },
     "metadata": {
      "image/png": {
       "height": 248,
       "width": 393
      },
      "needs_background": "light"
     },
     "output_type": "display_data"
    }
   ],
   "source": [
    "%matplotlib inline\n",
    "%config InlineBackend.figure_format = 'retina'\n",
    "\n",
    "change_stims_lst = change_in_response_entropy_stims.pool([\"seed\"], func=np.array)\n",
    "change_stims_mn = change_stims_lst.map(np.nanmean)\n",
    "change_stims_sd = change_stims_lst.map(np.nanstd)\n",
    "\n",
    "x, mn = change_stims_mn.filter(control_type=\"data\").get_x_y(\"neuron_index\")\n",
    "sd = change_stims_sd.filter(control_type=\"data\").get()\n",
    "from matplotlib import pyplot as plt\n",
    "plt.errorbar(x, mn, yerr=sd)\n",
    "\n",
    "# Also plot control\n",
    "x, mn = change_stims_mn.filter(control_type=\"shuffled\").get_x_y(\"neuron_index\")\n",
    "sd = change_stims_sd.filter(control_type=\"shuffled\").get()\n",
    "plt.errorbar(x, mn, yerr=sd, color='red')\n"
   ]
  },
  {
   "cell_type": "code",
   "execution_count": 17,
   "id": "c9e1e0f3",
   "metadata": {
    "ExecuteTime": {
     "end_time": "2021-08-03T10:06:26.103545Z",
     "start_time": "2021-08-03T10:06:26.078809Z"
    }
   },
   "outputs": [
    {
     "data": {
      "text/plain": [
       "control_type  neuron_index\n",
       "data          200             [0.00015417871877332345, -0.001247316234976647...\n",
       "              201             [0.0008581293616072294, 0.0018550078186947427,...\n",
       "              202             [-0.0009523741859917001, -0.001033924811436937...\n",
       "              203             [0.001663615014574793, -0.0024897325252221103,...\n",
       "              204             [-0.00015522858849370547, -0.00086193890976482...\n",
       "                                                    ...                        \n",
       "shuffled      295             [-0.002251674625753486, -0.0009347769399579153...\n",
       "              296             [0.0004792605620280721, -0.0001600143311447643...\n",
       "              297             [-0.0016360508909645244, 0.0001655839668354142...\n",
       "              298             [-0.0014640968479927574, 0.0019411072049484446...\n",
       "              299             [-0.00026122247431092926, -0.00146352802438898...\n",
       "Length: 200, dtype: object"
      ]
     },
     "metadata": {},
     "output_type": "display_data"
    },
    {
     "data": {
      "text/plain": [
       "'b4ed13b6b86eb2fdc586312e1524e45b'"
      ]
     },
     "metadata": {},
     "output_type": "display_data"
    }
   ],
   "source": [
    "display(change_stims_lst.to_pandas())\n",
    "display(calc_hash(change_stims_lst.to_pandas()))"
   ]
  },
  {
   "cell_type": "code",
   "execution_count": 18,
   "id": "d73d7438",
   "metadata": {
    "ExecuteTime": {
     "end_time": "2021-08-03T10:06:28.108970Z",
     "start_time": "2021-08-03T10:06:28.037831Z"
    }
   },
   "outputs": [
    {
     "data": {
      "text/plain": [
       "neuron_index\n",
       "200             0.884248\n",
       "201             0.044720\n",
       "202             0.466705\n",
       "203             0.923124\n",
       "204             0.384595\n",
       "                  ...   \n",
       "295             0.089314\n",
       "296             0.903055\n",
       "297             0.376330\n",
       "298             0.407146\n",
       "299             0.063207\n",
       "Length: 100, dtype: float64"
      ]
     },
     "metadata": {},
     "output_type": "display_data"
    },
    {
     "data": {
      "text/plain": [
       "'252430ab363328f58e9ddc9ed4ce7b60'"
      ]
     },
     "metadata": {},
     "output_type": "display_data"
    },
    {
     "data": {
      "text/plain": [
       "MultiIndex([(200,),\n",
       "            (201,),\n",
       "            (202,),\n",
       "            (203,),\n",
       "            (204,),\n",
       "            (205,),\n",
       "            (206,),\n",
       "            (207,),\n",
       "            (208,),\n",
       "            (209,)],\n",
       "           names=['neuron_index'])"
      ]
     },
     "metadata": {},
     "output_type": "display_data"
    }
   ],
   "source": [
    "from scipy.stats import ttest_ind\n",
    "\n",
    "def test_wo_nans(args):\n",
    "    a, b = args\n",
    "    return ttest_ind(a[~np.isnan(a)], b[~np.isnan(b)]).pvalue\n",
    "\n",
    "test_res = change_stims_lst.pool([\"control_type\"], func=test_wo_nans)\n",
    "display(test_res.to_pandas())\n",
    "display(calc_hash(test_res.to_pandas()))\n",
    "display(test_res.to_pandas().index[:10])"
   ]
  },
  {
   "cell_type": "code",
   "execution_count": null,
   "id": "9d035bbb",
   "metadata": {},
   "outputs": [],
   "source": []
  }
 ],
 "metadata": {
  "kernelspec": {
   "display_name": "Python 3 (ipykernel)",
   "language": "python",
   "name": "python3"
  },
  "language_info": {
   "codemirror_mode": {
    "name": "ipython",
    "version": 3
   },
   "file_extension": ".py",
   "mimetype": "text/x-python",
   "name": "python",
   "nbconvert_exporter": "python",
   "pygments_lexer": "ipython3",
   "version": "3.8.5"
  }
 },
 "nbformat": 4,
 "nbformat_minor": 5
}
