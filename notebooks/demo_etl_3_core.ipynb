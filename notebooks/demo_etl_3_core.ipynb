{
 "cells": [
  {
   "cell_type": "markdown",
   "metadata": {},
   "source": [
    "# BlueETL core transformations"
   ]
  },
  {
   "cell_type": "markdown",
   "metadata": {},
   "source": [
    "Intialize dataframes to be used later."
   ]
  },
  {
   "cell_type": "code",
   "execution_count": 1,
   "metadata": {},
   "outputs": [
    {
     "name": "stderr",
     "output_type": "stream",
     "text": [
      "WARNING blueetl.config.simulations: 'c26abad3-0861-4f7d-863c-a42daffd029f/000' is a directory, using BlueConfig\n",
      "WARNING blueetl.config.simulations: 'c26abad3-0861-4f7d-863c-a42daffd029f/001' is a directory, using BlueConfig\n",
      "WARNING blueetl.config.simulations: 'c26abad3-0861-4f7d-863c-a42daffd029f/002' is a directory, using BlueConfig\n",
      "WARNING blueetl.config.simulations: 'c26abad3-0861-4f7d-863c-a42daffd029f/003' is a directory, using BlueConfig\n"
     ]
    }
   ],
   "source": [
    "import logging\n",
    "\n",
    "import numpy as np\n",
    "import pandas as pd\n",
    "\n",
    "from blueetl.analysis import Analyzer\n",
    "from blueetl.constants import *\n",
    "from blueetl.utils import load_yaml\n",
    "\n",
    "analysis_config_file = \"../tests/data/tmp/analysis_config_01.yaml\"\n",
    "\n",
    "loglevel = logging.WARNING\n",
    "logformat = \"%(levelname)s %(name)s: %(message)s\"\n",
    "logging.basicConfig(format=logformat, level=loglevel)\n",
    "np.random.seed(0)\n",
    "analysis_config = load_yaml(analysis_config_file)\n",
    "\n",
    "a = Analyzer(analysis_config, base_path='..', use_cache=True)\n",
    "a.extract_repo()\n",
    "# a.calculate_features()"
   ]
  },
  {
   "cell_type": "markdown",
   "metadata": {},
   "source": [
    "Not required in general, but set an index to the spikes dataframe to show how to work with multiindexes."
   ]
  },
  {
   "cell_type": "code",
   "execution_count": 2,
   "metadata": {},
   "outputs": [
    {
     "data": {
      "text/html": [
       "<div>\n",
       "<style scoped>\n",
       "    .dataframe tbody tr th:only-of-type {\n",
       "        vertical-align: middle;\n",
       "    }\n",
       "\n",
       "    .dataframe tbody tr th {\n",
       "        vertical-align: top;\n",
       "    }\n",
       "\n",
       "    .dataframe thead th {\n",
       "        text-align: right;\n",
       "    }\n",
       "</style>\n",
       "<table border=\"1\" class=\"dataframe\">\n",
       "  <thead>\n",
       "    <tr style=\"text-align: right;\">\n",
       "      <th></th>\n",
       "      <th></th>\n",
       "      <th></th>\n",
       "      <th></th>\n",
       "      <th></th>\n",
       "      <th>time</th>\n",
       "      <th>gid</th>\n",
       "    </tr>\n",
       "    <tr>\n",
       "      <th>simulation_id</th>\n",
       "      <th>circuit_id</th>\n",
       "      <th>neuron_class</th>\n",
       "      <th>window</th>\n",
       "      <th>trial</th>\n",
       "      <th></th>\n",
       "      <th></th>\n",
       "    </tr>\n",
       "  </thead>\n",
       "  <tbody>\n",
       "    <tr>\n",
       "      <th rowspan=\"5\" valign=\"top\">0</th>\n",
       "      <th rowspan=\"5\" valign=\"top\">0</th>\n",
       "      <th rowspan=\"5\" valign=\"top\">L23_EXC</th>\n",
       "      <th rowspan=\"5\" valign=\"top\">w1</th>\n",
       "      <th>0</th>\n",
       "      <td>2000.200</td>\n",
       "      <td>355828</td>\n",
       "    </tr>\n",
       "    <tr>\n",
       "      <th>0</th>\n",
       "      <td>2003.975</td>\n",
       "      <td>3241134</td>\n",
       "    </tr>\n",
       "    <tr>\n",
       "      <th>0</th>\n",
       "      <td>2010.875</td>\n",
       "      <td>644392</td>\n",
       "    </tr>\n",
       "    <tr>\n",
       "      <th>0</th>\n",
       "      <td>2019.400</td>\n",
       "      <td>3254415</td>\n",
       "    </tr>\n",
       "    <tr>\n",
       "      <th>0</th>\n",
       "      <td>2019.950</td>\n",
       "      <td>158267</td>\n",
       "    </tr>\n",
       "    <tr>\n",
       "      <th>...</th>\n",
       "      <th>...</th>\n",
       "      <th>...</th>\n",
       "      <th>...</th>\n",
       "      <th>...</th>\n",
       "      <td>...</td>\n",
       "      <td>...</td>\n",
       "    </tr>\n",
       "    <tr>\n",
       "      <th rowspan=\"5\" valign=\"top\">3</th>\n",
       "      <th rowspan=\"5\" valign=\"top\">0</th>\n",
       "      <th rowspan=\"5\" valign=\"top\">L6_INH</th>\n",
       "      <th rowspan=\"5\" valign=\"top\">w3</th>\n",
       "      <th>4</th>\n",
       "      <td>24.000</td>\n",
       "      <td>1389002</td>\n",
       "    </tr>\n",
       "    <tr>\n",
       "      <th>4</th>\n",
       "      <td>24.125</td>\n",
       "      <td>2180441</td>\n",
       "    </tr>\n",
       "    <tr>\n",
       "      <th>4</th>\n",
       "      <td>24.525</td>\n",
       "      <td>1397134</td>\n",
       "    </tr>\n",
       "    <tr>\n",
       "      <th>4</th>\n",
       "      <td>24.575</td>\n",
       "      <td>1724717</td>\n",
       "    </tr>\n",
       "    <tr>\n",
       "      <th>4</th>\n",
       "      <td>24.675</td>\n",
       "      <td>1371682</td>\n",
       "    </tr>\n",
       "  </tbody>\n",
       "</table>\n",
       "<p>186948 rows × 2 columns</p>\n",
       "</div>"
      ],
      "text/plain": [
       "                                                        time      gid\n",
       "simulation_id circuit_id neuron_class window trial                   \n",
       "0             0          L23_EXC      w1     0      2000.200   355828\n",
       "                                             0      2003.975  3241134\n",
       "                                             0      2010.875   644392\n",
       "                                             0      2019.400  3254415\n",
       "                                             0      2019.950   158267\n",
       "...                                                      ...      ...\n",
       "3             0          L6_INH       w3     4        24.000  1389002\n",
       "                                             4        24.125  2180441\n",
       "                                             4        24.525  1397134\n",
       "                                             4        24.575  1724717\n",
       "                                             4        24.675  1371682\n",
       "\n",
       "[186948 rows x 2 columns]"
      ]
     },
     "metadata": {},
     "output_type": "display_data"
    },
    {
     "data": {
      "text/html": [
       "<div>\n",
       "<style scoped>\n",
       "    .dataframe tbody tr th:only-of-type {\n",
       "        vertical-align: middle;\n",
       "    }\n",
       "\n",
       "    .dataframe tbody tr th {\n",
       "        vertical-align: top;\n",
       "    }\n",
       "\n",
       "    .dataframe thead th {\n",
       "        text-align: right;\n",
       "    }\n",
       "</style>\n",
       "<table border=\"1\" class=\"dataframe\">\n",
       "  <thead>\n",
       "    <tr style=\"text-align: right;\">\n",
       "      <th></th>\n",
       "      <th>simulation_id</th>\n",
       "      <th>circuit_id</th>\n",
       "      <th>neuron_class</th>\n",
       "      <th>window</th>\n",
       "      <th>trial</th>\n",
       "      <th>time</th>\n",
       "      <th>gid</th>\n",
       "    </tr>\n",
       "  </thead>\n",
       "  <tbody>\n",
       "    <tr>\n",
       "      <th>0</th>\n",
       "      <td>0</td>\n",
       "      <td>0</td>\n",
       "      <td>L23_EXC</td>\n",
       "      <td>w1</td>\n",
       "      <td>0</td>\n",
       "      <td>2000.200</td>\n",
       "      <td>355828</td>\n",
       "    </tr>\n",
       "    <tr>\n",
       "      <th>1</th>\n",
       "      <td>0</td>\n",
       "      <td>0</td>\n",
       "      <td>L23_EXC</td>\n",
       "      <td>w1</td>\n",
       "      <td>0</td>\n",
       "      <td>2003.975</td>\n",
       "      <td>3241134</td>\n",
       "    </tr>\n",
       "    <tr>\n",
       "      <th>2</th>\n",
       "      <td>0</td>\n",
       "      <td>0</td>\n",
       "      <td>L23_EXC</td>\n",
       "      <td>w1</td>\n",
       "      <td>0</td>\n",
       "      <td>2010.875</td>\n",
       "      <td>644392</td>\n",
       "    </tr>\n",
       "    <tr>\n",
       "      <th>3</th>\n",
       "      <td>0</td>\n",
       "      <td>0</td>\n",
       "      <td>L23_EXC</td>\n",
       "      <td>w1</td>\n",
       "      <td>0</td>\n",
       "      <td>2019.400</td>\n",
       "      <td>3254415</td>\n",
       "    </tr>\n",
       "    <tr>\n",
       "      <th>4</th>\n",
       "      <td>0</td>\n",
       "      <td>0</td>\n",
       "      <td>L23_EXC</td>\n",
       "      <td>w1</td>\n",
       "      <td>0</td>\n",
       "      <td>2019.950</td>\n",
       "      <td>158267</td>\n",
       "    </tr>\n",
       "    <tr>\n",
       "      <th>...</th>\n",
       "      <td>...</td>\n",
       "      <td>...</td>\n",
       "      <td>...</td>\n",
       "      <td>...</td>\n",
       "      <td>...</td>\n",
       "      <td>...</td>\n",
       "      <td>...</td>\n",
       "    </tr>\n",
       "    <tr>\n",
       "      <th>186943</th>\n",
       "      <td>3</td>\n",
       "      <td>0</td>\n",
       "      <td>L6_INH</td>\n",
       "      <td>w3</td>\n",
       "      <td>4</td>\n",
       "      <td>24.000</td>\n",
       "      <td>1389002</td>\n",
       "    </tr>\n",
       "    <tr>\n",
       "      <th>186944</th>\n",
       "      <td>3</td>\n",
       "      <td>0</td>\n",
       "      <td>L6_INH</td>\n",
       "      <td>w3</td>\n",
       "      <td>4</td>\n",
       "      <td>24.125</td>\n",
       "      <td>2180441</td>\n",
       "    </tr>\n",
       "    <tr>\n",
       "      <th>186945</th>\n",
       "      <td>3</td>\n",
       "      <td>0</td>\n",
       "      <td>L6_INH</td>\n",
       "      <td>w3</td>\n",
       "      <td>4</td>\n",
       "      <td>24.525</td>\n",
       "      <td>1397134</td>\n",
       "    </tr>\n",
       "    <tr>\n",
       "      <th>186946</th>\n",
       "      <td>3</td>\n",
       "      <td>0</td>\n",
       "      <td>L6_INH</td>\n",
       "      <td>w3</td>\n",
       "      <td>4</td>\n",
       "      <td>24.575</td>\n",
       "      <td>1724717</td>\n",
       "    </tr>\n",
       "    <tr>\n",
       "      <th>186947</th>\n",
       "      <td>3</td>\n",
       "      <td>0</td>\n",
       "      <td>L6_INH</td>\n",
       "      <td>w3</td>\n",
       "      <td>4</td>\n",
       "      <td>24.675</td>\n",
       "      <td>1371682</td>\n",
       "    </tr>\n",
       "  </tbody>\n",
       "</table>\n",
       "<p>186948 rows × 7 columns</p>\n",
       "</div>"
      ],
      "text/plain": [
       "        simulation_id  circuit_id neuron_class window  trial      time  \\\n",
       "0                   0           0      L23_EXC     w1      0  2000.200   \n",
       "1                   0           0      L23_EXC     w1      0  2003.975   \n",
       "2                   0           0      L23_EXC     w1      0  2010.875   \n",
       "3                   0           0      L23_EXC     w1      0  2019.400   \n",
       "4                   0           0      L23_EXC     w1      0  2019.950   \n",
       "...               ...         ...          ...    ...    ...       ...   \n",
       "186943              3           0       L6_INH     w3      4    24.000   \n",
       "186944              3           0       L6_INH     w3      4    24.125   \n",
       "186945              3           0       L6_INH     w3      4    24.525   \n",
       "186946              3           0       L6_INH     w3      4    24.575   \n",
       "186947              3           0       L6_INH     w3      4    24.675   \n",
       "\n",
       "            gid  \n",
       "0        355828  \n",
       "1       3241134  \n",
       "2        644392  \n",
       "3       3254415  \n",
       "4        158267  \n",
       "...         ...  \n",
       "186943  1389002  \n",
       "186944  2180441  \n",
       "186945  1397134  \n",
       "186946  1724717  \n",
       "186947  1371682  \n",
       "\n",
       "[186948 rows x 7 columns]"
      ]
     },
     "metadata": {},
     "output_type": "display_data"
    }
   ],
   "source": [
    "df_mi = a.repo.spikes.df.set_index([\"simulation_id\", \"circuit_id\", \"neuron_class\", \"window\", \"trial\"])\n",
    "df_col = df_mi.reset_index()\n",
    "display(df_mi)\n",
    "display(df_col)"
   ]
  },
  {
   "cell_type": "markdown",
   "metadata": {},
   "source": [
    "## Filtering"
   ]
  },
  {
   "cell_type": "markdown",
   "metadata": {},
   "source": [
    "The framework provides `etl.q` that can be used to filter on both columns and levels of the multiindex.\n",
    "\n",
    "Multiple keywords can be specified as parameters, and all the conditions are matched in the resulting dataframe.\n",
    "Each parameter can be:\n",
    "\n",
    "- a scalar value matched for equality\n",
    "- a list to match any contained scalar value\n",
    "- a dict for more complex expressions. The supported operators are: `eq`, `ne`, `le`, `lt`, `ge`, `gt`, `in`"
   ]
  },
  {
   "cell_type": "code",
   "execution_count": 3,
   "metadata": {},
   "outputs": [
    {
     "data": {
      "text/html": [
       "<div>\n",
       "<style scoped>\n",
       "    .dataframe tbody tr th:only-of-type {\n",
       "        vertical-align: middle;\n",
       "    }\n",
       "\n",
       "    .dataframe tbody tr th {\n",
       "        vertical-align: top;\n",
       "    }\n",
       "\n",
       "    .dataframe thead th {\n",
       "        text-align: right;\n",
       "    }\n",
       "</style>\n",
       "<table border=\"1\" class=\"dataframe\">\n",
       "  <thead>\n",
       "    <tr style=\"text-align: right;\">\n",
       "      <th></th>\n",
       "      <th></th>\n",
       "      <th></th>\n",
       "      <th></th>\n",
       "      <th></th>\n",
       "      <th>time</th>\n",
       "      <th>gid</th>\n",
       "    </tr>\n",
       "    <tr>\n",
       "      <th>simulation_id</th>\n",
       "      <th>circuit_id</th>\n",
       "      <th>neuron_class</th>\n",
       "      <th>window</th>\n",
       "      <th>trial</th>\n",
       "      <th></th>\n",
       "      <th></th>\n",
       "    </tr>\n",
       "  </thead>\n",
       "  <tbody>\n",
       "    <tr>\n",
       "      <th rowspan=\"4\" valign=\"top\">1</th>\n",
       "      <th rowspan=\"4\" valign=\"top\">0</th>\n",
       "      <th rowspan=\"4\" valign=\"top\">L23_EXC</th>\n",
       "      <th>w2</th>\n",
       "      <th>0</th>\n",
       "      <td>19.475</td>\n",
       "      <td>356718</td>\n",
       "    </tr>\n",
       "    <tr>\n",
       "      <th rowspan=\"3\" valign=\"top\">w3</th>\n",
       "      <th>0</th>\n",
       "      <td>19.475</td>\n",
       "      <td>356718</td>\n",
       "    </tr>\n",
       "    <tr>\n",
       "      <th>1</th>\n",
       "      <td>8.075</td>\n",
       "      <td>356718</td>\n",
       "    </tr>\n",
       "    <tr>\n",
       "      <th>1</th>\n",
       "      <td>8.400</td>\n",
       "      <td>356127</td>\n",
       "    </tr>\n",
       "  </tbody>\n",
       "</table>\n",
       "</div>"
      ],
      "text/plain": [
       "                                                      time     gid\n",
       "simulation_id circuit_id neuron_class window trial                \n",
       "1             0          L23_EXC      w2     0      19.475  356718\n",
       "                                      w3     0      19.475  356718\n",
       "                                             1       8.075  356718\n",
       "                                             1       8.400  356127"
      ]
     },
     "execution_count": 3,
     "metadata": {},
     "output_type": "execute_result"
    }
   ],
   "source": [
    "df_mi.etl.q(simulation_id=1, window=['w2', 'w3'], gid={'ge': 356000, 'lt': 357000}, time={'lt': 19.5})"
   ]
  },
  {
   "cell_type": "markdown",
   "metadata": {},
   "source": [
    "The query would be the same even when the multiindex is reset:"
   ]
  },
  {
   "cell_type": "code",
   "execution_count": 4,
   "metadata": {},
   "outputs": [
    {
     "data": {
      "text/html": [
       "<div>\n",
       "<style scoped>\n",
       "    .dataframe tbody tr th:only-of-type {\n",
       "        vertical-align: middle;\n",
       "    }\n",
       "\n",
       "    .dataframe tbody tr th {\n",
       "        vertical-align: top;\n",
       "    }\n",
       "\n",
       "    .dataframe thead th {\n",
       "        text-align: right;\n",
       "    }\n",
       "</style>\n",
       "<table border=\"1\" class=\"dataframe\">\n",
       "  <thead>\n",
       "    <tr style=\"text-align: right;\">\n",
       "      <th></th>\n",
       "      <th>simulation_id</th>\n",
       "      <th>circuit_id</th>\n",
       "      <th>neuron_class</th>\n",
       "      <th>window</th>\n",
       "      <th>trial</th>\n",
       "      <th>time</th>\n",
       "      <th>gid</th>\n",
       "    </tr>\n",
       "  </thead>\n",
       "  <tbody>\n",
       "    <tr>\n",
       "      <th>24398</th>\n",
       "      <td>1</td>\n",
       "      <td>0</td>\n",
       "      <td>L23_EXC</td>\n",
       "      <td>w2</td>\n",
       "      <td>0</td>\n",
       "      <td>19.475</td>\n",
       "      <td>356718</td>\n",
       "    </tr>\n",
       "    <tr>\n",
       "      <th>24976</th>\n",
       "      <td>1</td>\n",
       "      <td>0</td>\n",
       "      <td>L23_EXC</td>\n",
       "      <td>w3</td>\n",
       "      <td>0</td>\n",
       "      <td>19.475</td>\n",
       "      <td>356718</td>\n",
       "    </tr>\n",
       "    <tr>\n",
       "      <th>25305</th>\n",
       "      <td>1</td>\n",
       "      <td>0</td>\n",
       "      <td>L23_EXC</td>\n",
       "      <td>w3</td>\n",
       "      <td>1</td>\n",
       "      <td>8.075</td>\n",
       "      <td>356718</td>\n",
       "    </tr>\n",
       "    <tr>\n",
       "      <th>25311</th>\n",
       "      <td>1</td>\n",
       "      <td>0</td>\n",
       "      <td>L23_EXC</td>\n",
       "      <td>w3</td>\n",
       "      <td>1</td>\n",
       "      <td>8.400</td>\n",
       "      <td>356127</td>\n",
       "    </tr>\n",
       "  </tbody>\n",
       "</table>\n",
       "</div>"
      ],
      "text/plain": [
       "       simulation_id  circuit_id neuron_class window  trial    time     gid\n",
       "24398              1           0      L23_EXC     w2      0  19.475  356718\n",
       "24976              1           0      L23_EXC     w3      0  19.475  356718\n",
       "25305              1           0      L23_EXC     w3      1   8.075  356718\n",
       "25311              1           0      L23_EXC     w3      1   8.400  356127"
      ]
     },
     "execution_count": 4,
     "metadata": {},
     "output_type": "execute_result"
    }
   ],
   "source": [
    "df_col.etl.q(simulation_id=1, window=['w2', 'w3'], gid={'ge': 356000, 'lt': 357000}, time={'lt': 19.5})"
   ]
  },
  {
   "cell_type": "markdown",
   "metadata": {},
   "source": [
    "The same result can be obtained with plain Pandas, but it can be more difficult to chain and more verbose, as shown in the example below.\n",
    "\n",
    "On the other side, the Pandas syntax supports more complex queries that cannot be built with `etl.q`."
   ]
  },
  {
   "cell_type": "code",
   "execution_count": 5,
   "metadata": {},
   "outputs": [
    {
     "data": {
      "text/html": [
       "<div>\n",
       "<style scoped>\n",
       "    .dataframe tbody tr th:only-of-type {\n",
       "        vertical-align: middle;\n",
       "    }\n",
       "\n",
       "    .dataframe tbody tr th {\n",
       "        vertical-align: top;\n",
       "    }\n",
       "\n",
       "    .dataframe thead th {\n",
       "        text-align: right;\n",
       "    }\n",
       "</style>\n",
       "<table border=\"1\" class=\"dataframe\">\n",
       "  <thead>\n",
       "    <tr style=\"text-align: right;\">\n",
       "      <th></th>\n",
       "      <th></th>\n",
       "      <th></th>\n",
       "      <th></th>\n",
       "      <th></th>\n",
       "      <th>time</th>\n",
       "      <th>gid</th>\n",
       "    </tr>\n",
       "    <tr>\n",
       "      <th>simulation_id</th>\n",
       "      <th>circuit_id</th>\n",
       "      <th>neuron_class</th>\n",
       "      <th>window</th>\n",
       "      <th>trial</th>\n",
       "      <th></th>\n",
       "      <th></th>\n",
       "    </tr>\n",
       "  </thead>\n",
       "  <tbody>\n",
       "    <tr>\n",
       "      <th rowspan=\"4\" valign=\"top\">1</th>\n",
       "      <th rowspan=\"4\" valign=\"top\">0</th>\n",
       "      <th rowspan=\"4\" valign=\"top\">L23_EXC</th>\n",
       "      <th>w2</th>\n",
       "      <th>0</th>\n",
       "      <td>19.475</td>\n",
       "      <td>356718</td>\n",
       "    </tr>\n",
       "    <tr>\n",
       "      <th rowspan=\"3\" valign=\"top\">w3</th>\n",
       "      <th>0</th>\n",
       "      <td>19.475</td>\n",
       "      <td>356718</td>\n",
       "    </tr>\n",
       "    <tr>\n",
       "      <th>1</th>\n",
       "      <td>8.075</td>\n",
       "      <td>356718</td>\n",
       "    </tr>\n",
       "    <tr>\n",
       "      <th>1</th>\n",
       "      <td>8.400</td>\n",
       "      <td>356127</td>\n",
       "    </tr>\n",
       "  </tbody>\n",
       "</table>\n",
       "</div>"
      ],
      "text/plain": [
       "                                                      time     gid\n",
       "simulation_id circuit_id neuron_class window trial                \n",
       "1             0          L23_EXC      w2     0      19.475  356718\n",
       "                                      w3     0      19.475  356718\n",
       "                                             1       8.075  356718\n",
       "                                             1       8.400  356127"
      ]
     },
     "execution_count": 5,
     "metadata": {},
     "output_type": "execute_result"
    }
   ],
   "source": [
    "df_mi.loc[\n",
    "    (df_mi.index.get_level_values('simulation_id') == 1)\n",
    "    & (df_mi.index.get_level_values('window').isin([\"w2\", \"w3\"]))\n",
    "    & (df_mi['gid'] >= 356000) \n",
    "    & (df_mi['gid'] < 357000)\n",
    "    & (df_mi['time'] < 19.5)\n",
    "]"
   ]
  },
  {
   "cell_type": "markdown",
   "metadata": {},
   "source": [
    "An alternative in Pandas, using the `query` method, is shown below.\n",
    "However, this is slower than the previous methods."
   ]
  },
  {
   "cell_type": "code",
   "execution_count": 6,
   "metadata": {},
   "outputs": [
    {
     "data": {
      "text/html": [
       "<div>\n",
       "<style scoped>\n",
       "    .dataframe tbody tr th:only-of-type {\n",
       "        vertical-align: middle;\n",
       "    }\n",
       "\n",
       "    .dataframe tbody tr th {\n",
       "        vertical-align: top;\n",
       "    }\n",
       "\n",
       "    .dataframe thead th {\n",
       "        text-align: right;\n",
       "    }\n",
       "</style>\n",
       "<table border=\"1\" class=\"dataframe\">\n",
       "  <thead>\n",
       "    <tr style=\"text-align: right;\">\n",
       "      <th></th>\n",
       "      <th></th>\n",
       "      <th></th>\n",
       "      <th></th>\n",
       "      <th></th>\n",
       "      <th>time</th>\n",
       "      <th>gid</th>\n",
       "    </tr>\n",
       "    <tr>\n",
       "      <th>simulation_id</th>\n",
       "      <th>circuit_id</th>\n",
       "      <th>neuron_class</th>\n",
       "      <th>window</th>\n",
       "      <th>trial</th>\n",
       "      <th></th>\n",
       "      <th></th>\n",
       "    </tr>\n",
       "  </thead>\n",
       "  <tbody>\n",
       "    <tr>\n",
       "      <th rowspan=\"4\" valign=\"top\">1</th>\n",
       "      <th rowspan=\"4\" valign=\"top\">0</th>\n",
       "      <th rowspan=\"4\" valign=\"top\">L23_EXC</th>\n",
       "      <th>w2</th>\n",
       "      <th>0</th>\n",
       "      <td>19.475</td>\n",
       "      <td>356718</td>\n",
       "    </tr>\n",
       "    <tr>\n",
       "      <th rowspan=\"3\" valign=\"top\">w3</th>\n",
       "      <th>0</th>\n",
       "      <td>19.475</td>\n",
       "      <td>356718</td>\n",
       "    </tr>\n",
       "    <tr>\n",
       "      <th>1</th>\n",
       "      <td>8.075</td>\n",
       "      <td>356718</td>\n",
       "    </tr>\n",
       "    <tr>\n",
       "      <th>1</th>\n",
       "      <td>8.400</td>\n",
       "      <td>356127</td>\n",
       "    </tr>\n",
       "  </tbody>\n",
       "</table>\n",
       "</div>"
      ],
      "text/plain": [
       "                                                      time     gid\n",
       "simulation_id circuit_id neuron_class window trial                \n",
       "1             0          L23_EXC      w2     0      19.475  356718\n",
       "                                      w3     0      19.475  356718\n",
       "                                             1       8.075  356718\n",
       "                                             1       8.400  356127"
      ]
     },
     "execution_count": 6,
     "metadata": {},
     "output_type": "execute_result"
    }
   ],
   "source": [
    "df_mi.query(\"simulation_id==1 and window==['w2', 'w3'] and gid >= 356000 and gid < 357000 and time < 19.5\")"
   ]
  },
  {
   "cell_type": "markdown",
   "metadata": {},
   "source": [
    "## Working with MultiIndexes"
   ]
  },
  {
   "cell_type": "code",
   "execution_count": 7,
   "metadata": {},
   "outputs": [
    {
     "data": {
      "text/plain": [
       "FrozenList(['simulation_id', 'circuit_id', 'neuron_class', 'window', 'trial'])"
      ]
     },
     "execution_count": 7,
     "metadata": {},
     "output_type": "execute_result"
    }
   ],
   "source": [
    "df_mi.etl.conditions()"
   ]
  },
  {
   "cell_type": "code",
   "execution_count": 8,
   "metadata": {},
   "outputs": [
    {
     "data": {
      "text/plain": [
       "FrozenList(['circuit_id', 'neuron_class', 'window'])"
      ]
     },
     "execution_count": 8,
     "metadata": {},
     "output_type": "execute_result"
    }
   ],
   "source": [
    "df_mi.etl.complementary_conditions(['trial', 'simulation_id'])"
   ]
  },
  {
   "cell_type": "code",
   "execution_count": 9,
   "metadata": {},
   "outputs": [
    {
     "data": {
      "text/plain": [
       "[Int64Index([0, 1, 2, 3], dtype='int64', name='simulation_id'),\n",
       " Int64Index([0], dtype='int64', name='circuit_id'),\n",
       " CategoricalIndex(['L23_EXC', 'L23_INH', 'L4_EXC', 'L4_INH', 'L5_EXC', 'L5_INH',\n",
       "                   'L6_EXC', 'L6_INH'],\n",
       "                  categories=['L23_EXC', 'L23_INH', 'L4_EXC', 'L4_INH', 'L5_EXC', 'L5_INH', 'L6_EXC', 'L6_INH'], ordered=False, dtype='category', name='neuron_class'),\n",
       " CategoricalIndex(['w1', 'w2', 'w3'], categories=['w1', 'w2', 'w3'], ordered=False, dtype='category', name='window'),\n",
       " Int64Index([0, 1, 2, 3, 4], dtype='int64', name='trial')]"
      ]
     },
     "execution_count": 9,
     "metadata": {},
     "output_type": "execute_result"
    }
   ],
   "source": [
    "df_mi.etl.labels()"
   ]
  },
  {
   "cell_type": "code",
   "execution_count": 10,
   "metadata": {},
   "outputs": [
    {
     "data": {
      "text/plain": [
       "CategoricalIndex(['w1', 'w2', 'w3'], categories=['w1', 'w2', 'w3'], ordered=False, dtype='category', name='window')"
      ]
     },
     "execution_count": 10,
     "metadata": {},
     "output_type": "execute_result"
    }
   ],
   "source": [
    "df_mi.etl.labels_of('window')"
   ]
  },
  {
   "cell_type": "code",
   "execution_count": 11,
   "metadata": {},
   "outputs": [
    {
     "data": {
      "text/html": [
       "<div>\n",
       "<style scoped>\n",
       "    .dataframe tbody tr th:only-of-type {\n",
       "        vertical-align: middle;\n",
       "    }\n",
       "\n",
       "    .dataframe tbody tr th {\n",
       "        vertical-align: top;\n",
       "    }\n",
       "\n",
       "    .dataframe thead th {\n",
       "        text-align: right;\n",
       "    }\n",
       "</style>\n",
       "<table border=\"1\" class=\"dataframe\">\n",
       "  <thead>\n",
       "    <tr style=\"text-align: right;\">\n",
       "      <th></th>\n",
       "      <th></th>\n",
       "      <th></th>\n",
       "      <th>time</th>\n",
       "      <th>gid</th>\n",
       "    </tr>\n",
       "    <tr>\n",
       "      <th>simulation_id</th>\n",
       "      <th>circuit_id</th>\n",
       "      <th>neuron_class</th>\n",
       "      <th></th>\n",
       "      <th></th>\n",
       "    </tr>\n",
       "  </thead>\n",
       "  <tbody>\n",
       "    <tr>\n",
       "      <th rowspan=\"5\" valign=\"top\">0</th>\n",
       "      <th rowspan=\"5\" valign=\"top\">0</th>\n",
       "      <th>L23_EXC</th>\n",
       "      <td>2000.200</td>\n",
       "      <td>355828</td>\n",
       "    </tr>\n",
       "    <tr>\n",
       "      <th>L23_EXC</th>\n",
       "      <td>2003.975</td>\n",
       "      <td>3241134</td>\n",
       "    </tr>\n",
       "    <tr>\n",
       "      <th>L23_EXC</th>\n",
       "      <td>2010.875</td>\n",
       "      <td>644392</td>\n",
       "    </tr>\n",
       "    <tr>\n",
       "      <th>L23_EXC</th>\n",
       "      <td>2019.400</td>\n",
       "      <td>3254415</td>\n",
       "    </tr>\n",
       "    <tr>\n",
       "      <th>L23_EXC</th>\n",
       "      <td>2019.950</td>\n",
       "      <td>158267</td>\n",
       "    </tr>\n",
       "    <tr>\n",
       "      <th>...</th>\n",
       "      <th>...</th>\n",
       "      <th>...</th>\n",
       "      <td>...</td>\n",
       "      <td>...</td>\n",
       "    </tr>\n",
       "    <tr>\n",
       "      <th rowspan=\"5\" valign=\"top\">3</th>\n",
       "      <th rowspan=\"5\" valign=\"top\">0</th>\n",
       "      <th>L6_INH</th>\n",
       "      <td>24.000</td>\n",
       "      <td>1389002</td>\n",
       "    </tr>\n",
       "    <tr>\n",
       "      <th>L6_INH</th>\n",
       "      <td>24.125</td>\n",
       "      <td>2180441</td>\n",
       "    </tr>\n",
       "    <tr>\n",
       "      <th>L6_INH</th>\n",
       "      <td>24.525</td>\n",
       "      <td>1397134</td>\n",
       "    </tr>\n",
       "    <tr>\n",
       "      <th>L6_INH</th>\n",
       "      <td>24.575</td>\n",
       "      <td>1724717</td>\n",
       "    </tr>\n",
       "    <tr>\n",
       "      <th>L6_INH</th>\n",
       "      <td>24.675</td>\n",
       "      <td>1371682</td>\n",
       "    </tr>\n",
       "  </tbody>\n",
       "</table>\n",
       "<p>186948 rows × 2 columns</p>\n",
       "</div>"
      ],
      "text/plain": [
       "                                           time      gid\n",
       "simulation_id circuit_id neuron_class                   \n",
       "0             0          L23_EXC       2000.200   355828\n",
       "                         L23_EXC       2003.975  3241134\n",
       "                         L23_EXC       2010.875   644392\n",
       "                         L23_EXC       2019.400  3254415\n",
       "                         L23_EXC       2019.950   158267\n",
       "...                                         ...      ...\n",
       "3             0          L6_INH          24.000  1389002\n",
       "                         L6_INH          24.125  2180441\n",
       "                         L6_INH          24.525  1397134\n",
       "                         L6_INH          24.575  1724717\n",
       "                         L6_INH          24.675  1371682\n",
       "\n",
       "[186948 rows x 2 columns]"
      ]
     },
     "execution_count": 11,
     "metadata": {},
     "output_type": "execute_result"
    }
   ],
   "source": [
    "df_mi.etl.remove_conditions(['window', 'trial'])"
   ]
  },
  {
   "cell_type": "code",
   "execution_count": 12,
   "metadata": {},
   "outputs": [
    {
     "data": {
      "text/html": [
       "<div>\n",
       "<style scoped>\n",
       "    .dataframe tbody tr th:only-of-type {\n",
       "        vertical-align: middle;\n",
       "    }\n",
       "\n",
       "    .dataframe tbody tr th {\n",
       "        vertical-align: top;\n",
       "    }\n",
       "\n",
       "    .dataframe thead th {\n",
       "        text-align: right;\n",
       "    }\n",
       "</style>\n",
       "<table border=\"1\" class=\"dataframe\">\n",
       "  <thead>\n",
       "    <tr style=\"text-align: right;\">\n",
       "      <th></th>\n",
       "      <th></th>\n",
       "      <th>time</th>\n",
       "      <th>gid</th>\n",
       "    </tr>\n",
       "    <tr>\n",
       "      <th>window</th>\n",
       "      <th>trial</th>\n",
       "      <th></th>\n",
       "      <th></th>\n",
       "    </tr>\n",
       "  </thead>\n",
       "  <tbody>\n",
       "    <tr>\n",
       "      <th rowspan=\"5\" valign=\"top\">w1</th>\n",
       "      <th>0</th>\n",
       "      <td>2000.200</td>\n",
       "      <td>355828</td>\n",
       "    </tr>\n",
       "    <tr>\n",
       "      <th>0</th>\n",
       "      <td>2003.975</td>\n",
       "      <td>3241134</td>\n",
       "    </tr>\n",
       "    <tr>\n",
       "      <th>0</th>\n",
       "      <td>2010.875</td>\n",
       "      <td>644392</td>\n",
       "    </tr>\n",
       "    <tr>\n",
       "      <th>0</th>\n",
       "      <td>2019.400</td>\n",
       "      <td>3254415</td>\n",
       "    </tr>\n",
       "    <tr>\n",
       "      <th>0</th>\n",
       "      <td>2019.950</td>\n",
       "      <td>158267</td>\n",
       "    </tr>\n",
       "    <tr>\n",
       "      <th>...</th>\n",
       "      <th>...</th>\n",
       "      <td>...</td>\n",
       "      <td>...</td>\n",
       "    </tr>\n",
       "    <tr>\n",
       "      <th rowspan=\"5\" valign=\"top\">w3</th>\n",
       "      <th>4</th>\n",
       "      <td>24.000</td>\n",
       "      <td>1389002</td>\n",
       "    </tr>\n",
       "    <tr>\n",
       "      <th>4</th>\n",
       "      <td>24.125</td>\n",
       "      <td>2180441</td>\n",
       "    </tr>\n",
       "    <tr>\n",
       "      <th>4</th>\n",
       "      <td>24.525</td>\n",
       "      <td>1397134</td>\n",
       "    </tr>\n",
       "    <tr>\n",
       "      <th>4</th>\n",
       "      <td>24.575</td>\n",
       "      <td>1724717</td>\n",
       "    </tr>\n",
       "    <tr>\n",
       "      <th>4</th>\n",
       "      <td>24.675</td>\n",
       "      <td>1371682</td>\n",
       "    </tr>\n",
       "  </tbody>\n",
       "</table>\n",
       "<p>186948 rows × 2 columns</p>\n",
       "</div>"
      ],
      "text/plain": [
       "                  time      gid\n",
       "window trial                   \n",
       "w1     0      2000.200   355828\n",
       "       0      2003.975  3241134\n",
       "       0      2010.875   644392\n",
       "       0      2019.400  3254415\n",
       "       0      2019.950   158267\n",
       "...                ...      ...\n",
       "w3     4        24.000  1389002\n",
       "       4        24.125  2180441\n",
       "       4        24.525  1397134\n",
       "       4        24.575  1724717\n",
       "       4        24.675  1371682\n",
       "\n",
       "[186948 rows x 2 columns]"
      ]
     },
     "execution_count": 12,
     "metadata": {},
     "output_type": "execute_result"
    }
   ],
   "source": [
    "df_mi.etl.keep_conditions(['window', 'trial'])"
   ]
  },
  {
   "cell_type": "code",
   "execution_count": 13,
   "metadata": {},
   "outputs": [
    {
     "data": {
      "text/html": [
       "<div>\n",
       "<style scoped>\n",
       "    .dataframe tbody tr th:only-of-type {\n",
       "        vertical-align: middle;\n",
       "    }\n",
       "\n",
       "    .dataframe tbody tr th {\n",
       "        vertical-align: top;\n",
       "    }\n",
       "\n",
       "    .dataframe thead th {\n",
       "        text-align: right;\n",
       "    }\n",
       "</style>\n",
       "<table border=\"1\" class=\"dataframe\">\n",
       "  <thead>\n",
       "    <tr style=\"text-align: right;\">\n",
       "      <th></th>\n",
       "      <th></th>\n",
       "      <th></th>\n",
       "      <th></th>\n",
       "      <th></th>\n",
       "      <th></th>\n",
       "      <th></th>\n",
       "      <th>time</th>\n",
       "      <th>gid</th>\n",
       "    </tr>\n",
       "    <tr>\n",
       "      <th>cond1</th>\n",
       "      <th>cond2</th>\n",
       "      <th>simulation_id</th>\n",
       "      <th>circuit_id</th>\n",
       "      <th>neuron_class</th>\n",
       "      <th>window</th>\n",
       "      <th>trial</th>\n",
       "      <th></th>\n",
       "      <th></th>\n",
       "    </tr>\n",
       "  </thead>\n",
       "  <tbody>\n",
       "    <tr>\n",
       "      <th rowspan=\"11\" valign=\"top\">111</th>\n",
       "      <th rowspan=\"11\" valign=\"top\">222</th>\n",
       "      <th rowspan=\"5\" valign=\"top\">0</th>\n",
       "      <th rowspan=\"5\" valign=\"top\">0</th>\n",
       "      <th rowspan=\"5\" valign=\"top\">L23_EXC</th>\n",
       "      <th rowspan=\"5\" valign=\"top\">w1</th>\n",
       "      <th>0</th>\n",
       "      <td>2000.200</td>\n",
       "      <td>355828</td>\n",
       "    </tr>\n",
       "    <tr>\n",
       "      <th>0</th>\n",
       "      <td>2003.975</td>\n",
       "      <td>3241134</td>\n",
       "    </tr>\n",
       "    <tr>\n",
       "      <th>0</th>\n",
       "      <td>2010.875</td>\n",
       "      <td>644392</td>\n",
       "    </tr>\n",
       "    <tr>\n",
       "      <th>0</th>\n",
       "      <td>2019.400</td>\n",
       "      <td>3254415</td>\n",
       "    </tr>\n",
       "    <tr>\n",
       "      <th>0</th>\n",
       "      <td>2019.950</td>\n",
       "      <td>158267</td>\n",
       "    </tr>\n",
       "    <tr>\n",
       "      <th>...</th>\n",
       "      <th>...</th>\n",
       "      <th>...</th>\n",
       "      <th>...</th>\n",
       "      <th>...</th>\n",
       "      <td>...</td>\n",
       "      <td>...</td>\n",
       "    </tr>\n",
       "    <tr>\n",
       "      <th rowspan=\"5\" valign=\"top\">3</th>\n",
       "      <th rowspan=\"5\" valign=\"top\">0</th>\n",
       "      <th rowspan=\"5\" valign=\"top\">L6_INH</th>\n",
       "      <th rowspan=\"5\" valign=\"top\">w3</th>\n",
       "      <th>4</th>\n",
       "      <td>24.000</td>\n",
       "      <td>1389002</td>\n",
       "    </tr>\n",
       "    <tr>\n",
       "      <th>4</th>\n",
       "      <td>24.125</td>\n",
       "      <td>2180441</td>\n",
       "    </tr>\n",
       "    <tr>\n",
       "      <th>4</th>\n",
       "      <td>24.525</td>\n",
       "      <td>1397134</td>\n",
       "    </tr>\n",
       "    <tr>\n",
       "      <th>4</th>\n",
       "      <td>24.575</td>\n",
       "      <td>1724717</td>\n",
       "    </tr>\n",
       "    <tr>\n",
       "      <th>4</th>\n",
       "      <td>24.675</td>\n",
       "      <td>1371682</td>\n",
       "    </tr>\n",
       "  </tbody>\n",
       "</table>\n",
       "<p>186948 rows × 2 columns</p>\n",
       "</div>"
      ],
      "text/plain": [
       "                                                                    time  \\\n",
       "cond1 cond2 simulation_id circuit_id neuron_class window trial             \n",
       "111   222   0             0          L23_EXC      w1     0      2000.200   \n",
       "                                                         0      2003.975   \n",
       "                                                         0      2010.875   \n",
       "                                                         0      2019.400   \n",
       "                                                         0      2019.950   \n",
       "...                                                                  ...   \n",
       "            3             0          L6_INH       w3     4        24.000   \n",
       "                                                         4        24.125   \n",
       "                                                         4        24.525   \n",
       "                                                         4        24.575   \n",
       "                                                         4        24.675   \n",
       "\n",
       "                                                                    gid  \n",
       "cond1 cond2 simulation_id circuit_id neuron_class window trial           \n",
       "111   222   0             0          L23_EXC      w1     0       355828  \n",
       "                                                         0      3241134  \n",
       "                                                         0       644392  \n",
       "                                                         0      3254415  \n",
       "                                                         0       158267  \n",
       "...                                                                 ...  \n",
       "            3             0          L6_INH       w3     4      1389002  \n",
       "                                                         4      2180441  \n",
       "                                                         4      1397134  \n",
       "                                                         4      1724717  \n",
       "                                                         4      1371682  \n",
       "\n",
       "[186948 rows x 2 columns]"
      ]
     },
     "execution_count": 13,
     "metadata": {},
     "output_type": "execute_result"
    }
   ],
   "source": [
    "df_mi.etl.add_conditions(conditions=['cond1', 'cond2'], values=[111, 222])"
   ]
  },
  {
   "cell_type": "markdown",
   "metadata": {},
   "source": [
    "## Iteration"
   ]
  },
  {
   "cell_type": "markdown",
   "metadata": {},
   "source": [
    "In general, iterations can be slow and should be avoided in favour of vectorized operations.\n",
    "\n",
    "If not possible, the method `etl.iter()` could be used in a similar way to the Pandas `itertuples()`, but it returns a namedtuple also for the index, with only a small performance penalty:"
   ]
  },
  {
   "cell_type": "code",
   "execution_count": 14,
   "metadata": {},
   "outputs": [
    {
     "name": "stdout",
     "output_type": "stream",
     "text": [
      "Index(simulation_id=0, circuit_id=0, neuron_class='L23_EXC', window='w1', trial=0)\n",
      "Values(time=2000.2, gid=355828)\n"
     ]
    }
   ],
   "source": [
    "for index, values in df_mi.etl.iter():\n",
    "    print(index)\n",
    "    print(values)\n",
    "    break"
   ]
  },
  {
   "cell_type": "markdown",
   "metadata": {},
   "source": [
    "For comparison, this is the result from Pandas `itertuples`:"
   ]
  },
  {
   "cell_type": "code",
   "execution_count": 15,
   "metadata": {},
   "outputs": [
    {
     "name": "stdout",
     "output_type": "stream",
     "text": [
      "Pandas(Index=(0, 0, 'L23_EXC', 'w1', 0), time=2000.2, gid=355828)\n"
     ]
    }
   ],
   "source": [
    "for item in df_mi.itertuples():\n",
    "    print(item)\n",
    "    break"
   ]
  },
  {
   "cell_type": "markdown",
   "metadata": {},
   "source": [
    "Pandas `iterrows` method should be avoided because it's a lot slower than the other methods:"
   ]
  },
  {
   "cell_type": "code",
   "execution_count": 16,
   "metadata": {},
   "outputs": [
    {
     "name": "stdout",
     "output_type": "stream",
     "text": [
      "(0, 0, 'L23_EXC', 'w1', 0)\n",
      "time      2000.2\n",
      "gid     355828.0\n",
      "Name: (0, 0, L23_EXC, w1, 0), dtype: float64\n"
     ]
    }
   ],
   "source": [
    "for index, values in df_mi.iterrows():\n",
    "    print(index)\n",
    "    print(values)\n",
    "    break"
   ]
  },
  {
   "cell_type": "markdown",
   "metadata": {},
   "source": [
    "The `iter` method can be used also to iterate over a Series, and in this case the value is just the value of the item:"
   ]
  },
  {
   "cell_type": "code",
   "execution_count": 17,
   "metadata": {},
   "outputs": [
    {
     "name": "stdout",
     "output_type": "stream",
     "text": [
      "Index(simulation_id=0, circuit_id=0, neuron_class='L23_EXC', window='w1', trial=0)\n",
      "2000.2\n"
     ]
    }
   ],
   "source": [
    "for index, values in df_mi['time'].etl.iter():\n",
    "    print(index)\n",
    "    print(values)\n",
    "    break"
   ]
  },
  {
   "cell_type": "markdown",
   "metadata": {},
   "source": [
    "## Grouping"
   ]
  },
  {
   "cell_type": "markdown",
   "metadata": {},
   "source": [
    "In some cases it can be useful to group by all the conditions, except some of them."
   ]
  },
  {
   "cell_type": "code",
   "execution_count": 18,
   "metadata": {},
   "outputs": [
    {
     "data": {
      "text/html": [
       "<div>\n",
       "<style scoped>\n",
       "    .dataframe tbody tr th:only-of-type {\n",
       "        vertical-align: middle;\n",
       "    }\n",
       "\n",
       "    .dataframe tbody tr th {\n",
       "        vertical-align: top;\n",
       "    }\n",
       "\n",
       "    .dataframe thead th {\n",
       "        text-align: right;\n",
       "    }\n",
       "</style>\n",
       "<table border=\"1\" class=\"dataframe\">\n",
       "  <thead>\n",
       "    <tr style=\"text-align: right;\">\n",
       "      <th></th>\n",
       "      <th></th>\n",
       "      <th>time</th>\n",
       "      <th>gid</th>\n",
       "    </tr>\n",
       "    <tr>\n",
       "      <th>simulation_id</th>\n",
       "      <th>circuit_id</th>\n",
       "      <th></th>\n",
       "      <th></th>\n",
       "    </tr>\n",
       "  </thead>\n",
       "  <tbody>\n",
       "    <tr>\n",
       "      <th>0</th>\n",
       "      <th>0</th>\n",
       "      <td>19712</td>\n",
       "      <td>19712</td>\n",
       "    </tr>\n",
       "    <tr>\n",
       "      <th>1</th>\n",
       "      <th>0</th>\n",
       "      <td>55284</td>\n",
       "      <td>55284</td>\n",
       "    </tr>\n",
       "    <tr>\n",
       "      <th>2</th>\n",
       "      <th>0</th>\n",
       "      <td>23293</td>\n",
       "      <td>23293</td>\n",
       "    </tr>\n",
       "    <tr>\n",
       "      <th>3</th>\n",
       "      <th>0</th>\n",
       "      <td>88659</td>\n",
       "      <td>88659</td>\n",
       "    </tr>\n",
       "  </tbody>\n",
       "</table>\n",
       "</div>"
      ],
      "text/plain": [
       "                           time    gid\n",
       "simulation_id circuit_id              \n",
       "0             0           19712  19712\n",
       "1             0           55284  55284\n",
       "2             0           23293  23293\n",
       "3             0           88659  88659"
      ]
     },
     "execution_count": 18,
     "metadata": {},
     "output_type": "execute_result"
    }
   ],
   "source": [
    "df_mi.etl.groupby_excluding(['neuron_class', 'window', 'trial']).count()"
   ]
  },
  {
   "cell_type": "markdown",
   "metadata": {},
   "source": [
    "Remove one or more conditions grouping by the remaining conditions:"
   ]
  },
  {
   "cell_type": "code",
   "execution_count": 19,
   "metadata": {},
   "outputs": [
    {
     "data": {
      "text/plain": [
       "simulation_id  circuit_id\n",
       "0              0             0.977530\n",
       "1              0             0.980486\n",
       "2              0             0.968767\n",
       "3              0             0.967783\n",
       "Name: time, dtype: float64"
      ]
     },
     "execution_count": 19,
     "metadata": {},
     "output_type": "execute_result"
    }
   ],
   "source": [
    "from scipy.stats import entropy\n",
    "\n",
    "def response_entropy(x):\n",
    "    return entropy(x, base=2) / np.log2(len(x))\n",
    "\n",
    "df_mi['time'].etl.groupby_excluding(['neuron_class', 'window', 'trial']).apply(response_entropy)"
   ]
  },
  {
   "cell_type": "markdown",
   "metadata": {},
   "source": [
    "The method `etl.groupby_iter` returns a generator yielding each record of the grouped dataframe as a tuple (key, df).\n",
    "\n",
    "In general, it's not a replacement of `groupby` because it returns a generator, and not a `DataFrameGroupBy`.\n",
    "\n",
    "However, it can be used as a replacement for the iteration over `df.groupby`, with these differences:\n",
    "- the yielded keys are namedtuples, instead of tuples\n",
    "- the yielded dataframes contain only the columns with varying values, instead of all the columns\n"
   ]
  },
  {
   "cell_type": "markdown",
   "metadata": {},
   "source": [
    "Iterating over `df_col`:"
   ]
  },
  {
   "cell_type": "code",
   "execution_count": 20,
   "metadata": {},
   "outputs": [
    {
     "name": "stdout",
     "output_type": "stream",
     "text": [
      "RecordKey(simulation_id=0, circuit_id=0, neuron_class='L23_EXC', window='w1', gid=11359)\n",
      "     trial      time\n",
      "629      0  4184.175\n",
      "909      0  5212.200\n"
     ]
    }
   ],
   "source": [
    "for key, tmp_df in df_col.etl.groupby_iter(['simulation_id', 'circuit_id', 'neuron_class', 'window', 'gid']):\n",
    "    print(key)\n",
    "    print(tmp_df)\n",
    "    break"
   ]
  },
  {
   "cell_type": "markdown",
   "metadata": {},
   "source": [
    "For comparison, with Pandas:"
   ]
  },
  {
   "cell_type": "code",
   "execution_count": 21,
   "metadata": {},
   "outputs": [
    {
     "name": "stdout",
     "output_type": "stream",
     "text": [
      "(0, 0, 'L23_EXC', 'w1', 11359)\n",
      "     simulation_id  circuit_id neuron_class window  trial      time    gid\n",
      "629              0           0      L23_EXC     w1      0  4184.175  11359\n",
      "909              0           0      L23_EXC     w1      0  5212.200  11359\n"
     ]
    }
   ],
   "source": [
    "for key, tmp_df in df_col.groupby(['simulation_id', 'circuit_id', 'neuron_class', 'window', 'gid']):\n",
    "    print(key)\n",
    "    print(tmp_df)\n",
    "    break"
   ]
  },
  {
   "cell_type": "markdown",
   "metadata": {},
   "source": [
    "Iterating over `df_mi`:"
   ]
  },
  {
   "cell_type": "code",
   "execution_count": 22,
   "metadata": {},
   "outputs": [
    {
     "name": "stdout",
     "output_type": "stream",
     "text": [
      "RecordKey(simulation_id=0, circuit_id=0, neuron_class='L23_EXC', window='w1', gid=11359)\n",
      "                                                        time\n",
      "simulation_id circuit_id neuron_class window trial          \n",
      "0             0          L23_EXC      w1     0      4184.175\n",
      "                                             0      5212.200\n"
     ]
    }
   ],
   "source": [
    "for key, tmp_df in df_mi.etl.grouped_by(['simulation_id', 'circuit_id', 'neuron_class', 'window', 'gid']):\n",
    "    print(key)\n",
    "    print(tmp_df)\n",
    "    break"
   ]
  },
  {
   "cell_type": "markdown",
   "metadata": {},
   "source": [
    "For comparison, with Pandas:"
   ]
  },
  {
   "cell_type": "code",
   "execution_count": 23,
   "metadata": {},
   "outputs": [
    {
     "name": "stdout",
     "output_type": "stream",
     "text": [
      "(0, 0, 'L23_EXC', 'w1', 11359)\n",
      "                                                        time    gid\n",
      "simulation_id circuit_id neuron_class window trial                 \n",
      "0             0          L23_EXC      w1     0      4184.175  11359\n",
      "                                             0      5212.200  11359\n"
     ]
    }
   ],
   "source": [
    "for key, tmp_df in df_mi.groupby(['simulation_id', 'circuit_id', 'neuron_class', 'window', 'gid']):\n",
    "    print(key)\n",
    "    print(tmp_df)\n",
    "    break"
   ]
  },
  {
   "cell_type": "markdown",
   "metadata": {},
   "source": [
    "## Multiprocess"
   ]
  },
  {
   "cell_type": "markdown",
   "metadata": {},
   "source": [
    "With `etl.groupby_run_parallel()` it's possible to group the dataframe and run a function in parallel processes.\n",
    "\n",
    "The function should accept (key, df) and it can return anything.\n",
    "\n",
    "This method should be used only when the function is expensive and it's worth to execute it in a separate subprocess.\n",
    "\n",
    "If the function isn't expensive, iterating over `etl.grouped_by()` and calling the function is probably faster."
   ]
  },
  {
   "cell_type": "code",
   "execution_count": 24,
   "metadata": {},
   "outputs": [
    {
     "data": {
      "text/plain": [
       "[(RecordKey(simulation_id=0, circuit_id=0, neuron_class='L23_EXC'), 2324),\n",
       " (RecordKey(simulation_id=0, circuit_id=0, neuron_class='L23_INH'), 247),\n",
       " (RecordKey(simulation_id=0, circuit_id=0, neuron_class='L4_EXC'), 3354)]"
      ]
     },
     "execution_count": 24,
     "metadata": {},
     "output_type": "execute_result"
    }
   ],
   "source": [
    "def func(key, df):\n",
    "    return key, len(df)\n",
    "\n",
    "df_mi.etl.groupby_run_parallel(['simulation_id', 'circuit_id', 'neuron_class'], func=func)[:3]"
   ]
  },
  {
   "cell_type": "markdown",
   "metadata": {},
   "source": [
    "If the function returns a DataFrame and all the DataFrames should be concatenated together to create a single DataFrame, it's possible to use `etl.groupby_apply_parallel()`.\n",
    "\n",
    "This is just a shortcut to calling `etl.groupby_run_parallel()` and concatenate the reuslts with `pd.concat()`. Note that it should be considered still experimental and subject to changes."
   ]
  },
  {
   "cell_type": "code",
   "execution_count": 25,
   "metadata": {},
   "outputs": [
    {
     "data": {
      "text/html": [
       "<div>\n",
       "<style scoped>\n",
       "    .dataframe tbody tr th:only-of-type {\n",
       "        vertical-align: middle;\n",
       "    }\n",
       "\n",
       "    .dataframe tbody tr th {\n",
       "        vertical-align: top;\n",
       "    }\n",
       "\n",
       "    .dataframe thead th {\n",
       "        text-align: right;\n",
       "    }\n",
       "</style>\n",
       "<table border=\"1\" class=\"dataframe\">\n",
       "  <thead>\n",
       "    <tr style=\"text-align: right;\">\n",
       "      <th></th>\n",
       "      <th></th>\n",
       "      <th></th>\n",
       "      <th>mean</th>\n",
       "    </tr>\n",
       "    <tr>\n",
       "      <th>simulation_id</th>\n",
       "      <th>circuit_id</th>\n",
       "      <th>window</th>\n",
       "      <th></th>\n",
       "    </tr>\n",
       "  </thead>\n",
       "  <tbody>\n",
       "    <tr>\n",
       "      <th rowspan=\"3\" valign=\"top\">0</th>\n",
       "      <th rowspan=\"3\" valign=\"top\">0</th>\n",
       "      <th>w1</th>\n",
       "      <td>4498.261653</td>\n",
       "    </tr>\n",
       "    <tr>\n",
       "      <th>w2</th>\n",
       "      <td>33.761481</td>\n",
       "    </tr>\n",
       "    <tr>\n",
       "      <th>w3</th>\n",
       "      <td>11.607634</td>\n",
       "    </tr>\n",
       "    <tr>\n",
       "      <th rowspan=\"3\" valign=\"top\">1</th>\n",
       "      <th rowspan=\"3\" valign=\"top\">0</th>\n",
       "      <th>w1</th>\n",
       "      <td>4499.436633</td>\n",
       "    </tr>\n",
       "    <tr>\n",
       "      <th>w2</th>\n",
       "      <td>38.079973</td>\n",
       "    </tr>\n",
       "    <tr>\n",
       "      <th>w3</th>\n",
       "      <td>12.027419</td>\n",
       "    </tr>\n",
       "    <tr>\n",
       "      <th rowspan=\"3\" valign=\"top\">2</th>\n",
       "      <th rowspan=\"3\" valign=\"top\">0</th>\n",
       "      <th>w1</th>\n",
       "      <td>4501.052279</td>\n",
       "    </tr>\n",
       "    <tr>\n",
       "      <th>w2</th>\n",
       "      <td>33.003820</td>\n",
       "    </tr>\n",
       "    <tr>\n",
       "      <th>w3</th>\n",
       "      <td>11.950877</td>\n",
       "    </tr>\n",
       "    <tr>\n",
       "      <th rowspan=\"3\" valign=\"top\">3</th>\n",
       "      <th rowspan=\"3\" valign=\"top\">0</th>\n",
       "      <th>w1</th>\n",
       "      <td>4502.473920</td>\n",
       "    </tr>\n",
       "    <tr>\n",
       "      <th>w2</th>\n",
       "      <td>46.753784</td>\n",
       "    </tr>\n",
       "    <tr>\n",
       "      <th>w3</th>\n",
       "      <td>12.903279</td>\n",
       "    </tr>\n",
       "  </tbody>\n",
       "</table>\n",
       "</div>"
      ],
      "text/plain": [
       "                                        mean\n",
       "simulation_id circuit_id window             \n",
       "0             0          w1      4498.261653\n",
       "                         w2        33.761481\n",
       "                         w3        11.607634\n",
       "1             0          w1      4499.436633\n",
       "                         w2        38.079973\n",
       "                         w3        12.027419\n",
       "2             0          w1      4501.052279\n",
       "                         w2        33.003820\n",
       "                         w3        11.950877\n",
       "3             0          w1      4502.473920\n",
       "                         w2        46.753784\n",
       "                         w3        12.903279"
      ]
     },
     "execution_count": 25,
     "metadata": {},
     "output_type": "execute_result"
    }
   ],
   "source": [
    "def func(key, df):\n",
    "    return pd.DataFrame(\n",
    "        data={\"mean\": [df['time'].mean()]},\n",
    "        index=pd.MultiIndex.from_tuples([key], names=key._fields)\n",
    "    )\n",
    "\n",
    "df_col.etl.groupby_apply_parallel(['simulation_id', 'circuit_id', 'window'], func=func)"
   ]
  },
  {
   "cell_type": "markdown",
   "metadata": {},
   "source": [
    "The previous one was just an example. To get the same result, it would be more efficient:"
   ]
  },
  {
   "cell_type": "code",
   "execution_count": 26,
   "metadata": {},
   "outputs": [
    {
     "data": {
      "text/html": [
       "<div>\n",
       "<style scoped>\n",
       "    .dataframe tbody tr th:only-of-type {\n",
       "        vertical-align: middle;\n",
       "    }\n",
       "\n",
       "    .dataframe tbody tr th {\n",
       "        vertical-align: top;\n",
       "    }\n",
       "\n",
       "    .dataframe thead th {\n",
       "        text-align: right;\n",
       "    }\n",
       "</style>\n",
       "<table border=\"1\" class=\"dataframe\">\n",
       "  <thead>\n",
       "    <tr style=\"text-align: right;\">\n",
       "      <th></th>\n",
       "      <th></th>\n",
       "      <th></th>\n",
       "      <th>time</th>\n",
       "    </tr>\n",
       "    <tr>\n",
       "      <th>simulation_id</th>\n",
       "      <th>circuit_id</th>\n",
       "      <th>window</th>\n",
       "      <th></th>\n",
       "    </tr>\n",
       "  </thead>\n",
       "  <tbody>\n",
       "    <tr>\n",
       "      <th rowspan=\"3\" valign=\"top\">0</th>\n",
       "      <th rowspan=\"3\" valign=\"top\">0</th>\n",
       "      <th>w1</th>\n",
       "      <td>4498.261653</td>\n",
       "    </tr>\n",
       "    <tr>\n",
       "      <th>w2</th>\n",
       "      <td>33.761481</td>\n",
       "    </tr>\n",
       "    <tr>\n",
       "      <th>w3</th>\n",
       "      <td>11.607634</td>\n",
       "    </tr>\n",
       "    <tr>\n",
       "      <th rowspan=\"3\" valign=\"top\">1</th>\n",
       "      <th rowspan=\"3\" valign=\"top\">0</th>\n",
       "      <th>w1</th>\n",
       "      <td>4499.436633</td>\n",
       "    </tr>\n",
       "    <tr>\n",
       "      <th>w2</th>\n",
       "      <td>38.079973</td>\n",
       "    </tr>\n",
       "    <tr>\n",
       "      <th>w3</th>\n",
       "      <td>12.027419</td>\n",
       "    </tr>\n",
       "    <tr>\n",
       "      <th rowspan=\"3\" valign=\"top\">2</th>\n",
       "      <th rowspan=\"3\" valign=\"top\">0</th>\n",
       "      <th>w1</th>\n",
       "      <td>4501.052279</td>\n",
       "    </tr>\n",
       "    <tr>\n",
       "      <th>w2</th>\n",
       "      <td>33.003820</td>\n",
       "    </tr>\n",
       "    <tr>\n",
       "      <th>w3</th>\n",
       "      <td>11.950877</td>\n",
       "    </tr>\n",
       "    <tr>\n",
       "      <th rowspan=\"3\" valign=\"top\">3</th>\n",
       "      <th rowspan=\"3\" valign=\"top\">0</th>\n",
       "      <th>w1</th>\n",
       "      <td>4502.473920</td>\n",
       "    </tr>\n",
       "    <tr>\n",
       "      <th>w2</th>\n",
       "      <td>46.753784</td>\n",
       "    </tr>\n",
       "    <tr>\n",
       "      <th>w3</th>\n",
       "      <td>12.903279</td>\n",
       "    </tr>\n",
       "  </tbody>\n",
       "</table>\n",
       "</div>"
      ],
      "text/plain": [
       "                                        time\n",
       "simulation_id circuit_id window             \n",
       "0             0          w1      4498.261653\n",
       "                         w2        33.761481\n",
       "                         w3        11.607634\n",
       "1             0          w1      4499.436633\n",
       "                         w2        38.079973\n",
       "                         w3        12.027419\n",
       "2             0          w1      4501.052279\n",
       "                         w2        33.003820\n",
       "                         w3        11.950877\n",
       "3             0          w1      4502.473920\n",
       "                         w2        46.753784\n",
       "                         w3        12.903279"
      ]
     },
     "execution_count": 26,
     "metadata": {},
     "output_type": "execute_result"
    }
   ],
   "source": [
    "df_col.groupby(['simulation_id', 'circuit_id', 'window'])[['time']].mean()"
   ]
  },
  {
   "cell_type": "code",
   "execution_count": null,
   "metadata": {},
   "outputs": [],
   "source": []
  }
 ],
 "metadata": {
  "kernelspec": {
   "display_name": "BlueETL",
   "language": "python",
   "name": "blueetl"
  },
  "language_info": {
   "codemirror_mode": {
    "name": "ipython",
    "version": 3
   },
   "file_extension": ".py",
   "mimetype": "text/x-python",
   "name": "python",
   "nbconvert_exporter": "python",
   "pygments_lexer": "ipython3",
   "version": "3.9.7"
  }
 },
 "nbformat": 4,
 "nbformat_minor": 4
}
