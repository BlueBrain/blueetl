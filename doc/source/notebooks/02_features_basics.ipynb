{
 "cells": [
  {
   "cell_type": "markdown",
   "id": "77549f7e-5466-43ef-a16f-979c728a3be3",
   "metadata": {},
   "source": [
    "# 02 Features basics"
   ]
  },
  {
   "cell_type": "markdown",
   "id": "72e576b5-87e4-4888-9e54-190e5fc766b3",
   "metadata": {},
   "source": [
    "Let's start with an existing analysis configuration, that we copy into a temporary location to be used as working directory."
   ]
  },
  {
   "cell_type": "code",
   "execution_count": null,
   "id": "59155af8-731c-4fac-a33d-d7ea3f86aa7e",
   "metadata": {
    "tags": []
   },
   "outputs": [],
   "source": [
    "from pathlib import Path\n",
    "import tempfile\n",
    "from blueetl.utils import copy_config\n",
    "\n",
    "workdir = tempfile.TemporaryDirectory(suffix=\"_blueetl\")\n",
    "workdir_path = Path(workdir.name)\n",
    "\n",
    "config_file = workdir_path / \"config.yaml\"\n",
    "copy_config(\"../data/analysis/config.yaml\", config_file)\n",
    "\n",
    "# print(config_file)\n",
    "# print(config_file.read_text())"
   ]
  },
  {
   "cell_type": "markdown",
   "id": "c552facc-fe36-4b3c-b8e1-7ba1e8ba0968",
   "metadata": {},
   "source": [
    "We can now initialize a MultiAnalyzer object with the following code, where you can specify different parameters if needed:"
   ]
  },
  {
   "cell_type": "code",
   "execution_count": null,
   "id": "bb347052-aa09-4df3-9f43-03f7e1cf2c73",
   "metadata": {
    "tags": []
   },
   "outputs": [],
   "source": [
    "from blueetl.analysis import run_from_file\n",
    "\n",
    "ma = run_from_file(\n",
    "    config_file,\n",
    "    extract=False,\n",
    "    calculate=False,\n",
    "    show=False,\n",
    "    clear_cache=True,\n",
    "    loglevel=\"ERROR\",\n",
    ")\n",
    "print(ma)"
   ]
  },
  {
   "cell_type": "markdown",
   "id": "ea4b2816-13f7-46b2-b192-10abf69a0827",
   "metadata": {},
   "source": [
    "Since we passed `extract=False` to the previous call, we have to extract the repository explicitly:"
   ]
  },
  {
   "cell_type": "code",
   "execution_count": null,
   "id": "754a871a-18d1-4cd7-93b0-8155272f9a9b",
   "metadata": {
    "tags": []
   },
   "outputs": [],
   "source": [
    "ma.extract_repo()"
   ]
  },
  {
   "cell_type": "markdown",
   "id": "b4b422a4-957b-408b-a21f-7615a0bb591a",
   "metadata": {
    "tags": []
   },
   "source": [
    "And since we passed `calculate=False` to the previous call, we have to calculate the features explicitly:"
   ]
  },
  {
   "cell_type": "code",
   "execution_count": null,
   "id": "c622f621-4b34-4bed-94da-258197152197",
   "metadata": {
    "tags": []
   },
   "outputs": [],
   "source": [
    "ma.calculate_features()"
   ]
  },
  {
   "cell_type": "markdown",
   "id": "b8a056ec-f3b3-416b-9eee-ee639c9bf57e",
   "metadata": {},
   "source": [
    "We can now inspect the list of analyses in the MultiAnalyzer object:"
   ]
  },
  {
   "cell_type": "code",
   "execution_count": null,
   "id": "e000ad32-23e1-4c1b-8d67-1635d4215826",
   "metadata": {
    "tags": []
   },
   "outputs": [],
   "source": [
    "ma.names"
   ]
  },
  {
   "cell_type": "markdown",
   "id": "e32c3194-1c6f-4d31-9257-a039574ebeb7",
   "metadata": {},
   "source": [
    "and access each of them as an Analyzer object:"
   ]
  },
  {
   "cell_type": "code",
   "execution_count": null,
   "id": "280b484f-6c00-4f46-9a51-cc507c63e855",
   "metadata": {
    "tags": []
   },
   "outputs": [],
   "source": [
    "ma.spikes"
   ]
  },
  {
   "cell_type": "markdown",
   "id": "32783ee6-d878-4ad3-8482-89fca82a9559",
   "metadata": {},
   "source": [
    "Each Analyzer object provides two special attributes: `repo` and `features`, that can be used to access the extracted data and the calculated features.\n",
    "\n",
    "You can inspect the list of extracted and calculated DataFrames calling `names` on them, as shown below:"
   ]
  },
  {
   "cell_type": "code",
   "execution_count": null,
   "id": "b8e2bdd8-b240-48b9-bc79-8aa4ac54740b",
   "metadata": {
    "tags": []
   },
   "outputs": [],
   "source": [
    "ma.spikes.repo.names"
   ]
  },
  {
   "cell_type": "code",
   "execution_count": null,
   "id": "36967ed4-7f13-4a3d-9bd4-579c6b35e02e",
   "metadata": {
    "tags": []
   },
   "outputs": [],
   "source": [
    "ma.spikes.features.names"
   ]
  },
  {
   "cell_type": "markdown",
   "id": "a7f9903e-9505-413f-8753-c47c74399d6b",
   "metadata": {},
   "source": [
    "You can access the wrapped DataFrames using the `df` attribute on each object:"
   ]
  },
  {
   "cell_type": "code",
   "execution_count": null,
   "id": "5a12b4c2-6628-48fc-b2f2-0ebd4cb76255",
   "metadata": {
    "tags": []
   },
   "outputs": [],
   "source": [
    "ma.spikes.repo.report.df"
   ]
  },
  {
   "cell_type": "markdown",
   "id": "c0380632-908b-4eaa-a5bf-a662dad552e0",
   "metadata": {},
   "source": [
    "The DataFrames of features can be accessed in the same way:"
   ]
  },
  {
   "cell_type": "code",
   "execution_count": null,
   "id": "f1d35541-6893-448d-af51-eeac55bcaa1b",
   "metadata": {
    "tags": []
   },
   "outputs": [],
   "source": [
    "ma.spikes.features.by_neuron_class_0_0__0.df"
   ]
  },
  {
   "cell_type": "markdown",
   "id": "1f15dd86-fa8a-483a-a7d0-fb7c7f1c6309",
   "metadata": {},
   "source": [
    "and in this case also the `attrs` dictionary attached to the DataFrame is populated with the parameters used for the computation:"
   ]
  },
  {
   "cell_type": "code",
   "execution_count": null,
   "id": "3b4a0e0f-e9b9-4830-9a76-9be1778afd53",
   "metadata": {
    "tags": []
   },
   "outputs": [],
   "source": [
    "ma.spikes.features.by_neuron_class_0_0__0.df.attrs"
   ]
  },
  {
   "cell_type": "markdown",
   "id": "41cc9894-40be-450d-a194-b9a058105d28",
   "metadata": {},
   "source": [
    "The parameters have been automatically calculated combining `params`, `params_product`, and `params_zip` from the original configuration.\n",
    "\n",
    "In this case, it may be convenient to access a single DataFrame contaning the concatenation of the features of the same type, where the varying parameters are added as new columns.\n",
    "\n",
    "The name of the DataFrame is the same as the split DataFrames, without the suffix:"
   ]
  },
  {
   "cell_type": "code",
   "execution_count": null,
   "id": "6e648314-6d93-482e-8242-f8ae88ab904c",
   "metadata": {
    "tags": []
   },
   "outputs": [],
   "source": [
    "ma.spikes.features.by_neuron_class.df"
   ]
  },
  {
   "cell_type": "markdown",
   "id": "fa4c7f34-2322-4449-9697-f87654fb867a",
   "metadata": {},
   "source": [
    "Note that the column names in the previous DataFrame have been shortened. You can see the full names in the `aliases` DataFrame:"
   ]
  },
  {
   "cell_type": "code",
   "execution_count": null,
   "id": "42102da1-570d-488b-a78b-a6892747876a",
   "metadata": {
    "tags": []
   },
   "outputs": [],
   "source": [
    "ma.spikes.features.by_neuron_class.aliases"
   ]
  },
  {
   "cell_type": "markdown",
   "id": "4b916a00-8993-4ffc-bd7e-2504572f2d9b",
   "metadata": {},
   "source": [
    "You can also inspect all the parameters that were used for the computation, accessing the `params` attribute:"
   ]
  },
  {
   "cell_type": "code",
   "execution_count": null,
   "id": "add70e96-187b-4f0c-85b4-ec537ffa2105",
   "metadata": {
    "tags": []
   },
   "outputs": [],
   "source": [
    "ma.spikes.features.by_neuron_class.params"
   ]
  },
  {
   "cell_type": "markdown",
   "id": "10fbbc7d-d735-4650-81ac-5b7ab226f50e",
   "metadata": {},
   "source": [
    "During the extraction and computation, some files have been created to be used as cache.\n",
    "\n",
    "Usually you don't need to access them directly, and if they are deleted they will be created again at the next run.\n",
    "\n",
    "They may be automatically deleted when the cache is invalidated."
   ]
  },
  {
   "cell_type": "code",
   "execution_count": null,
   "id": "2228877b-4f0e-4e18-8bc6-2c076b57a55d",
   "metadata": {
    "tags": []
   },
   "outputs": [],
   "source": [
    "!cd {workdir.name} && tree"
   ]
  },
  {
   "cell_type": "markdown",
   "id": "3abe4af9-f74b-4917-84a4-335f26474677",
   "metadata": {},
   "source": [
    "You can remove the full working directory if you don't need it anymore:"
   ]
  },
  {
   "cell_type": "code",
   "execution_count": null,
   "id": "9101b235-cc28-46c4-b847-b2c4d0203494",
   "metadata": {
    "tags": []
   },
   "outputs": [],
   "source": [
    "workdir.cleanup()"
   ]
  }
 ],
 "metadata": {
  "kernelspec": {
   "display_name": "Python 3 (ipykernel)",
   "language": "python",
   "name": "python3"
  },
  "language_info": {
   "codemirror_mode": {
    "name": "ipython",
    "version": 3
   },
   "file_extension": ".py",
   "mimetype": "text/x-python",
   "name": "python",
   "nbconvert_exporter": "python",
   "pygments_lexer": "ipython3",
   "version": "3.11.1"
  }
 },
 "nbformat": 4,
 "nbformat_minor": 5
}
