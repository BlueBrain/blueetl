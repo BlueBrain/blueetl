{
 "cells": [
  {
   "cell_type": "code",
   "execution_count": 1,
   "id": "786794bd",
   "metadata": {
    "ExecuteTime": {
     "end_time": "2021-08-03T09:53:08.819737Z",
     "start_time": "2021-08-03T09:53:07.975159Z"
    }
   },
   "outputs": [],
   "source": [
    "%matplotlib inline\n",
    "%config InlineBackend.figure_format = 'retina'\n",
    "\n",
    "import pandas as pd\n",
    "import numpy as np"
   ]
  },
  {
   "cell_type": "code",
   "execution_count": 2,
   "id": "43426006",
   "metadata": {
    "ExecuteTime": {
     "end_time": "2021-08-03T09:53:09.679825Z",
     "start_time": "2021-08-03T09:53:09.548191Z"
    }
   },
   "outputs": [
    {
     "data": {
      "text/plain": [
       "seed    series_seed  simulations  stimulus  stimulus_id\n",
       "85387   12245        first        0         4918           [[1.0, 1.0, 1.0, 1.0, 0.0, 1.0, 0.0, 1.0, 1.0,...\n",
       "                                            180160         [[0.0, 0.0, 1.0, 1.0, 0.0, 0.0, 0.0, 0.0, 1.0,...\n",
       "                                            227728         [[1.0, 1.0, 0.0, 0.0, 0.0, 0.0, 1.0, 1.0, 1.0,...\n",
       "                                            294899         [[1.0, 1.0, 0.0, 0.0, 0.0, 1.0, 0.0, 1.0, 0.0,...\n",
       "                                            366797         [[0.0, 0.0, 0.0, 0.0, 0.0, 1.0, 1.0, 1.0, 0.0,...\n",
       "                                                                                 ...                        \n",
       "979676  5905072      last         4         294899         [[1.0, 1.0, 1.0, 0.0, 0.0, 1.0, 0.0, 0.0, 1.0,...\n",
       "                                            366797         [[0.0, 1.0, 1.0, 1.0, 0.0, 1.0, 1.0, 1.0, 1.0,...\n",
       "                                            408166         [[0.0, 0.0, 0.0, 0.0, 0.0, 1.0, 0.0, 1.0, 0.0,...\n",
       "                                            599593         [[0.0, 1.0, 1.0, 1.0, 1.0, 0.0, 1.0, 0.0, 1.0,...\n",
       "                                            983115         [[0.0, 0.0, 0.0, 1.0, 0.0, 1.0, 0.0, 0.0, 0.0,...\n",
       "Length: 576, dtype: object"
      ]
     },
     "metadata": {},
     "output_type": "display_data"
    }
   ],
   "source": [
    "seed = [85387, 167102, 578561, 979676]\n",
    "series_seed = [12245, 23928, 5905072]\n",
    "simulations = ['first', 'last']\n",
    "stimulus = [0, 1, 4]\n",
    "stimulus_id = [4918, 180160, 227728, 294899, 366797, 408166, 599593, 983115]\n",
    "n_times = 6\n",
    "n_neurons = 1000\n",
    "\n",
    "index = pd.MultiIndex.from_product(\n",
    "    [seed, series_seed, simulations, stimulus, stimulus_id],\n",
    "    names=['seed', 'series_seed', 'simulations', 'stimulus', 'stimulus_id']\n",
    ")\n",
    "\n",
    "np.random.seed(0)\n",
    "values = [np.random.rand(n_times * n_neurons).round().reshape(n_times, n_neurons) for i in range(len(index))]\n",
    "raw = pd.Series(values, index=index)\n",
    "display(raw)"
   ]
  },
  {
   "cell_type": "code",
   "execution_count": 3,
   "id": "89372d98",
   "metadata": {
    "ExecuteTime": {
     "end_time": "2021-08-03T09:53:11.928843Z",
     "start_time": "2021-08-03T09:53:11.167759Z"
    }
   },
   "outputs": [
    {
     "name": "stdout",
     "output_type": "stream",
     "text": [
      "seed: [85387, 167102, 578561, 979676]\n",
      "series_seed: [12245, 23928, 5905072]\n",
      "simulations: ['first', 'last']\n",
      "stimulus: [0, 1, 4]\n",
      "stimulus_id: [4918, 180160, 227728, 294899, 366797, 408166, 599593, 983115]\n"
     ]
    }
   ],
   "source": [
    "import simProjectAnalysis as spa\n",
    "data = spa.ConditionCollection.from_pandas(raw)\n",
    "for cond in data.conditions():\n",
    "    print(\"{0}: {1}\".format(cond, data.labels_of(cond)))\n"
   ]
  },
  {
   "cell_type": "code",
   "execution_count": 4,
   "id": "5388cd68",
   "metadata": {
    "ExecuteTime": {
     "end_time": "2021-08-03T09:53:12.779984Z",
     "start_time": "2021-08-03T09:53:12.770038Z"
    }
   },
   "outputs": [
    {
     "name": "stdout",
     "output_type": "stream",
     "text": [
      "seed: [85387, 167102, 578561, 979676]\n",
      "series_seed: [12245, 23928, 5905072]\n",
      "simulations: ['first', 'last']\n",
      "stimulus: [1]\n",
      "stimulus_id: [4918, 180160, 227728, 294899, 366797, 408166, 599593, 983115]\n"
     ]
    }
   ],
   "source": [
    "tmp = data.filter(stimulus=1)\n",
    "for cond in tmp.conditions():\n",
    "    print(\"{0}: {1}\".format(cond, tmp.labels_of(cond)))"
   ]
  },
  {
   "cell_type": "code",
   "execution_count": 5,
   "id": "727e01d1",
   "metadata": {
    "ExecuteTime": {
     "end_time": "2021-08-03T09:53:14.117711Z",
     "start_time": "2021-08-03T09:53:14.037992Z"
    }
   },
   "outputs": [
    {
     "data": {
      "text/plain": [
       "seed    simulations  stimulus_id\n",
       "85387   first        4918           [[1.0, 1.0, 1.0, 1.0, 0.0, 1.0, 0.0, 1.0, 1.0,...\n",
       "                     180160         [[0.0, 0.0, 1.0, 1.0, 0.0, 0.0, 0.0, 0.0, 1.0,...\n",
       "                     227728         [[1.0, 1.0, 0.0, 0.0, 0.0, 0.0, 1.0, 1.0, 1.0,...\n",
       "                     294899         [[1.0, 1.0, 0.0, 0.0, 0.0, 1.0, 0.0, 1.0, 0.0,...\n",
       "                     366797         [[0.0, 0.0, 0.0, 0.0, 0.0, 1.0, 1.0, 1.0, 0.0,...\n",
       "                                                          ...                        \n",
       "979676  last         294899         [[1.0, 1.0, 1.0, 0.0, 0.0, 1.0, 0.0, 0.0, 1.0,...\n",
       "                     366797         [[0.0, 1.0, 1.0, 1.0, 0.0, 1.0, 1.0, 1.0, 1.0,...\n",
       "                     408166         [[0.0, 0.0, 0.0, 0.0, 0.0, 1.0, 0.0, 1.0, 0.0,...\n",
       "                     599593         [[0.0, 1.0, 1.0, 1.0, 1.0, 0.0, 1.0, 0.0, 1.0,...\n",
       "                     983115         [[0.0, 0.0, 0.0, 1.0, 0.0, 1.0, 0.0, 0.0, 0.0,...\n",
       "Length: 576, dtype: object"
      ]
     },
     "metadata": {},
     "output_type": "display_data"
    }
   ],
   "source": [
    "data = data.remove_label(\"series_seed\")\n",
    "data = data.remove_label(\"stimulus\")\n",
    "display(data.to_pandas())"
   ]
  },
  {
   "cell_type": "code",
   "execution_count": 6,
   "id": "c9047014",
   "metadata": {
    "ExecuteTime": {
     "end_time": "2021-08-03T09:53:15.487601Z",
     "start_time": "2021-08-03T09:53:15.480193Z"
    }
   },
   "outputs": [
    {
     "data": {
      "text/plain": [
       "(6, 1000)"
      ]
     },
     "execution_count": 6,
     "metadata": {},
     "output_type": "execute_result"
    }
   ],
   "source": [
    "data.get()[0].shape"
   ]
  },
  {
   "cell_type": "code",
   "execution_count": 7,
   "id": "9ced0c22",
   "metadata": {
    "ExecuteTime": {
     "end_time": "2021-08-03T09:55:06.328744Z",
     "start_time": "2021-08-03T09:53:17.171148Z"
    }
   },
   "outputs": [
    {
     "name": "stderr",
     "output_type": "stream",
     "text": [
      "__metadata__--> 57599|                                                                                                                                                                                    \n"
     ]
    }
   ],
   "source": [
    "indices = range(200, 300)\n",
    "\n",
    "def split_into_neurons(in_result):\n",
    "    for idx in indices:\n",
    "        yield in_result.res[:, idx], {\"neuron_index\": idx}\n",
    "\n",
    "data.unpool(split_into_neurons)"
   ]
  },
  {
   "cell_type": "code",
   "execution_count": 8,
   "id": "22b87399",
   "metadata": {
    "ExecuteTime": {
     "end_time": "2021-08-03T09:55:43.891999Z",
     "start_time": "2021-08-03T09:55:43.745314Z"
    }
   },
   "outputs": [
    {
     "data": {
      "text/plain": [
       "seed    simulations  stimulus_id  neuron_index\n",
       "85387   first        4918         200             [0.0, 0.0, 0.0, 1.0, 1.0, 1.0]\n",
       "                                  201             [1.0, 1.0, 1.0, 0.0, 0.0, 0.0]\n",
       "                                  202             [0.0, 1.0, 0.0, 1.0, 0.0, 0.0]\n",
       "                                  203             [0.0, 1.0, 1.0, 1.0, 1.0, 0.0]\n",
       "                                  204             [0.0, 1.0, 1.0, 0.0, 0.0, 1.0]\n",
       "                                                               ...              \n",
       "979676  last         983115       295             [0.0, 1.0, 1.0, 1.0, 0.0, 1.0]\n",
       "                                  296             [0.0, 0.0, 0.0, 0.0, 1.0, 0.0]\n",
       "                                  297             [0.0, 1.0, 1.0, 0.0, 0.0, 0.0]\n",
       "                                  298             [1.0, 0.0, 0.0, 1.0, 0.0, 0.0]\n",
       "                                  299             [1.0, 0.0, 1.0, 0.0, 1.0, 1.0]\n",
       "Length: 57600, dtype: object"
      ]
     },
     "metadata": {},
     "output_type": "display_data"
    },
    {
     "data": {
      "text/plain": [
       "(6,)"
      ]
     },
     "execution_count": 8,
     "metadata": {},
     "output_type": "execute_result"
    }
   ],
   "source": [
    "display(data.to_pandas())\n",
    "data.get()[0].shape"
   ]
  },
  {
   "cell_type": "code",
   "execution_count": 9,
   "id": "e2fe172c",
   "metadata": {
    "ExecuteTime": {
     "end_time": "2021-08-03T09:55:46.615919Z",
     "start_time": "2021-08-03T09:55:45.415097Z"
    }
   },
   "outputs": [
    {
     "data": {
      "text/plain": [
       "seed    simulations  stimulus_id  neuron_index\n",
       "85387   first        4918         200             0.500000\n",
       "                                  201             0.500000\n",
       "                                  202             0.333333\n",
       "                                  203             0.666667\n",
       "                                  204             0.500000\n",
       "                                                    ...   \n",
       "979676  last         983115       295             0.666667\n",
       "                                  296             0.166667\n",
       "                                  297             0.333333\n",
       "                                  298             0.333333\n",
       "                                  299             0.666667\n",
       "Length: 57600, dtype: float64"
      ]
     },
     "metadata": {},
     "output_type": "display_data"
    }
   ],
   "source": [
    "mean_response = data.map(np.mean)\n",
    "display(mean_response.to_pandas())"
   ]
  },
  {
   "cell_type": "code",
   "execution_count": 10,
   "id": "fffd4fe2",
   "metadata": {
    "ExecuteTime": {
     "end_time": "2021-08-03T09:55:58.891397Z",
     "start_time": "2021-08-03T09:55:48.039085Z"
    }
   },
   "outputs": [
    {
     "data": {
      "text/plain": [
       "simulations  seed    neuron_index\n",
       "first        85387   200             0.977047\n",
       "                     201             0.971147\n",
       "                     202             0.974876\n",
       "                     203             0.982291\n",
       "                     204             0.980935\n",
       "                                       ...   \n",
       "last         979676  295             0.977905\n",
       "                     296             0.975839\n",
       "                     297             0.975716\n",
       "                     298             0.969266\n",
       "                     299             0.977476\n",
       "Length: 800, dtype: float64"
      ]
     },
     "metadata": {},
     "output_type": "display_data"
    }
   ],
   "source": [
    "from scipy.stats import entropy\n",
    "\n",
    "def response_entropy(lst_responses):\n",
    "    return entropy(lst_responses, base=2) / np.log2(len(lst_responses))\n",
    "\n",
    "response_entropy_stims = mean_response.pool([\"stimulus_id\"], func=response_entropy)\n",
    "display(response_entropy_stims.to_pandas())"
   ]
  },
  {
   "cell_type": "code",
   "execution_count": 11,
   "id": "05dc930b",
   "metadata": {
    "ExecuteTime": {
     "end_time": "2021-08-03T09:56:04.677598Z",
     "start_time": "2021-08-03T09:56:04.665170Z"
    }
   },
   "outputs": [
    {
     "data": {
      "text/plain": [
       "0.978633414978212"
      ]
     },
     "execution_count": 11,
     "metadata": {},
     "output_type": "execute_result"
    }
   ],
   "source": [
    "np.nanmean(response_entropy_stims.filter(simulations=\"first\").get())"
   ]
  },
  {
   "cell_type": "code",
   "execution_count": 12,
   "id": "db962419",
   "metadata": {
    "ExecuteTime": {
     "end_time": "2021-08-03T09:56:06.669103Z",
     "start_time": "2021-08-03T09:56:06.656252Z"
    }
   },
   "outputs": [
    {
     "data": {
      "text/plain": [
       "0.9782904973307328"
      ]
     },
     "execution_count": 12,
     "metadata": {},
     "output_type": "execute_result"
    }
   ],
   "source": [
    "np.nanmean(response_entropy_stims.filter(simulations=\"last\").get())"
   ]
  },
  {
   "cell_type": "code",
   "execution_count": 13,
   "id": "f42446d9",
   "metadata": {
    "ExecuteTime": {
     "end_time": "2021-08-03T09:56:07.683165Z",
     "start_time": "2021-08-03T09:56:07.581230Z"
    }
   },
   "outputs": [
    {
     "data": {
      "text/plain": [
       "seed    neuron_index\n",
       "85387   200            -0.004339\n",
       "        201            -0.003890\n",
       "        202            -0.010411\n",
       "        203             0.001226\n",
       "        204            -0.002496\n",
       "                          ...   \n",
       "979676  295             0.004445\n",
       "        296            -0.005598\n",
       "        297             0.008398\n",
       "        298             0.011020\n",
       "        299             0.001477\n",
       "Length: 400, dtype: float64"
      ]
     },
     "execution_count": 13,
     "metadata": {},
     "output_type": "execute_result"
    }
   ],
   "source": [
    "def difference_first_last(lst_str, lst_vals):\n",
    "    if not \"first\" in lst_str or not \"last\" in lst_str:\n",
    "        return np.NaN\n",
    "    i = lst_str.index(\"first\")\n",
    "    j = lst_str.index(\"last\")\n",
    "    return lst_vals[i] - lst_vals[j]\n",
    "\n",
    "change_in_response_entropy_stims = response_entropy_stims.pool(\n",
    "    [\"simulations\"], func=difference_first_last, xy=True\n",
    ")\n",
    "change_in_response_entropy_stims.to_pandas()"
   ]
  },
  {
   "cell_type": "code",
   "execution_count": 14,
   "id": "63732435",
   "metadata": {
    "ExecuteTime": {
     "end_time": "2021-08-03T09:56:10.176189Z",
     "start_time": "2021-08-03T09:56:09.942085Z"
    },
    "scrolled": false
   },
   "outputs": [
    {
     "data": {
      "text/plain": [
       "<ErrorbarContainer object of 3 artists>"
      ]
     },
     "execution_count": 14,
     "metadata": {},
     "output_type": "execute_result"
    },
    {
     "data": {
      "image/png": "[encoded data removed]",
      "text/plain": [
       "<Figure size 432x288 with 1 Axes>"
      ]
     },
     "metadata": {
      "image/png": {
       "height": 248,
       "width": 393
      },
      "needs_background": "light"
     },
     "output_type": "display_data"
    }
   ],
   "source": [
    "%matplotlib inline\n",
    "\n",
    "change_stims_lst = change_in_response_entropy_stims.pool([\"seed\"], func=np.array)\n",
    "change_stims_mn = change_stims_lst.map(np.nanmean)\n",
    "change_stims_sd = change_stims_lst.map(np.nanstd)\n",
    "\n",
    "x, mn = change_stims_mn.get_x_y(\"neuron_index\")\n",
    "sd = change_stims_sd.get()\n",
    "from matplotlib import pyplot as plt\n",
    "plt.errorbar(x, mn, yerr=sd)"
   ]
  },
  {
   "cell_type": "code",
   "execution_count": 15,
   "id": "1a0489d9",
   "metadata": {
    "ExecuteTime": {
     "end_time": "2021-08-03T09:56:33.072513Z",
     "start_time": "2021-08-03T09:56:11.516748Z"
    }
   },
   "outputs": [
    {
     "data": {
      "text/plain": [
       "<ErrorbarContainer object of 3 artists>"
      ]
     },
     "execution_count": 15,
     "metadata": {},
     "output_type": "execute_result"
    },
    {
     "data": {
      "image/png": "[encoded data removed]",
      "text/plain": [
       "<Figure size 432x288 with 1 Axes>"
      ]
     },
     "metadata": {
      "image/png": {
       "height": 248,
       "width": 393
      },
      "needs_background": "light"
     },
     "output_type": "display_data"
    }
   ],
   "source": [
    "response_entropy_reps = mean_response.pool([\"seed\"], func=response_entropy)\n",
    "change_in_response_entropy_reps = response_entropy_reps.pool([\"simulations\"], func=difference_first_last, xy=True)\n",
    "\n",
    "change_reps_lst = change_in_response_entropy_reps.pool([\"stimulus_id\"], func=np.array)\n",
    "change_reps_mn = change_reps_lst.map(np.nanmean)\n",
    "change_reps_sd = change_reps_lst.map(np.nanstd)\n",
    "\n",
    "\n",
    "x, mn = change_reps_mn.get_x_y(\"neuron_index\")\n",
    "sd = change_reps_sd.get()\n",
    "plt.errorbar(x, mn, yerr=sd)\n"
   ]
  },
  {
   "cell_type": "code",
   "execution_count": 16,
   "id": "c9162706",
   "metadata": {
    "ExecuteTime": {
     "end_time": "2021-08-03T09:56:33.098423Z",
     "start_time": "2021-08-03T09:56:33.074925Z"
    },
    "scrolled": false
   },
   "outputs": [
    {
     "data": {
      "text/plain": [
       "neuron_index\n",
       "200             [-0.0043391160607407775, -0.003501428236283632...\n",
       "201             [-0.003889770571593676, 0.005151607234236244, ...\n",
       "202             [-0.010411389817057248, 0.00909843517483222, -...\n",
       "203             [0.001225925403144923, -0.0055892349937192165,...\n",
       "204             [-0.00249642230139413, 0.003172691828703611, -...\n",
       "                                      ...                        \n",
       "295             [0.016013192047242608, 0.004594144234846942, -...\n",
       "296             [-0.0037048497008692616, -0.009988428146137429...\n",
       "297             [-0.004889036981924555, -0.00188700866360203, ...\n",
       "298             [-0.0072212122827081116, -0.005531930739711477...\n",
       "299             [0.010413440501411131, 0.005806811450061233, 0...\n",
       "Length: 100, dtype: object"
      ]
     },
     "metadata": {},
     "output_type": "display_data"
    },
    {
     "data": {
      "text/plain": [
       "neuron_index\n",
       "200             [-0.005764175718614428, -0.009957545134492096,...\n",
       "201             [-0.005681710875710233, -0.0042184747935247735...\n",
       "202             [-0.019224295335098174, 0.011696587753735055, ...\n",
       "203             [0.00023701215438720613, -0.018043146249577258...\n",
       "204             [0.004675033912619697, 0.009602055198531745, 0...\n",
       "                                      ...                        \n",
       "295             [-0.0032429436130679834, -0.009672359002408482...\n",
       "296             [-0.004684001384546388, -0.0024912183652565645...\n",
       "297             [0.01676768493497005, -0.008404363751055688, -...\n",
       "298             [-0.008698786917750612, -0.0037261618435626698...\n",
       "299             [-0.0007860816892352185, 0.01737290132166447, ...\n",
       "Length: 100, dtype: object"
      ]
     },
     "metadata": {},
     "output_type": "display_data"
    }
   ],
   "source": [
    "display(change_stims_lst.to_pandas())\n",
    "display(change_reps_lst.to_pandas())"
   ]
  },
  {
   "cell_type": "code",
   "execution_count": 17,
   "id": "932bb755",
   "metadata": {
    "ExecuteTime": {
     "end_time": "2021-08-03T09:56:45.979020Z",
     "start_time": "2021-08-03T09:56:45.902680Z"
    },
    "scrolled": true
   },
   "outputs": [
    {
     "data": {
      "text/plain": [
       "neuron_index\n",
       "200             0.752806\n",
       "201             0.999093\n",
       "202             0.990077\n",
       "203             0.839344\n",
       "204             0.934348\n",
       "                  ...   \n",
       "295             0.872998\n",
       "296             0.808323\n",
       "297             0.920983\n",
       "298             0.890222\n",
       "299             0.884827\n",
       "Length: 100, dtype: float64"
      ]
     },
     "execution_count": 17,
     "metadata": {},
     "output_type": "execute_result"
    }
   ],
   "source": [
    "from scipy.stats import ttest_ind\n",
    "\n",
    "def test_wo_nans(a, b):\n",
    "    return ttest_ind(a[~np.isnan(a)], b[~np.isnan(b)]).pvalue\n",
    "\n",
    "test_res = change_stims_lst.extended_map(test_wo_nans, [change_reps_lst], iterate_inner=True)\n",
    "test_res.to_pandas()\n"
   ]
  },
  {
   "cell_type": "code",
   "execution_count": 18,
   "id": "ee0840eb",
   "metadata": {
    "ExecuteTime": {
     "end_time": "2021-08-03T09:56:48.381854Z",
     "start_time": "2021-08-03T09:56:48.305043Z"
    }
   },
   "outputs": [
    {
     "data": {
      "text/plain": [
       "<simProjectAnalysis.structures.data_structures.ConditionCollection at 0x12ebd3880>"
      ]
     },
     "metadata": {},
     "output_type": "display_data"
    },
    {
     "data": {
      "text/plain": [
       "neuron_index\n",
       "200             0.752806\n",
       "201             0.999093\n",
       "202             0.990077\n",
       "203             0.839344\n",
       "204             0.934348\n",
       "                  ...   \n",
       "295             0.872998\n",
       "296             0.808323\n",
       "297             0.920983\n",
       "298             0.890222\n",
       "299             0.884827\n",
       "Length: 100, dtype: float64"
      ]
     },
     "execution_count": 18,
     "metadata": {},
     "output_type": "execute_result"
    }
   ],
   "source": [
    "change_stims_lst.add_label(\"entropy_cond\", \"stimuli\")\n",
    "change_reps_lst.add_label(\"entropy_cond\", \"repetitions\")\n",
    "change_stims_lst.merge(change_reps_lst)\n",
    "display(change_reps_lst)\n",
    "\n",
    "def test_wo_nans(args):\n",
    "    a, b = args\n",
    "    return ttest_ind(a[~np.isnan(a)], b[~np.isnan(b)]).pvalue\n",
    "\n",
    "test_res2 = change_stims_lst.pool([\"entropy_cond\"], func=test_wo_nans)\n",
    "test_res2.to_pandas()\n"
   ]
  },
  {
   "cell_type": "code",
   "execution_count": null,
   "id": "1dac2f76",
   "metadata": {},
   "outputs": [],
   "source": []
  }
 ],
 "metadata": {
  "kernelspec": {
   "display_name": "Python 3 (ipykernel)",
   "language": "python",
   "name": "python3"
  },
  "language_info": {
   "codemirror_mode": {
    "name": "ipython",
    "version": 3
   },
   "file_extension": ".py",
   "mimetype": "text/x-python",
   "name": "python",
   "nbconvert_exporter": "python",
   "pygments_lexer": "ipython3",
   "version": "3.8.5"
  }
 },
 "nbformat": 4,
 "nbformat_minor": 5
}
