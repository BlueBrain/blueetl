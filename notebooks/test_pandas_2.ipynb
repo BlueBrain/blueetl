{
 "cells": [
  {
   "cell_type": "code",
   "execution_count": 1,
   "id": "f6c42814",
   "metadata": {
    "ExecuteTime": {
     "end_time": "2021-08-03T09:52:15.437177Z",
     "start_time": "2021-08-03T09:52:14.572005Z"
    }
   },
   "outputs": [],
   "source": [
    "%matplotlib inline\n",
    "%config InlineBackend.figure_format = 'retina'\n",
    "\n",
    "import pandas as pd\n",
    "import numpy as np"
   ]
  },
  {
   "cell_type": "code",
   "execution_count": 2,
   "id": "a0c3c889",
   "metadata": {
    "ExecuteTime": {
     "end_time": "2021-08-03T09:52:16.242460Z",
     "start_time": "2021-08-03T09:52:16.110292Z"
    }
   },
   "outputs": [
    {
     "data": {
      "text/plain": [
       "seed    series_seed  simulations  stimulus  stimulus_id\n",
       "85387   12245        first        0         4918           [[0.5, 0.7, 0.6, 0.5, 0.4, 0.6, 0.4, 0.9, 1.0,...\n",
       "                                            180160         [[0.4, 0.4, 0.7, 0.6, 0.1, 0.2, 0.1, 0.0, 0.8,...\n",
       "                                            227728         [[0.6, 0.8, 0.4, 0.5, 0.1, 0.3, 0.9, 0.9, 0.6,...\n",
       "                                            294899         [[0.8, 0.9, 0.4, 0.3, 0.5, 0.9, 0.1, 0.6, 0.3,...\n",
       "                                            366797         [[0.2, 0.0, 0.2, 0.5, 0.3, 0.6, 0.9, 0.7, 0.2,...\n",
       "                                                                                 ...                        \n",
       "979676  5905072      last         4         294899         [[1.0, 0.9, 0.9, 0.2, 0.3, 0.7, 0.4, 0.1, 0.6,...\n",
       "                                            366797         [[0.5, 0.8, 0.6, 0.8, 0.1, 0.6, 0.8, 0.6, 0.8,...\n",
       "                                            408166         [[0.1, 0.2, 0.4, 0.5, 0.2, 1.0, 0.3, 0.9, 0.3,...\n",
       "                                            599593         [[0.1, 0.6, 0.6, 0.8, 0.6, 0.0, 0.9, 0.4, 0.7,...\n",
       "                                            983115         [[0.3, 0.5, 0.2, 0.6, 0.3, 0.5, 0.4, 0.4, 0.2,...\n",
       "Length: 576, dtype: object"
      ]
     },
     "metadata": {},
     "output_type": "display_data"
    }
   ],
   "source": [
    "seed = [85387, 167102, 578561, 979676]\n",
    "series_seed = [12245, 23928, 5905072]\n",
    "simulations = ['first', 'last']\n",
    "stimulus = [0, 1, 4]\n",
    "stimulus_id = [4918, 180160, 227728, 294899, 366797, 408166, 599593, 983115]\n",
    "# seed = [85387, 167102]\n",
    "# series_seed = [12245, 23928]\n",
    "# simulations = ['first', 'last']\n",
    "# stimulus = [0, 1]\n",
    "# stimulus_id = [4918, 180160]\n",
    "\n",
    "n_times = 6\n",
    "n_neurons = 1000\n",
    "\n",
    "index = pd.MultiIndex.from_product(\n",
    "    [seed, series_seed, simulations, stimulus, stimulus_id],\n",
    "    names=['seed', 'series_seed', 'simulations', 'stimulus', 'stimulus_id']\n",
    ")\n",
    "\n",
    "np.random.seed(0)\n",
    "values = [np.random.rand(n_times * n_neurons).round(1).reshape(n_times, n_neurons) for i in range(len(index))]\n",
    "raw = pd.Series(values, index=index)\n",
    "display(raw)"
   ]
  },
  {
   "cell_type": "code",
   "execution_count": 3,
   "id": "b9b2ad19",
   "metadata": {
    "ExecuteTime": {
     "end_time": "2021-08-03T09:52:16.890757Z",
     "start_time": "2021-08-03T09:52:16.882299Z"
    },
    "scrolled": true
   },
   "outputs": [
    {
     "name": "stdout",
     "output_type": "stream",
     "text": [
      "seed: [85387, 167102, 578561, 979676]\n",
      "series_seed: [12245, 23928, 5905072]\n",
      "simulations: ['first', 'last']\n",
      "stimulus: [0, 1, 4]\n",
      "stimulus_id: [4918, 180160, 227728, 294899, 366797, 408166, 599593, 983115]\n"
     ]
    }
   ],
   "source": [
    "for name, labels in zip(raw.index.names, raw.index.levels):\n",
    "    print(\"{}: {}\".format(name, list(labels)))"
   ]
  },
  {
   "cell_type": "code",
   "execution_count": 4,
   "id": "bc01b53d",
   "metadata": {
    "ExecuteTime": {
     "end_time": "2021-08-03T09:52:17.635773Z",
     "start_time": "2021-08-03T09:52:17.625991Z"
    }
   },
   "outputs": [
    {
     "name": "stdout",
     "output_type": "stream",
     "text": [
      "seed: [85387, 167102, 578561, 979676]\n",
      "series_seed: [12245, 23928, 5905072]\n",
      "simulations: ['first', 'last']\n",
      "stimulus_id: [4918, 180160, 227728, 294899, 366797, 408166, 599593, 983115]\n"
     ]
    }
   ],
   "source": [
    "tmp = raw.xs(level=\"stimulus\", key=1, axis=\"index\", drop_level=True)\n",
    "for name, labels in zip(tmp.index.names, tmp.index.levels):\n",
    "    print(\"{}: {}\".format(name, list(labels)))"
   ]
  },
  {
   "cell_type": "code",
   "execution_count": 5,
   "id": "67e11dcc",
   "metadata": {
    "ExecuteTime": {
     "end_time": "2021-08-03T09:52:18.465034Z",
     "start_time": "2021-08-03T09:52:18.389693Z"
    }
   },
   "outputs": [
    {
     "data": {
      "text/plain": [
       "seed    simulations  stimulus_id\n",
       "85387   first        4918           [[0.5, 0.7, 0.6, 0.5, 0.4, 0.6, 0.4, 0.9, 1.0,...\n",
       "                     180160         [[0.4, 0.4, 0.7, 0.6, 0.1, 0.2, 0.1, 0.0, 0.8,...\n",
       "                     227728         [[0.6, 0.8, 0.4, 0.5, 0.1, 0.3, 0.9, 0.9, 0.6,...\n",
       "                     294899         [[0.8, 0.9, 0.4, 0.3, 0.5, 0.9, 0.1, 0.6, 0.3,...\n",
       "                     366797         [[0.2, 0.0, 0.2, 0.5, 0.3, 0.6, 0.9, 0.7, 0.2,...\n",
       "                                                          ...                        \n",
       "979676  last         294899         [[1.0, 0.9, 0.9, 0.2, 0.3, 0.7, 0.4, 0.1, 0.6,...\n",
       "                     366797         [[0.5, 0.8, 0.6, 0.8, 0.1, 0.6, 0.8, 0.6, 0.8,...\n",
       "                     408166         [[0.1, 0.2, 0.4, 0.5, 0.2, 1.0, 0.3, 0.9, 0.3,...\n",
       "                     599593         [[0.1, 0.6, 0.6, 0.8, 0.6, 0.0, 0.9, 0.4, 0.7,...\n",
       "                     983115         [[0.3, 0.5, 0.2, 0.6, 0.3, 0.5, 0.4, 0.4, 0.2,...\n",
       "Length: 576, dtype: object"
      ]
     },
     "metadata": {},
     "output_type": "display_data"
    }
   ],
   "source": [
    "raw = raw.droplevel([\"series_seed\", \"stimulus\"], axis=\"index\")\n",
    "display(raw)"
   ]
  },
  {
   "cell_type": "code",
   "execution_count": 6,
   "id": "93b7e1e2",
   "metadata": {
    "ExecuteTime": {
     "end_time": "2021-08-03T09:52:19.242524Z",
     "start_time": "2021-08-03T09:52:19.234033Z"
    }
   },
   "outputs": [
    {
     "data": {
      "text/plain": [
       "(6, 1000)"
      ]
     },
     "execution_count": 6,
     "metadata": {},
     "output_type": "execute_result"
    }
   ],
   "source": [
    "raw.iloc[0].shape"
   ]
  },
  {
   "cell_type": "code",
   "execution_count": 7,
   "id": "0e1887fd",
   "metadata": {
    "ExecuteTime": {
     "end_time": "2021-08-03T09:52:20.362041Z",
     "start_time": "2021-08-03T09:52:20.165308Z"
    }
   },
   "outputs": [],
   "source": [
    "indices = range(200, 300)\n",
    "\n",
    "def split_into_neurons(x):\n",
    "    return pd.Series(\n",
    "        (i for i in x[:, indices].transpose()),\n",
    "        index=pd.Index(indices, name=\"neuron_index\"),\n",
    "    )\n",
    "\n",
    "raw = raw.apply(split_into_neurons).stack()\n",
    "raw_unpooled = raw"
   ]
  },
  {
   "cell_type": "code",
   "execution_count": 8,
   "id": "66859ab2",
   "metadata": {
    "ExecuteTime": {
     "end_time": "2021-08-03T09:52:20.966018Z",
     "start_time": "2021-08-03T09:52:20.947835Z"
    }
   },
   "outputs": [
    {
     "data": {
      "text/plain": [
       "seed    simulations  stimulus_id  neuron_index\n",
       "85387   first        4918         200             [0.3, 0.3, 0.1, 0.9, 0.6, 0.6]\n",
       "                                  201             [0.7, 0.9, 0.8, 0.4, 0.3, 0.2]\n",
       "                                  202             [0.4, 0.9, 0.3, 0.8, 0.2, 0.3]\n",
       "                                  203             [0.2, 0.9, 0.6, 0.7, 0.7, 0.2]\n",
       "                                  204             [0.0, 0.7, 0.6, 0.3, 0.2, 0.6]\n",
       "                                                               ...              \n",
       "979676  last         983115       295             [0.3, 0.8, 0.6, 0.9, 0.3, 0.7]\n",
       "                                  296             [0.1, 0.2, 0.3, 0.4, 0.6, 0.5]\n",
       "                                  297             [0.4, 0.8, 0.9, 0.2, 0.4, 0.4]\n",
       "                                  298             [0.8, 0.4, 0.2, 0.7, 0.1, 0.4]\n",
       "                                  299             [0.5, 0.2, 0.8, 0.1, 0.9, 0.8]\n",
       "Length: 57600, dtype: object"
      ]
     },
     "metadata": {},
     "output_type": "display_data"
    },
    {
     "data": {
      "text/plain": [
       "(6,)"
      ]
     },
     "metadata": {},
     "output_type": "display_data"
    }
   ],
   "source": [
    "display(raw)\n",
    "display(raw.iloc[0].shape)"
   ]
  },
  {
   "cell_type": "markdown",
   "id": "dc61a1da",
   "metadata": {},
   "source": [
    "NEWLY ADDED CELL: Generate a shuffled control"
   ]
  },
  {
   "cell_type": "code",
   "execution_count": 9,
   "id": "46b72899",
   "metadata": {
    "ExecuteTime": {
     "end_time": "2021-08-03T09:52:23.298975Z",
     "start_time": "2021-08-03T09:52:22.720298Z"
    }
   },
   "outputs": [],
   "source": [
    "def func(x):\n",
    "    return pd.Series(\n",
    "        np.split(np.random.permutation(np.hstack(x)), len(x)),\n",
    "        index=x.index.get_level_values(\"stimulus_id\"),\n",
    "    )\n",
    "\n",
    "raw = raw_unpooled\n",
    "np.random.seed(0)\n",
    "# the order of labels is important to get the same result as in ConditionCollection\n",
    "shuffled_responses = raw.groupby([\"simulations\", \"seed\", \"neuron_index\"]).apply(func)\n",
    "raw = raw.reorder_levels([\"simulations\", \"seed\", \"neuron_index\", \"stimulus_id\"])\n",
    "raw = pd.concat([shuffled_responses, raw], axis='rows', keys=['shuffled', 'data'], names=['control_type'])\n",
    "raw = raw.reorder_levels([\"simulations\", \"seed\", \"neuron_index\", \"control_type\", \"stimulus_id\"])\n",
    "# sort for comparison\n",
    "raw = raw.sort_index(kind='stable')\n",
    "\n"
   ]
  },
  {
   "cell_type": "code",
   "execution_count": 10,
   "id": "25e230a0",
   "metadata": {
    "ExecuteTime": {
     "end_time": "2021-08-03T09:52:24.127496Z",
     "start_time": "2021-08-03T09:52:23.989053Z"
    }
   },
   "outputs": [
    {
     "data": {
      "text/plain": [
       "'9a846aee90fb59d095e846e25c37eea2'"
      ]
     },
     "metadata": {},
     "output_type": "display_data"
    },
    {
     "data": {
      "text/plain": [
       "simulations  seed    neuron_index  control_type  stimulus_id\n",
       "first        85387   200           data          4918           [0.3, 0.3, 0.1, 0.9, 0.6, 0.6]\n",
       "                                                 4918           [0.2, 0.7, 0.3, 0.6, 0.2, 0.3]\n",
       "                                                 4918           [0.3, 0.4, 0.7, 0.2, 0.4, 0.2]\n",
       "                                                 4918           [0.1, 0.4, 0.6, 0.1, 0.3, 0.0]\n",
       "                                                 4918           [0.8, 0.2, 0.3, 0.8, 0.5, 0.6]\n",
       "                                                                             ...              \n",
       "last         979676  299           shuffled      983115         [1.0, 0.6, 0.1, 0.9, 0.6, 0.1]\n",
       "                                                 983115         [1.0, 0.7, 0.9, 0.7, 0.9, 0.5]\n",
       "                                                 983115         [0.1, 0.3, 0.9, 0.7, 0.8, 0.6]\n",
       "                                                 983115         [0.1, 0.7, 0.8, 0.2, 0.9, 0.9]\n",
       "                                                 983115         [0.6, 0.3, 0.4, 0.6, 1.0, 0.1]\n",
       "Length: 115200, dtype: object"
      ]
     },
     "metadata": {},
     "output_type": "display_data"
    }
   ],
   "source": [
    "import hashlib\n",
    "display(hashlib.md5(raw.to_json(orient=\"records\").encode(\"utf-8\")).hexdigest())\n",
    "display(raw)\n"
   ]
  },
  {
   "cell_type": "code",
   "execution_count": 11,
   "id": "47e6ff8e",
   "metadata": {
    "ExecuteTime": {
     "end_time": "2021-08-03T09:52:25.727205Z",
     "start_time": "2021-08-03T09:52:24.904667Z"
    }
   },
   "outputs": [],
   "source": [
    "mean_response = raw.apply(np.mean)"
   ]
  },
  {
   "cell_type": "code",
   "execution_count": 12,
   "id": "9bc2efd5",
   "metadata": {
    "ExecuteTime": {
     "end_time": "2021-08-03T09:52:26.775421Z",
     "start_time": "2021-08-03T09:52:25.962371Z"
    },
    "scrolled": true
   },
   "outputs": [],
   "source": [
    "from scipy.stats import entropy\n",
    "\n",
    "def response_entropy(x):\n",
    "    return entropy(x, base=2) / np.log2(len(x))\n",
    "\n",
    "# unstack cannot be used when the index is not unique\n",
    "response_entropy_stims = (\n",
    "    mean_response\n",
    "    .groupby([\"control_type\", \"simulations\", \"neuron_index\", \"seed\"])\n",
    "    .agg(response_entropy)\n",
    ")"
   ]
  },
  {
   "cell_type": "code",
   "execution_count": 13,
   "id": "875b0c3b",
   "metadata": {
    "ExecuteTime": {
     "end_time": "2021-08-03T09:52:28.123120Z",
     "start_time": "2021-08-03T09:52:28.096582Z"
    }
   },
   "outputs": [
    {
     "data": {
      "text/plain": [
       "simulations  seed    neuron_index  control_type  stimulus_id\n",
       "first        85387   200           data          4918           0.466667\n",
       "                                                 4918           0.383333\n",
       "                                                 4918           0.366667\n",
       "                                                 4918           0.250000\n",
       "                                                 4918           0.533333\n",
       "                                                                  ...   \n",
       "last         979676  299           shuffled      983115         0.550000\n",
       "                                                 983115         0.783333\n",
       "                                                 983115         0.566667\n",
       "                                                 983115         0.600000\n",
       "                                                 983115         0.500000\n",
       "Length: 115200, dtype: float64"
      ]
     },
     "metadata": {},
     "output_type": "display_data"
    },
    {
     "data": {
      "text/plain": [
       "control_type  simulations  neuron_index  seed  \n",
       "data          first        200           85387     0.993328\n",
       "                                         167102    0.992135\n",
       "                                         578561    0.992785\n",
       "                                         979676    0.992941\n",
       "                           201           85387     0.993278\n",
       "                                                     ...   \n",
       "shuffled      last         298           979676    0.992988\n",
       "                           299           85387     0.993144\n",
       "                                         167102    0.993330\n",
       "                                         578561    0.992819\n",
       "                                         979676    0.990041\n",
       "Length: 1600, dtype: float64"
      ]
     },
     "metadata": {},
     "output_type": "display_data"
    }
   ],
   "source": [
    "display(mean_response)\n",
    "display(response_entropy_stims)"
   ]
  },
  {
   "cell_type": "code",
   "execution_count": 14,
   "id": "8a602f5e",
   "metadata": {
    "ExecuteTime": {
     "end_time": "2021-08-03T09:52:30.112360Z",
     "start_time": "2021-08-03T09:52:29.871775Z"
    }
   },
   "outputs": [
    {
     "data": {
      "text/plain": [
       "neuron_index  control_type  seed  \n",
       "200           data          85387     0.000154\n",
       "                            167102   -0.001247\n",
       "                            578561   -0.000695\n",
       "                            979676   -0.000981\n",
       "              shuffled      85387     0.000244\n",
       "                                        ...   \n",
       "299           data          979676   -0.000282\n",
       "              shuffled      85387     0.000134\n",
       "                            167102    0.000572\n",
       "                            578561   -0.000511\n",
       "                            979676    0.004883\n",
       "Length: 800, dtype: float64"
      ]
     },
     "metadata": {},
     "output_type": "display_data"
    }
   ],
   "source": [
    "def difference_first_last(x):\n",
    "#     return sum(x.xs(level='simulations', key='first') - x.xs(level='simulations', key='last'))\n",
    "    levels_to_drop = list(x.index.names)\n",
    "    levels_to_drop.remove(\"simulations\")\n",
    "    x = x.droplevel(levels_to_drop)\n",
    "    return x.loc[\"first\"] - x.loc[\"last\"]\n",
    "\n",
    "change_in_response_entropy_stims = (\n",
    "    response_entropy_stims\n",
    "    .groupby([\"neuron_index\", \"control_type\", \"seed\"])\n",
    "    .agg(difference_first_last)\n",
    ")\n",
    "\n",
    "display(change_in_response_entropy_stims)"
   ]
  },
  {
   "cell_type": "code",
   "execution_count": 15,
   "id": "522852b5",
   "metadata": {
    "ExecuteTime": {
     "end_time": "2021-08-03T09:52:31.533189Z",
     "start_time": "2021-08-03T09:52:31.241212Z"
    }
   },
   "outputs": [
    {
     "data": {
      "text/plain": [
       "<ErrorbarContainer object of 3 artists>"
      ]
     },
     "execution_count": 15,
     "metadata": {},
     "output_type": "execute_result"
    },
    {
     "data": {
      "image/png": "[encoded data removed]",
      "text/plain": [
       "<Figure size 432x288 with 1 Axes>"
      ]
     },
     "metadata": {
      "image/png": {
       "height": 248,
       "width": 393
      },
      "needs_background": "light"
     },
     "output_type": "display_data"
    }
   ],
   "source": [
    "%matplotlib inline\n",
    "%config InlineBackend.figure_format = 'retina'\n",
    "\n",
    "change_stims_lst = change_in_response_entropy_stims.groupby([\"neuron_index\", \"control_type\"]).apply(np.array)\n",
    "change_stims_mn = change_stims_lst.apply(np.nanmean)\n",
    "change_stims_sd = change_stims_lst.apply(np.nanstd)\n",
    "\n",
    "mn = change_stims_mn.xs(level=\"control_type\", key=\"data\")\n",
    "sd = change_stims_sd.xs(level=\"control_type\", key=\"data\")\n",
    "from matplotlib import pyplot as plt\n",
    "plt.errorbar(mn.index, mn.values, yerr=sd)\n",
    "\n",
    "\n",
    "# Also plot control\n",
    "mn = change_stims_mn.xs(level=\"control_type\", key=\"shuffled\")\n",
    "sd = change_stims_sd.xs(level=\"control_type\", key=\"shuffled\")\n",
    "from matplotlib import pyplot as plt\n",
    "plt.errorbar(mn.index, mn.values, yerr=sd, color=\"red\")"
   ]
  },
  {
   "cell_type": "code",
   "execution_count": 16,
   "id": "20630e07",
   "metadata": {
    "ExecuteTime": {
     "end_time": "2021-08-03T09:52:33.302635Z",
     "start_time": "2021-08-03T09:52:33.286846Z"
    }
   },
   "outputs": [
    {
     "data": {
      "text/plain": [
       "neuron_index  control_type\n",
       "200           data            [0.00015417871877332345, -0.001247316234977091...\n",
       "              shuffled        [0.00024353486038231065, 0.0006735278466255545...\n",
       "201           data            [0.0008581293616071184, 0.0018550078186947427,...\n",
       "              shuffled        [0.00020776056625626538, -0.000634653090118786...\n",
       "202           data            [-0.0009523741859921442, -0.001033924811436382...\n",
       "                                                    ...                        \n",
       "297           shuffled        [0.0009878341349017772, 0.000808473802870191, ...\n",
       "298           data            [-0.0004853989101561984, -0.002617146619616539...\n",
       "              shuffled        [0.0020127824219509094, 0.0005488216762901121,...\n",
       "299           data            [0.0031591021889538773, 0.000652424551138231, ...\n",
       "              shuffled        [0.00013407993584790834, 0.000572003041929281,...\n",
       "Length: 200, dtype: object"
      ]
     },
     "metadata": {},
     "output_type": "display_data"
    }
   ],
   "source": [
    "display(change_stims_lst)"
   ]
  },
  {
   "cell_type": "code",
   "execution_count": 17,
   "id": "0f260d99",
   "metadata": {
    "ExecuteTime": {
     "end_time": "2021-08-03T09:52:34.829534Z",
     "start_time": "2021-08-03T09:52:34.763674Z"
    }
   },
   "outputs": [
    {
     "data": {
      "text/plain": [
       "neuron_index\n",
       "200    0.683515\n",
       "201    0.058891\n",
       "202    0.996378\n",
       "203    0.779021\n",
       "204    0.255128\n",
       "         ...   \n",
       "295    0.662194\n",
       "296    0.247226\n",
       "297    0.204985\n",
       "298    0.021100\n",
       "299    0.915846\n",
       "Length: 100, dtype: float64"
      ]
     },
     "execution_count": 17,
     "metadata": {},
     "output_type": "execute_result"
    }
   ],
   "source": [
    "from scipy.stats import ttest_ind\n",
    "\n",
    "def test_wo_nans(a, b):\n",
    "    return ttest_ind(a[~np.isnan(a)], b[~np.isnan(b)]).pvalue\n",
    "\n",
    "tmp1 = change_stims_lst.xs(level=\"control_type\", key=\"data\")\n",
    "tmp2 = change_stims_lst.xs(level=\"control_type\", key=\"shuffled\")\n",
    "tmp1.combine(tmp2, func=test_wo_nans)\n"
   ]
  },
  {
   "cell_type": "code",
   "execution_count": null,
   "id": "424308e5",
   "metadata": {},
   "outputs": [],
   "source": []
  }
 ],
 "metadata": {
  "kernelspec": {
   "display_name": "Python 3 (ipykernel)",
   "language": "python",
   "name": "python3"
  },
  "language_info": {
   "codemirror_mode": {
    "name": "ipython",
    "version": 3
   },
   "file_extension": ".py",
   "mimetype": "text/x-python",
   "name": "python",
   "nbconvert_exporter": "python",
   "pygments_lexer": "ipython3",
   "version": "3.8.5"
  }
 },
 "nbformat": 4,
 "nbformat_minor": 5
}
