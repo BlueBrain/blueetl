{
 "cells": [
  {
   "cell_type": "markdown",
   "id": "4043428c-99d0-4105-acff-b76eae16028c",
   "metadata": {},
   "source": [
    "# 03 Simulation Campaign"
   ]
  },
  {
   "cell_type": "markdown",
   "id": "d2bbe90d-5f74-44b5-b9d4-cd2429f15941",
   "metadata": {},
   "source": [
    "Sometimes it may be useful to directly open a Simulation Campaign, to work on the simulations.\n",
    "\n",
    "In these cases it's possible to use the class `SimulationCampaign` as shown in the following code:"
   ]
  },
  {
   "cell_type": "code",
   "execution_count": null,
   "id": "ccc15b14-dada-4a66-b364-d3febd5bfc5c",
   "metadata": {},
   "outputs": [],
   "source": [
    "from blueetl.campaign.config import SimulationCampaign\n",
    "\n",
    "config_file = \"../data/simulation-campaign/config.json\"\n",
    "campaign = SimulationCampaign.load(config_file)"
   ]
  },
  {
   "cell_type": "markdown",
   "id": "0409a3a2-64a1-4024-8fbc-27f41651deb0",
   "metadata": {},
   "source": [
    "You can then access some attributes:"
   ]
  },
  {
   "cell_type": "code",
   "execution_count": null,
   "id": "ea7ba5d2-5f88-480d-b598-407bb503f885",
   "metadata": {},
   "outputs": [],
   "source": [
    "campaign.name"
   ]
  },
  {
   "cell_type": "code",
   "execution_count": null,
   "id": "c62b832b-9860-4edf-bd70-164e5779c202",
   "metadata": {},
   "outputs": [],
   "source": [
    "campaign.attrs"
   ]
  },
  {
   "cell_type": "markdown",
   "id": "363751b4-195c-4d0b-b446-6443a83e6b8a",
   "metadata": {},
   "source": [
    "You can also get the number of simulations, or iterate over the simulations.\n",
    "Each yielded simulation is a `SimulationRow` object, that can be used to access the attributes of the simulation."
   ]
  },
  {
   "cell_type": "code",
   "execution_count": null,
   "id": "fdcac78d-f377-45bb-947e-bad7206cacdf",
   "metadata": {},
   "outputs": [],
   "source": [
    "len(campaign)"
   ]
  },
  {
   "cell_type": "code",
   "execution_count": null,
   "id": "2f112789-1a9a-4f74-9d85-c4c418eaf521",
   "metadata": {},
   "outputs": [],
   "source": [
    "for sim in campaign:\n",
    "    print(sim.index, sim)"
   ]
  },
  {
   "cell_type": "markdown",
   "id": "4326321e-8aa7-4515-9a5b-c51b75418a62",
   "metadata": {},
   "source": [
    "You can access the simulations by index:"
   ]
  },
  {
   "cell_type": "code",
   "execution_count": null,
   "id": "88daf816-bef3-4a4f-b23f-014226b4e793",
   "metadata": {
    "scrolled": true
   },
   "outputs": [],
   "source": [
    "campaign[0]"
   ]
  },
  {
   "cell_type": "code",
   "execution_count": null,
   "id": "0b715d97-0563-4822-b9e3-ae967093df45",
   "metadata": {},
   "outputs": [],
   "source": [
    "campaign[1]"
   ]
  },
  {
   "cell_type": "markdown",
   "id": "e5137f92-5b1a-4fab-836f-c576c66a9d46",
   "metadata": {},
   "source": [
    "You can list the conditions (i.e. the parameters) of the simulation campaign as a list of names, or as a Pandas DataFrame:"
   ]
  },
  {
   "cell_type": "code",
   "execution_count": null,
   "id": "5433b7b2-e185-4e9f-83d6-90ae9e38c20a",
   "metadata": {},
   "outputs": [],
   "source": [
    "campaign.condition_names"
   ]
  },
  {
   "cell_type": "code",
   "execution_count": null,
   "id": "35b3564e-f828-4afb-af50-7b10ea935aae",
   "metadata": {},
   "outputs": [],
   "source": [
    "campaign.conditions"
   ]
  },
  {
   "cell_type": "markdown",
   "id": "9aed42dd-b8e2-47aa-8dac-899bc305922d",
   "metadata": {},
   "source": [
    "You can check if the campaign has been generated using coupled coordinates or not (see `bbp-workflow` for more details):"
   ]
  },
  {
   "cell_type": "code",
   "execution_count": null,
   "id": "1cb9e08f-1d05-4370-bb9f-161e1ad5619f",
   "metadata": {},
   "outputs": [],
   "source": [
    "campaign.is_coupled()"
   ]
  },
  {
   "cell_type": "markdown",
   "id": "b30a66b3-7b7c-4149-8ecd-89a06575158e",
   "metadata": {},
   "source": [
    "You can check if the underlying simulations are in SONATA format, or BBP:"
   ]
  },
  {
   "cell_type": "code",
   "execution_count": null,
   "id": "0664d03b-f882-44ab-af79-40fff79cc55f",
   "metadata": {
    "scrolled": true
   },
   "outputs": [],
   "source": [
    "campaign.is_sonata()"
   ]
  },
  {
   "cell_type": "markdown",
   "id": "3af4497d-3ba2-44fc-9531-16375de19129",
   "metadata": {},
   "source": [
    "You can also get a copy of the campaign as a Pandas DataFrame:"
   ]
  },
  {
   "cell_type": "code",
   "execution_count": null,
   "id": "905d71a0-e4d5-41f0-94d3-3981f00f21ff",
   "metadata": {},
   "outputs": [],
   "source": [
    "campaign.get()"
   ]
  },
  {
   "cell_type": "markdown",
   "id": "51932cdb-4648-4233-86f4-2fa25b708c94",
   "metadata": {},
   "source": [
    "You can filter the simulations by any condition, using the same syntax provided by the Pandas accessor `etl.q` provided by `blueetl`."
   ]
  },
  {
   "cell_type": "code",
   "execution_count": null,
   "id": "a3878f19-5058-4252-a808-b2095546eb66",
   "metadata": {},
   "outputs": [],
   "source": [
    "campaign.get(seed=334630)"
   ]
  },
  {
   "cell_type": "code",
   "execution_count": null,
   "id": "6c86e18b-f8ea-4564-aeb9-d98027094879",
   "metadata": {},
   "outputs": [],
   "source": [
    "campaign.get({\"seed\": 334630})"
   ]
  },
  {
   "cell_type": "markdown",
   "id": "0558eec0-780e-45bc-b8e8-c9cbc3544849",
   "metadata": {},
   "source": [
    "Alternatively, you can get just the ids of the simulations, using the same syntax for the filter:"
   ]
  },
  {
   "cell_type": "code",
   "execution_count": null,
   "id": "7d8c9803-d7d4-4369-bea8-a352d99ca65c",
   "metadata": {},
   "outputs": [],
   "source": [
    "campaign.ids(seed=334630)"
   ]
  },
  {
   "cell_type": "code",
   "execution_count": null,
   "id": "4f2160fb-d910-4523-97a6-fef33f653267",
   "metadata": {},
   "outputs": [],
   "source": [
    "campaign.ids({\"seed\": 334630})"
   ]
  },
  {
   "cell_type": "markdown",
   "id": "507c0328-3893-4e82-9041-01eb76ae4689",
   "metadata": {},
   "source": [
    "If we want to open single simulations instead of running the analysis of the campaign with blueetl, we can use any available tool.\n",
    "\n",
    "For example, using bluepysnap:"
   ]
  },
  {
   "cell_type": "code",
   "execution_count": null,
   "id": "365154e6-cf70-4abc-af4f-80a6c2505fcb",
   "metadata": {},
   "outputs": [],
   "source": [
    "from bluepysnap import Simulation\n",
    "\n",
    "sim_row = campaign[0]\n",
    "print(sim_row)\n",
    "\n",
    "sim = Simulation(sim_row.path)\n",
    "print(sim)\n",
    "print(sim.circuit)"
   ]
  }
 ],
 "metadata": {
  "kernelspec": {
   "display_name": "Python 3 (ipykernel)",
   "language": "python",
   "name": "python3"
  },
  "language_info": {
   "codemirror_mode": {
    "name": "ipython",
    "version": 3
   },
   "file_extension": ".py",
   "mimetype": "text/x-python",
   "name": "python",
   "nbconvert_exporter": "python",
   "pygments_lexer": "ipython3",
   "version": "3.11.1"
  }
 },
 "nbformat": 4,
 "nbformat_minor": 5
}
