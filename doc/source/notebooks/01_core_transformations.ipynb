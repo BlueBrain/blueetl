{
 "cells": [
  {
   "cell_type": "markdown",
   "metadata": {},
   "source": [
    "# 01 Core transformations"
   ]
  },
  {
   "cell_type": "markdown",
   "metadata": {},
   "source": [
    "## Initialization"
   ]
  },
  {
   "cell_type": "markdown",
   "metadata": {},
   "source": [
    "To register the custom Pandas accessor ``.etl`` it's enough to import ``blueetl``:"
   ]
  },
  {
   "cell_type": "code",
   "execution_count": 1,
   "metadata": {
    "tags": []
   },
   "outputs": [],
   "source": [
    "import blueetl"
   ]
  },
  {
   "cell_type": "markdown",
   "metadata": {},
   "source": [
    "The Pandas DataFrames `df_col` (columnar) and `df` (multiindex) created below will be useful to show how the ``etl`` accessor can be used in the two cases."
   ]
  },
  {
   "cell_type": "code",
   "execution_count": 2,
   "metadata": {
    "tags": []
   },
   "outputs": [
    {
     "data": {
      "text/html": [
       "<div>\n",
       "<style scoped>\n",
       "    .dataframe tbody tr th:only-of-type {\n",
       "        vertical-align: middle;\n",
       "    }\n",
       "\n",
       "    .dataframe tbody tr th {\n",
       "        vertical-align: top;\n",
       "    }\n",
       "\n",
       "    .dataframe thead th {\n",
       "        text-align: right;\n",
       "    }\n",
       "</style>\n",
       "<table border=\"1\" class=\"dataframe\">\n",
       "  <thead>\n",
       "    <tr style=\"text-align: right;\">\n",
       "      <th></th>\n",
       "      <th></th>\n",
       "      <th></th>\n",
       "      <th></th>\n",
       "      <th></th>\n",
       "      <th>time</th>\n",
       "      <th>gid</th>\n",
       "    </tr>\n",
       "    <tr>\n",
       "      <th>simulation_id</th>\n",
       "      <th>circuit_id</th>\n",
       "      <th>neuron_class</th>\n",
       "      <th>window</th>\n",
       "      <th>trial</th>\n",
       "      <th></th>\n",
       "      <th></th>\n",
       "    </tr>\n",
       "  </thead>\n",
       "  <tbody>\n",
       "    <tr>\n",
       "      <th rowspan=\"5\" valign=\"top\">0</th>\n",
       "      <th rowspan=\"5\" valign=\"top\">0</th>\n",
       "      <th rowspan=\"2\" valign=\"top\">L23_INH</th>\n",
       "      <th rowspan=\"2\" valign=\"top\">w1</th>\n",
       "      <th>0</th>\n",
       "      <td>2.548814</td>\n",
       "      <td>6</td>\n",
       "    </tr>\n",
       "    <tr>\n",
       "      <th>0</th>\n",
       "      <td>2.715189</td>\n",
       "      <td>7</td>\n",
       "    </tr>\n",
       "    <tr>\n",
       "      <th rowspan=\"3\" valign=\"top\">L23_EXC</th>\n",
       "      <th rowspan=\"3\" valign=\"top\">w1</th>\n",
       "      <th>0</th>\n",
       "      <td>2.602763</td>\n",
       "      <td>18</td>\n",
       "    </tr>\n",
       "    <tr>\n",
       "      <th>0</th>\n",
       "      <td>2.544883</td>\n",
       "      <td>11</td>\n",
       "    </tr>\n",
       "    <tr>\n",
       "      <th>0</th>\n",
       "      <td>2.423655</td>\n",
       "      <td>19</td>\n",
       "    </tr>\n",
       "    <tr>\n",
       "      <th>...</th>\n",
       "      <th>...</th>\n",
       "      <th>...</th>\n",
       "      <th>...</th>\n",
       "      <th>...</th>\n",
       "      <td>...</td>\n",
       "      <td>...</td>\n",
       "    </tr>\n",
       "    <tr>\n",
       "      <th rowspan=\"5\" valign=\"top\">2</th>\n",
       "      <th rowspan=\"5\" valign=\"top\">0</th>\n",
       "      <th>L23_INH</th>\n",
       "      <th>w1</th>\n",
       "      <th>0</th>\n",
       "      <td>2.490459</td>\n",
       "      <td>2</td>\n",
       "    </tr>\n",
       "    <tr>\n",
       "      <th rowspan=\"2\" valign=\"top\">L23_EXC</th>\n",
       "      <th rowspan=\"2\" valign=\"top\">w1</th>\n",
       "      <th>0</th>\n",
       "      <td>2.227415</td>\n",
       "      <td>13</td>\n",
       "    </tr>\n",
       "    <tr>\n",
       "      <th>0</th>\n",
       "      <td>2.254356</td>\n",
       "      <td>15</td>\n",
       "    </tr>\n",
       "    <tr>\n",
       "      <th rowspan=\"2\" valign=\"top\">L23_INH</th>\n",
       "      <th rowspan=\"2\" valign=\"top\">w1</th>\n",
       "      <th>0</th>\n",
       "      <td>2.058029</td>\n",
       "      <td>4</td>\n",
       "    </tr>\n",
       "    <tr>\n",
       "      <th>0</th>\n",
       "      <td>2.434417</td>\n",
       "      <td>9</td>\n",
       "    </tr>\n",
       "  </tbody>\n",
       "</table>\n",
       "<p>200 rows × 2 columns</p>\n",
       "</div>"
      ],
      "text/plain": [
       "                                                        time  gid\n",
       "simulation_id circuit_id neuron_class window trial               \n",
       "0             0          L23_INH      w1     0      2.548814    6\n",
       "                                             0      2.715189    7\n",
       "                         L23_EXC      w1     0      2.602763   18\n",
       "                                             0      2.544883   11\n",
       "                                             0      2.423655   19\n",
       "...                                                      ...  ...\n",
       "2             0          L23_INH      w1     0      2.490459    2\n",
       "                         L23_EXC      w1     0      2.227415   13\n",
       "                                             0      2.254356   15\n",
       "                         L23_INH      w1     0      2.058029    4\n",
       "                                             0      2.434417    9\n",
       "\n",
       "[200 rows x 2 columns]"
      ]
     },
     "metadata": {},
     "output_type": "display_data"
    }
   ],
   "source": [
    "import numpy as np\n",
    "import pandas as pd\n",
    "\n",
    "np.random.seed(0)\n",
    "df_col = pd.DataFrame(\n",
    "    {\n",
    "        \"simulation_id\": [0] * 100 + [1] * 75 + [2] * 25,\n",
    "        \"circuit_id\": 0,\n",
    "        \"neuron_class\": \"L23_EXC\",\n",
    "        \"window\": \"w1\",\n",
    "        \"trial\": 0,\n",
    "        \"time\": np.random.rand(200) + 2,\n",
    "        \"gid\": np.random.randint(20, size=200),\n",
    "    }\n",
    ")\n",
    "df_col.loc[df_col[\"gid\"] < 10, \"neuron_class\"] = \"L23_INH\"\n",
    "\n",
    "df = df_col.set_index([\"simulation_id\", \"circuit_id\", \"neuron_class\", \"window\", \"trial\"])\n",
    "display(df)"
   ]
  },
  {
   "cell_type": "markdown",
   "metadata": {},
   "source": [
    "## Filtering"
   ]
  },
  {
   "cell_type": "markdown",
   "metadata": {},
   "source": [
    "DataFrames and Series can be filtered on both columns and levels of the multiindex using ``etl.q``, using the same syntax.\n",
    "\n",
    "Multiple keywords can be specified as parameters, and all the conditions are matched in the resulting dataframe or series.\n",
    "\n",
    "Each parameter can be:\n",
    "\n",
    "- a scalar value matched for equality\n",
    "- a list to match any contained scalar value\n",
    "- a dict for more complex expressions. The supported operators are: `eq`, `ne`, `le`, `lt`, `ge`, `gt`, `isin`, `regex`"
   ]
  },
  {
   "cell_type": "markdown",
   "metadata": {},
   "source": [
    "### Select by equality"
   ]
  },
  {
   "cell_type": "markdown",
   "metadata": {},
   "source": [
    "If filtering by equality over the index or the columns, the query can be expressed simply as:"
   ]
  },
  {
   "cell_type": "code",
   "execution_count": 3,
   "metadata": {
    "tags": []
   },
   "outputs": [
    {
     "data": {
      "text/html": [
       "<div>\n",
       "<style scoped>\n",
       "    .dataframe tbody tr th:only-of-type {\n",
       "        vertical-align: middle;\n",
       "    }\n",
       "\n",
       "    .dataframe tbody tr th {\n",
       "        vertical-align: top;\n",
       "    }\n",
       "\n",
       "    .dataframe thead th {\n",
       "        text-align: right;\n",
       "    }\n",
       "</style>\n",
       "<table border=\"1\" class=\"dataframe\">\n",
       "  <thead>\n",
       "    <tr style=\"text-align: right;\">\n",
       "      <th></th>\n",
       "      <th></th>\n",
       "      <th></th>\n",
       "      <th></th>\n",
       "      <th></th>\n",
       "      <th>time</th>\n",
       "      <th>gid</th>\n",
       "    </tr>\n",
       "    <tr>\n",
       "      <th>simulation_id</th>\n",
       "      <th>circuit_id</th>\n",
       "      <th>neuron_class</th>\n",
       "      <th>window</th>\n",
       "      <th>trial</th>\n",
       "      <th></th>\n",
       "      <th></th>\n",
       "    </tr>\n",
       "  </thead>\n",
       "  <tbody>\n",
       "    <tr>\n",
       "      <th rowspan=\"7\" valign=\"top\">1</th>\n",
       "      <th rowspan=\"7\" valign=\"top\">0</th>\n",
       "      <th rowspan=\"7\" valign=\"top\">L23_EXC</th>\n",
       "      <th rowspan=\"7\" valign=\"top\">w1</th>\n",
       "      <th>0</th>\n",
       "      <td>2.447125</td>\n",
       "      <td>10</td>\n",
       "    </tr>\n",
       "    <tr>\n",
       "      <th>0</th>\n",
       "      <td>2.581273</td>\n",
       "      <td>10</td>\n",
       "    </tr>\n",
       "    <tr>\n",
       "      <th>0</th>\n",
       "      <td>2.725254</td>\n",
       "      <td>11</td>\n",
       "    </tr>\n",
       "    <tr>\n",
       "      <th>0</th>\n",
       "      <td>2.290078</td>\n",
       "      <td>10</td>\n",
       "    </tr>\n",
       "    <tr>\n",
       "      <th>0</th>\n",
       "      <td>2.135474</td>\n",
       "      <td>11</td>\n",
       "    </tr>\n",
       "    <tr>\n",
       "      <th>0</th>\n",
       "      <td>2.011714</td>\n",
       "      <td>11</td>\n",
       "    </tr>\n",
       "    <tr>\n",
       "      <th>0</th>\n",
       "      <td>2.199997</td>\n",
       "      <td>11</td>\n",
       "    </tr>\n",
       "  </tbody>\n",
       "</table>\n",
       "</div>"
      ],
      "text/plain": [
       "                                                        time  gid\n",
       "simulation_id circuit_id neuron_class window trial               \n",
       "1             0          L23_EXC      w1     0      2.447125   10\n",
       "                                             0      2.581273   10\n",
       "                                             0      2.725254   11\n",
       "                                             0      2.290078   10\n",
       "                                             0      2.135474   11\n",
       "                                             0      2.011714   11\n",
       "                                             0      2.199997   11"
      ]
     },
     "execution_count": 3,
     "metadata": {},
     "output_type": "execute_result"
    }
   ],
   "source": [
    "df.etl.q(simulation_id=1, neuron_class=\"L23_EXC\", gid=[9, 10, 11])"
   ]
  },
  {
   "cell_type": "markdown",
   "metadata": {},
   "source": [
    "The columnar dataframe ``df_col`` can be filtered using the same parameters:"
   ]
  },
  {
   "cell_type": "code",
   "execution_count": 4,
   "metadata": {
    "tags": []
   },
   "outputs": [
    {
     "data": {
      "text/html": [
       "<div>\n",
       "<style scoped>\n",
       "    .dataframe tbody tr th:only-of-type {\n",
       "        vertical-align: middle;\n",
       "    }\n",
       "\n",
       "    .dataframe tbody tr th {\n",
       "        vertical-align: top;\n",
       "    }\n",
       "\n",
       "    .dataframe thead th {\n",
       "        text-align: right;\n",
       "    }\n",
       "</style>\n",
       "<table border=\"1\" class=\"dataframe\">\n",
       "  <thead>\n",
       "    <tr style=\"text-align: right;\">\n",
       "      <th></th>\n",
       "      <th>simulation_id</th>\n",
       "      <th>circuit_id</th>\n",
       "      <th>neuron_class</th>\n",
       "      <th>window</th>\n",
       "      <th>trial</th>\n",
       "      <th>time</th>\n",
       "      <th>gid</th>\n",
       "    </tr>\n",
       "  </thead>\n",
       "  <tbody>\n",
       "    <tr>\n",
       "      <th>110</th>\n",
       "      <td>1</td>\n",
       "      <td>0</td>\n",
       "      <td>L23_EXC</td>\n",
       "      <td>w1</td>\n",
       "      <td>0</td>\n",
       "      <td>2.447125</td>\n",
       "      <td>10</td>\n",
       "    </tr>\n",
       "    <tr>\n",
       "      <th>117</th>\n",
       "      <td>1</td>\n",
       "      <td>0</td>\n",
       "      <td>L23_EXC</td>\n",
       "      <td>w1</td>\n",
       "      <td>0</td>\n",
       "      <td>2.581273</td>\n",
       "      <td>10</td>\n",
       "    </tr>\n",
       "    <tr>\n",
       "      <th>120</th>\n",
       "      <td>1</td>\n",
       "      <td>0</td>\n",
       "      <td>L23_EXC</td>\n",
       "      <td>w1</td>\n",
       "      <td>0</td>\n",
       "      <td>2.725254</td>\n",
       "      <td>11</td>\n",
       "    </tr>\n",
       "    <tr>\n",
       "      <th>129</th>\n",
       "      <td>1</td>\n",
       "      <td>0</td>\n",
       "      <td>L23_EXC</td>\n",
       "      <td>w1</td>\n",
       "      <td>0</td>\n",
       "      <td>2.290078</td>\n",
       "      <td>10</td>\n",
       "    </tr>\n",
       "    <tr>\n",
       "      <th>132</th>\n",
       "      <td>1</td>\n",
       "      <td>0</td>\n",
       "      <td>L23_EXC</td>\n",
       "      <td>w1</td>\n",
       "      <td>0</td>\n",
       "      <td>2.135474</td>\n",
       "      <td>11</td>\n",
       "    </tr>\n",
       "    <tr>\n",
       "      <th>166</th>\n",
       "      <td>1</td>\n",
       "      <td>0</td>\n",
       "      <td>L23_EXC</td>\n",
       "      <td>w1</td>\n",
       "      <td>0</td>\n",
       "      <td>2.011714</td>\n",
       "      <td>11</td>\n",
       "    </tr>\n",
       "    <tr>\n",
       "      <th>172</th>\n",
       "      <td>1</td>\n",
       "      <td>0</td>\n",
       "      <td>L23_EXC</td>\n",
       "      <td>w1</td>\n",
       "      <td>0</td>\n",
       "      <td>2.199997</td>\n",
       "      <td>11</td>\n",
       "    </tr>\n",
       "  </tbody>\n",
       "</table>\n",
       "</div>"
      ],
      "text/plain": [
       "     simulation_id  circuit_id neuron_class window  trial      time  gid\n",
       "110              1           0      L23_EXC     w1      0  2.447125   10\n",
       "117              1           0      L23_EXC     w1      0  2.581273   10\n",
       "120              1           0      L23_EXC     w1      0  2.725254   11\n",
       "129              1           0      L23_EXC     w1      0  2.290078   10\n",
       "132              1           0      L23_EXC     w1      0  2.135474   11\n",
       "166              1           0      L23_EXC     w1      0  2.011714   11\n",
       "172              1           0      L23_EXC     w1      0  2.199997   11"
      ]
     },
     "execution_count": 4,
     "metadata": {},
     "output_type": "execute_result"
    }
   ],
   "source": [
    "df_col.etl.q(simulation_id=1, neuron_class=\"L23_EXC\", gid=[9, 10, 11])"
   ]
  },
  {
   "cell_type": "markdown",
   "metadata": {},
   "source": [
    "### Select by range"
   ]
  },
  {
   "cell_type": "markdown",
   "metadata": {},
   "source": [
    "It's possible to get the same result using the operators `ge` and `le` to filter on `gid` in the following way:"
   ]
  },
  {
   "cell_type": "code",
   "execution_count": 5,
   "metadata": {
    "tags": []
   },
   "outputs": [
    {
     "data": {
      "text/html": [
       "<div>\n",
       "<style scoped>\n",
       "    .dataframe tbody tr th:only-of-type {\n",
       "        vertical-align: middle;\n",
       "    }\n",
       "\n",
       "    .dataframe tbody tr th {\n",
       "        vertical-align: top;\n",
       "    }\n",
       "\n",
       "    .dataframe thead th {\n",
       "        text-align: right;\n",
       "    }\n",
       "</style>\n",
       "<table border=\"1\" class=\"dataframe\">\n",
       "  <thead>\n",
       "    <tr style=\"text-align: right;\">\n",
       "      <th></th>\n",
       "      <th></th>\n",
       "      <th></th>\n",
       "      <th></th>\n",
       "      <th></th>\n",
       "      <th>time</th>\n",
       "      <th>gid</th>\n",
       "    </tr>\n",
       "    <tr>\n",
       "      <th>simulation_id</th>\n",
       "      <th>circuit_id</th>\n",
       "      <th>neuron_class</th>\n",
       "      <th>window</th>\n",
       "      <th>trial</th>\n",
       "      <th></th>\n",
       "      <th></th>\n",
       "    </tr>\n",
       "  </thead>\n",
       "  <tbody>\n",
       "    <tr>\n",
       "      <th rowspan=\"7\" valign=\"top\">1</th>\n",
       "      <th rowspan=\"7\" valign=\"top\">0</th>\n",
       "      <th rowspan=\"7\" valign=\"top\">L23_EXC</th>\n",
       "      <th rowspan=\"7\" valign=\"top\">w1</th>\n",
       "      <th>0</th>\n",
       "      <td>2.447125</td>\n",
       "      <td>10</td>\n",
       "    </tr>\n",
       "    <tr>\n",
       "      <th>0</th>\n",
       "      <td>2.581273</td>\n",
       "      <td>10</td>\n",
       "    </tr>\n",
       "    <tr>\n",
       "      <th>0</th>\n",
       "      <td>2.725254</td>\n",
       "      <td>11</td>\n",
       "    </tr>\n",
       "    <tr>\n",
       "      <th>0</th>\n",
       "      <td>2.290078</td>\n",
       "      <td>10</td>\n",
       "    </tr>\n",
       "    <tr>\n",
       "      <th>0</th>\n",
       "      <td>2.135474</td>\n",
       "      <td>11</td>\n",
       "    </tr>\n",
       "    <tr>\n",
       "      <th>0</th>\n",
       "      <td>2.011714</td>\n",
       "      <td>11</td>\n",
       "    </tr>\n",
       "    <tr>\n",
       "      <th>0</th>\n",
       "      <td>2.199997</td>\n",
       "      <td>11</td>\n",
       "    </tr>\n",
       "  </tbody>\n",
       "</table>\n",
       "</div>"
      ],
      "text/plain": [
       "                                                        time  gid\n",
       "simulation_id circuit_id neuron_class window trial               \n",
       "1             0          L23_EXC      w1     0      2.447125   10\n",
       "                                             0      2.581273   10\n",
       "                                             0      2.725254   11\n",
       "                                             0      2.290078   10\n",
       "                                             0      2.135474   11\n",
       "                                             0      2.011714   11\n",
       "                                             0      2.199997   11"
      ]
     },
     "execution_count": 5,
     "metadata": {},
     "output_type": "execute_result"
    }
   ],
   "source": [
    "df.etl.q(simulation_id=1, neuron_class=\"L23_EXC\", gid={\"ge\": 9, \"le\": 11})"
   ]
  },
  {
   "cell_type": "markdown",
   "metadata": {},
   "source": [
    "### Select by regular expression"
   ]
  },
  {
   "cell_type": "markdown",
   "metadata": {},
   "source": [
    "In general, the selection based on regular expressions is less performant than the other types of filters, so it should be used as a last resort.\n",
    "\n",
    "When needed, it can be used in case of columns containing string objects.\n",
    "\n",
    "Internally, the comparison is handled by `re.search` from the standard Python library, so any substring can match the expression.\n",
    "\n",
    "See the official documentation for more information, but remember that you can:\n",
    "\n",
    "- use the prefix `^` to match from the beginning of the string\n",
    "- use the suffix `$` to match up to the end of the string"
   ]
  },
  {
   "cell_type": "code",
   "execution_count": 6,
   "metadata": {
    "tags": []
   },
   "outputs": [
    {
     "data": {
      "text/html": [
       "<div>\n",
       "<style scoped>\n",
       "    .dataframe tbody tr th:only-of-type {\n",
       "        vertical-align: middle;\n",
       "    }\n",
       "\n",
       "    .dataframe tbody tr th {\n",
       "        vertical-align: top;\n",
       "    }\n",
       "\n",
       "    .dataframe thead th {\n",
       "        text-align: right;\n",
       "    }\n",
       "</style>\n",
       "<table border=\"1\" class=\"dataframe\">\n",
       "  <thead>\n",
       "    <tr style=\"text-align: right;\">\n",
       "      <th></th>\n",
       "      <th></th>\n",
       "      <th></th>\n",
       "      <th></th>\n",
       "      <th></th>\n",
       "      <th>time</th>\n",
       "      <th>gid</th>\n",
       "    </tr>\n",
       "    <tr>\n",
       "      <th>simulation_id</th>\n",
       "      <th>circuit_id</th>\n",
       "      <th>neuron_class</th>\n",
       "      <th>window</th>\n",
       "      <th>trial</th>\n",
       "      <th></th>\n",
       "      <th></th>\n",
       "    </tr>\n",
       "  </thead>\n",
       "  <tbody>\n",
       "    <tr>\n",
       "      <th rowspan=\"4\" valign=\"top\">1</th>\n",
       "      <th rowspan=\"4\" valign=\"top\">0</th>\n",
       "      <th rowspan=\"2\" valign=\"top\">L23_EXC</th>\n",
       "      <th rowspan=\"2\" valign=\"top\">w1</th>\n",
       "      <th>0</th>\n",
       "      <td>2.881103</td>\n",
       "      <td>15</td>\n",
       "    </tr>\n",
       "    <tr>\n",
       "      <th>0</th>\n",
       "      <td>2.643990</td>\n",
       "      <td>15</td>\n",
       "    </tr>\n",
       "    <tr>\n",
       "      <th rowspan=\"2\" valign=\"top\">L23_INH</th>\n",
       "      <th rowspan=\"2\" valign=\"top\">w1</th>\n",
       "      <th>0</th>\n",
       "      <td>2.618015</td>\n",
       "      <td>2</td>\n",
       "    </tr>\n",
       "    <tr>\n",
       "      <th>0</th>\n",
       "      <td>2.703889</td>\n",
       "      <td>2</td>\n",
       "    </tr>\n",
       "  </tbody>\n",
       "</table>\n",
       "</div>"
      ],
      "text/plain": [
       "                                                        time  gid\n",
       "simulation_id circuit_id neuron_class window trial               \n",
       "1             0          L23_EXC      w1     0      2.881103   15\n",
       "                                             0      2.643990   15\n",
       "                         L23_INH      w1     0      2.618015    2\n",
       "                                             0      2.703889    2"
      ]
     },
     "execution_count": 6,
     "metadata": {},
     "output_type": "execute_result"
    }
   ],
   "source": [
    "df.etl.q(simulation_id=1, neuron_class={\"regex\": \"^L2\"}, gid=[2, 15])"
   ]
  },
  {
   "cell_type": "markdown",
   "metadata": {},
   "source": [
    "### Select by variable keys"
   ]
  },
  {
   "cell_type": "markdown",
   "metadata": {},
   "source": [
    "If the keys used to filter are variable, it's possible to pass a dict instead of named parameters:"
   ]
  },
  {
   "cell_type": "code",
   "execution_count": 7,
   "metadata": {
    "tags": []
   },
   "outputs": [
    {
     "data": {
      "text/html": [
       "<div>\n",
       "<style scoped>\n",
       "    .dataframe tbody tr th:only-of-type {\n",
       "        vertical-align: middle;\n",
       "    }\n",
       "\n",
       "    .dataframe tbody tr th {\n",
       "        vertical-align: top;\n",
       "    }\n",
       "\n",
       "    .dataframe thead th {\n",
       "        text-align: right;\n",
       "    }\n",
       "</style>\n",
       "<table border=\"1\" class=\"dataframe\">\n",
       "  <thead>\n",
       "    <tr style=\"text-align: right;\">\n",
       "      <th></th>\n",
       "      <th></th>\n",
       "      <th></th>\n",
       "      <th></th>\n",
       "      <th></th>\n",
       "      <th>time</th>\n",
       "      <th>gid</th>\n",
       "    </tr>\n",
       "    <tr>\n",
       "      <th>simulation_id</th>\n",
       "      <th>circuit_id</th>\n",
       "      <th>neuron_class</th>\n",
       "      <th>window</th>\n",
       "      <th>trial</th>\n",
       "      <th></th>\n",
       "      <th></th>\n",
       "    </tr>\n",
       "  </thead>\n",
       "  <tbody>\n",
       "    <tr>\n",
       "      <th rowspan=\"5\" valign=\"top\">1</th>\n",
       "      <th rowspan=\"5\" valign=\"top\">0</th>\n",
       "      <th rowspan=\"2\" valign=\"top\">L23_INH</th>\n",
       "      <th rowspan=\"2\" valign=\"top\">w1</th>\n",
       "      <th>0</th>\n",
       "      <td>2.677817</td>\n",
       "      <td>7</td>\n",
       "    </tr>\n",
       "    <tr>\n",
       "      <th>0</th>\n",
       "      <td>2.270008</td>\n",
       "      <td>9</td>\n",
       "    </tr>\n",
       "    <tr>\n",
       "      <th>L23_EXC</th>\n",
       "      <th>w1</th>\n",
       "      <th>0</th>\n",
       "      <td>2.735194</td>\n",
       "      <td>17</td>\n",
       "    </tr>\n",
       "    <tr>\n",
       "      <th rowspan=\"2\" valign=\"top\">L23_INH</th>\n",
       "      <th rowspan=\"2\" valign=\"top\">w1</th>\n",
       "      <th>0</th>\n",
       "      <td>2.962189</td>\n",
       "      <td>9</td>\n",
       "    </tr>\n",
       "    <tr>\n",
       "      <th>0</th>\n",
       "      <td>2.248753</td>\n",
       "      <td>0</td>\n",
       "    </tr>\n",
       "  </tbody>\n",
       "</table>\n",
       "</div>"
      ],
      "text/plain": [
       "                                                        time  gid\n",
       "simulation_id circuit_id neuron_class window trial               \n",
       "1             0          L23_INH      w1     0      2.677817    7\n",
       "                                             0      2.270008    9\n",
       "                         L23_EXC      w1     0      2.735194   17\n",
       "                         L23_INH      w1     0      2.962189    9\n",
       "                                             0      2.248753    0"
      ]
     },
     "metadata": {},
     "output_type": "display_data"
    },
    {
     "name": "stdout",
     "output_type": "stream",
     "text": [
      "### Filtered by simulation_id=1\n"
     ]
    },
    {
     "data": {
      "text/html": [
       "<div>\n",
       "<style scoped>\n",
       "    .dataframe tbody tr th:only-of-type {\n",
       "        vertical-align: middle;\n",
       "    }\n",
       "\n",
       "    .dataframe tbody tr th {\n",
       "        vertical-align: top;\n",
       "    }\n",
       "\n",
       "    .dataframe thead th {\n",
       "        text-align: right;\n",
       "    }\n",
       "</style>\n",
       "<table border=\"1\" class=\"dataframe\">\n",
       "  <thead>\n",
       "    <tr style=\"text-align: right;\">\n",
       "      <th></th>\n",
       "      <th></th>\n",
       "      <th></th>\n",
       "      <th></th>\n",
       "      <th></th>\n",
       "      <th>time</th>\n",
       "      <th>gid</th>\n",
       "    </tr>\n",
       "    <tr>\n",
       "      <th>simulation_id</th>\n",
       "      <th>circuit_id</th>\n",
       "      <th>neuron_class</th>\n",
       "      <th>window</th>\n",
       "      <th>trial</th>\n",
       "      <th></th>\n",
       "      <th></th>\n",
       "    </tr>\n",
       "  </thead>\n",
       "  <tbody>\n",
       "    <tr>\n",
       "      <th rowspan=\"5\" valign=\"top\">0</th>\n",
       "      <th rowspan=\"5\" valign=\"top\">0</th>\n",
       "      <th rowspan=\"5\" valign=\"top\">L23_EXC</th>\n",
       "      <th rowspan=\"5\" valign=\"top\">w1</th>\n",
       "      <th>0</th>\n",
       "      <td>2.832620</td>\n",
       "      <td>10</td>\n",
       "    </tr>\n",
       "    <tr>\n",
       "      <th>0</th>\n",
       "      <td>2.568434</td>\n",
       "      <td>10</td>\n",
       "    </tr>\n",
       "    <tr>\n",
       "      <th>0</th>\n",
       "      <td>2.438602</td>\n",
       "      <td>10</td>\n",
       "    </tr>\n",
       "    <tr>\n",
       "      <th>0</th>\n",
       "      <td>2.368725</td>\n",
       "      <td>10</td>\n",
       "    </tr>\n",
       "    <tr>\n",
       "      <th>0</th>\n",
       "      <td>2.976459</td>\n",
       "      <td>10</td>\n",
       "    </tr>\n",
       "  </tbody>\n",
       "</table>\n",
       "</div>"
      ],
      "text/plain": [
       "                                                        time  gid\n",
       "simulation_id circuit_id neuron_class window trial               \n",
       "0             0          L23_EXC      w1     0      2.832620   10\n",
       "                                             0      2.568434   10\n",
       "                                             0      2.438602   10\n",
       "                                             0      2.368725   10\n",
       "                                             0      2.976459   10"
      ]
     },
     "metadata": {},
     "output_type": "display_data"
    },
    {
     "name": "stdout",
     "output_type": "stream",
     "text": [
      "### Filtered by gid=10\n"
     ]
    }
   ],
   "source": [
    "for key, value in [(\"simulation_id\", 1), (\"gid\", 10)]:\n",
    "    result = df.etl.q({key: value})\n",
    "    display(result.head())\n",
    "    print(f\"### Filtered by {key}={value}\")"
   ]
  },
  {
   "cell_type": "markdown",
   "metadata": {},
   "source": [
    "Alternatively, it's possible to use the standard python dict unpacking syntax with ``**``:"
   ]
  },
  {
   "cell_type": "code",
   "execution_count": 8,
   "metadata": {
    "tags": []
   },
   "outputs": [
    {
     "data": {
      "text/html": [
       "<div>\n",
       "<style scoped>\n",
       "    .dataframe tbody tr th:only-of-type {\n",
       "        vertical-align: middle;\n",
       "    }\n",
       "\n",
       "    .dataframe tbody tr th {\n",
       "        vertical-align: top;\n",
       "    }\n",
       "\n",
       "    .dataframe thead th {\n",
       "        text-align: right;\n",
       "    }\n",
       "</style>\n",
       "<table border=\"1\" class=\"dataframe\">\n",
       "  <thead>\n",
       "    <tr style=\"text-align: right;\">\n",
       "      <th></th>\n",
       "      <th></th>\n",
       "      <th></th>\n",
       "      <th></th>\n",
       "      <th></th>\n",
       "      <th>time</th>\n",
       "      <th>gid</th>\n",
       "    </tr>\n",
       "    <tr>\n",
       "      <th>simulation_id</th>\n",
       "      <th>circuit_id</th>\n",
       "      <th>neuron_class</th>\n",
       "      <th>window</th>\n",
       "      <th>trial</th>\n",
       "      <th></th>\n",
       "      <th></th>\n",
       "    </tr>\n",
       "  </thead>\n",
       "  <tbody>\n",
       "    <tr>\n",
       "      <th rowspan=\"5\" valign=\"top\">1</th>\n",
       "      <th rowspan=\"5\" valign=\"top\">0</th>\n",
       "      <th rowspan=\"2\" valign=\"top\">L23_INH</th>\n",
       "      <th rowspan=\"2\" valign=\"top\">w1</th>\n",
       "      <th>0</th>\n",
       "      <td>2.677817</td>\n",
       "      <td>7</td>\n",
       "    </tr>\n",
       "    <tr>\n",
       "      <th>0</th>\n",
       "      <td>2.270008</td>\n",
       "      <td>9</td>\n",
       "    </tr>\n",
       "    <tr>\n",
       "      <th>L23_EXC</th>\n",
       "      <th>w1</th>\n",
       "      <th>0</th>\n",
       "      <td>2.735194</td>\n",
       "      <td>17</td>\n",
       "    </tr>\n",
       "    <tr>\n",
       "      <th rowspan=\"2\" valign=\"top\">L23_INH</th>\n",
       "      <th rowspan=\"2\" valign=\"top\">w1</th>\n",
       "      <th>0</th>\n",
       "      <td>2.962189</td>\n",
       "      <td>9</td>\n",
       "    </tr>\n",
       "    <tr>\n",
       "      <th>0</th>\n",
       "      <td>2.248753</td>\n",
       "      <td>0</td>\n",
       "    </tr>\n",
       "  </tbody>\n",
       "</table>\n",
       "</div>"
      ],
      "text/plain": [
       "                                                        time  gid\n",
       "simulation_id circuit_id neuron_class window trial               \n",
       "1             0          L23_INH      w1     0      2.677817    7\n",
       "                                             0      2.270008    9\n",
       "                         L23_EXC      w1     0      2.735194   17\n",
       "                         L23_INH      w1     0      2.962189    9\n",
       "                                             0      2.248753    0"
      ]
     },
     "metadata": {},
     "output_type": "display_data"
    },
    {
     "name": "stdout",
     "output_type": "stream",
     "text": [
      "### Filtered by simulation_id=1\n"
     ]
    },
    {
     "data": {
      "text/html": [
       "<div>\n",
       "<style scoped>\n",
       "    .dataframe tbody tr th:only-of-type {\n",
       "        vertical-align: middle;\n",
       "    }\n",
       "\n",
       "    .dataframe tbody tr th {\n",
       "        vertical-align: top;\n",
       "    }\n",
       "\n",
       "    .dataframe thead th {\n",
       "        text-align: right;\n",
       "    }\n",
       "</style>\n",
       "<table border=\"1\" class=\"dataframe\">\n",
       "  <thead>\n",
       "    <tr style=\"text-align: right;\">\n",
       "      <th></th>\n",
       "      <th></th>\n",
       "      <th></th>\n",
       "      <th></th>\n",
       "      <th></th>\n",
       "      <th>time</th>\n",
       "      <th>gid</th>\n",
       "    </tr>\n",
       "    <tr>\n",
       "      <th>simulation_id</th>\n",
       "      <th>circuit_id</th>\n",
       "      <th>neuron_class</th>\n",
       "      <th>window</th>\n",
       "      <th>trial</th>\n",
       "      <th></th>\n",
       "      <th></th>\n",
       "    </tr>\n",
       "  </thead>\n",
       "  <tbody>\n",
       "    <tr>\n",
       "      <th rowspan=\"5\" valign=\"top\">0</th>\n",
       "      <th rowspan=\"5\" valign=\"top\">0</th>\n",
       "      <th rowspan=\"5\" valign=\"top\">L23_EXC</th>\n",
       "      <th rowspan=\"5\" valign=\"top\">w1</th>\n",
       "      <th>0</th>\n",
       "      <td>2.832620</td>\n",
       "      <td>10</td>\n",
       "    </tr>\n",
       "    <tr>\n",
       "      <th>0</th>\n",
       "      <td>2.568434</td>\n",
       "      <td>10</td>\n",
       "    </tr>\n",
       "    <tr>\n",
       "      <th>0</th>\n",
       "      <td>2.438602</td>\n",
       "      <td>10</td>\n",
       "    </tr>\n",
       "    <tr>\n",
       "      <th>0</th>\n",
       "      <td>2.368725</td>\n",
       "      <td>10</td>\n",
       "    </tr>\n",
       "    <tr>\n",
       "      <th>0</th>\n",
       "      <td>2.976459</td>\n",
       "      <td>10</td>\n",
       "    </tr>\n",
       "  </tbody>\n",
       "</table>\n",
       "</div>"
      ],
      "text/plain": [
       "                                                        time  gid\n",
       "simulation_id circuit_id neuron_class window trial               \n",
       "0             0          L23_EXC      w1     0      2.832620   10\n",
       "                                             0      2.568434   10\n",
       "                                             0      2.438602   10\n",
       "                                             0      2.368725   10\n",
       "                                             0      2.976459   10"
      ]
     },
     "metadata": {},
     "output_type": "display_data"
    },
    {
     "name": "stdout",
     "output_type": "stream",
     "text": [
      "### Filtered by gid=10\n"
     ]
    }
   ],
   "source": [
    "for key, value in [(\"simulation_id\", 1), (\"gid\", 10)]:\n",
    "    result = df.etl.q(**{key: value})\n",
    "    display(result.head())\n",
    "    print(f\"### Filtered by {key}={value}\")"
   ]
  },
  {
   "cell_type": "markdown",
   "metadata": {},
   "source": [
    "### Union of selections"
   ]
  },
  {
   "cell_type": "markdown",
   "metadata": {},
   "source": [
    "Besides passing a dict or named parameters to `etl.q`, it's possible to pass a list of dictionaries.\n",
    "\n",
    "In this way, the method will return the union of the rows selected by each dictionary.\n",
    "\n",
    "**For performance reasons, you should pass a list of dictionaries only when the filter cannot be simply expressed using a single dictionary.**\n",
    "\n",
    "For example:"
   ]
  },
  {
   "cell_type": "code",
   "execution_count": 9,
   "metadata": {
    "tags": []
   },
   "outputs": [
    {
     "data": {
      "text/html": [
       "<div>\n",
       "<style scoped>\n",
       "    .dataframe tbody tr th:only-of-type {\n",
       "        vertical-align: middle;\n",
       "    }\n",
       "\n",
       "    .dataframe tbody tr th {\n",
       "        vertical-align: top;\n",
       "    }\n",
       "\n",
       "    .dataframe thead th {\n",
       "        text-align: right;\n",
       "    }\n",
       "</style>\n",
       "<table border=\"1\" class=\"dataframe\">\n",
       "  <thead>\n",
       "    <tr style=\"text-align: right;\">\n",
       "      <th></th>\n",
       "      <th>simulation_id</th>\n",
       "      <th>circuit_id</th>\n",
       "      <th>neuron_class</th>\n",
       "      <th>window</th>\n",
       "      <th>trial</th>\n",
       "      <th>time</th>\n",
       "      <th>gid</th>\n",
       "    </tr>\n",
       "  </thead>\n",
       "  <tbody>\n",
       "    <tr>\n",
       "      <th>101</th>\n",
       "      <td>1</td>\n",
       "      <td>0</td>\n",
       "      <td>L23_INH</td>\n",
       "      <td>w1</td>\n",
       "      <td>0</td>\n",
       "      <td>2.270008</td>\n",
       "      <td>9</td>\n",
       "    </tr>\n",
       "    <tr>\n",
       "      <th>103</th>\n",
       "      <td>1</td>\n",
       "      <td>0</td>\n",
       "      <td>L23_INH</td>\n",
       "      <td>w1</td>\n",
       "      <td>0</td>\n",
       "      <td>2.962189</td>\n",
       "      <td>9</td>\n",
       "    </tr>\n",
       "    <tr>\n",
       "      <th>110</th>\n",
       "      <td>1</td>\n",
       "      <td>0</td>\n",
       "      <td>L23_EXC</td>\n",
       "      <td>w1</td>\n",
       "      <td>0</td>\n",
       "      <td>2.447125</td>\n",
       "      <td>10</td>\n",
       "    </tr>\n",
       "    <tr>\n",
       "      <th>117</th>\n",
       "      <td>1</td>\n",
       "      <td>0</td>\n",
       "      <td>L23_EXC</td>\n",
       "      <td>w1</td>\n",
       "      <td>0</td>\n",
       "      <td>2.581273</td>\n",
       "      <td>10</td>\n",
       "    </tr>\n",
       "    <tr>\n",
       "      <th>122</th>\n",
       "      <td>1</td>\n",
       "      <td>0</td>\n",
       "      <td>L23_INH</td>\n",
       "      <td>w1</td>\n",
       "      <td>0</td>\n",
       "      <td>2.956084</td>\n",
       "      <td>9</td>\n",
       "    </tr>\n",
       "    <tr>\n",
       "      <th>129</th>\n",
       "      <td>1</td>\n",
       "      <td>0</td>\n",
       "      <td>L23_EXC</td>\n",
       "      <td>w1</td>\n",
       "      <td>0</td>\n",
       "      <td>2.290078</td>\n",
       "      <td>10</td>\n",
       "    </tr>\n",
       "    <tr>\n",
       "      <th>152</th>\n",
       "      <td>1</td>\n",
       "      <td>0</td>\n",
       "      <td>L23_INH</td>\n",
       "      <td>w1</td>\n",
       "      <td>0</td>\n",
       "      <td>2.162493</td>\n",
       "      <td>9</td>\n",
       "    </tr>\n",
       "    <tr>\n",
       "      <th>167</th>\n",
       "      <td>1</td>\n",
       "      <td>0</td>\n",
       "      <td>L23_INH</td>\n",
       "      <td>w1</td>\n",
       "      <td>0</td>\n",
       "      <td>2.359978</td>\n",
       "      <td>9</td>\n",
       "    </tr>\n",
       "  </tbody>\n",
       "</table>\n",
       "</div>"
      ],
      "text/plain": [
       "     simulation_id  circuit_id neuron_class window  trial      time  gid\n",
       "101              1           0      L23_INH     w1      0  2.270008    9\n",
       "103              1           0      L23_INH     w1      0  2.962189    9\n",
       "110              1           0      L23_EXC     w1      0  2.447125   10\n",
       "117              1           0      L23_EXC     w1      0  2.581273   10\n",
       "122              1           0      L23_INH     w1      0  2.956084    9\n",
       "129              1           0      L23_EXC     w1      0  2.290078   10\n",
       "152              1           0      L23_INH     w1      0  2.162493    9\n",
       "167              1           0      L23_INH     w1      0  2.359978    9"
      ]
     },
     "execution_count": 9,
     "metadata": {},
     "output_type": "execute_result"
    }
   ],
   "source": [
    "df_col.etl.q(\n",
    "    [\n",
    "        {\"simulation_id\": 1, \"neuron_class\": \"L23_EXC\", \"gid\": [10]},\n",
    "        {\"simulation_id\": 1, \"neuron_class\": \"L23_INH\", \"gid\": [9]},\n",
    "    ]\n",
    ")"
   ]
  },
  {
   "cell_type": "markdown",
   "metadata": {},
   "source": [
    "### Comparison with plain Pandas"
   ]
  },
  {
   "cell_type": "markdown",
   "metadata": {},
   "source": [
    "Let's consider the following query:"
   ]
  },
  {
   "cell_type": "code",
   "execution_count": 10,
   "metadata": {},
   "outputs": [
    {
     "data": {
      "text/html": [
       "<div>\n",
       "<style scoped>\n",
       "    .dataframe tbody tr th:only-of-type {\n",
       "        vertical-align: middle;\n",
       "    }\n",
       "\n",
       "    .dataframe tbody tr th {\n",
       "        vertical-align: top;\n",
       "    }\n",
       "\n",
       "    .dataframe thead th {\n",
       "        text-align: right;\n",
       "    }\n",
       "</style>\n",
       "<table border=\"1\" class=\"dataframe\">\n",
       "  <thead>\n",
       "    <tr style=\"text-align: right;\">\n",
       "      <th></th>\n",
       "      <th></th>\n",
       "      <th></th>\n",
       "      <th></th>\n",
       "      <th></th>\n",
       "      <th>time</th>\n",
       "      <th>gid</th>\n",
       "    </tr>\n",
       "    <tr>\n",
       "      <th>simulation_id</th>\n",
       "      <th>circuit_id</th>\n",
       "      <th>neuron_class</th>\n",
       "      <th>window</th>\n",
       "      <th>trial</th>\n",
       "      <th></th>\n",
       "      <th></th>\n",
       "    </tr>\n",
       "  </thead>\n",
       "  <tbody>\n",
       "    <tr>\n",
       "      <th rowspan=\"2\" valign=\"top\">1</th>\n",
       "      <th rowspan=\"2\" valign=\"top\">0</th>\n",
       "      <th>L23_EXC</th>\n",
       "      <th>w1</th>\n",
       "      <th>0</th>\n",
       "      <td>2.011714</td>\n",
       "      <td>11</td>\n",
       "    </tr>\n",
       "    <tr>\n",
       "      <th>L23_INH</th>\n",
       "      <th>w1</th>\n",
       "      <th>0</th>\n",
       "      <td>2.054338</td>\n",
       "      <td>8</td>\n",
       "    </tr>\n",
       "  </tbody>\n",
       "</table>\n",
       "</div>"
      ],
      "text/plain": [
       "                                                        time  gid\n",
       "simulation_id circuit_id neuron_class window trial               \n",
       "1             0          L23_EXC      w1     0      2.011714   11\n",
       "                         L23_INH      w1     0      2.054338    8"
      ]
     },
     "execution_count": 10,
     "metadata": {},
     "output_type": "execute_result"
    }
   ],
   "source": [
    "df.etl.q(\n",
    "    simulation_id=1,\n",
    "    window=[\"w1\", \"w2\"],\n",
    "    gid={\"ge\": 8, \"lt\": 12},\n",
    "    time={\"lt\": 2.1},\n",
    ")"
   ]
  },
  {
   "cell_type": "markdown",
   "metadata": {},
   "source": [
    "The same result can be obtained with plain Pandas, but it can be more verbose, and more difficult to chain the results, as shown in the example below."
   ]
  },
  {
   "cell_type": "code",
   "execution_count": 11,
   "metadata": {},
   "outputs": [
    {
     "data": {
      "text/html": [
       "<div>\n",
       "<style scoped>\n",
       "    .dataframe tbody tr th:only-of-type {\n",
       "        vertical-align: middle;\n",
       "    }\n",
       "\n",
       "    .dataframe tbody tr th {\n",
       "        vertical-align: top;\n",
       "    }\n",
       "\n",
       "    .dataframe thead th {\n",
       "        text-align: right;\n",
       "    }\n",
       "</style>\n",
       "<table border=\"1\" class=\"dataframe\">\n",
       "  <thead>\n",
       "    <tr style=\"text-align: right;\">\n",
       "      <th></th>\n",
       "      <th></th>\n",
       "      <th></th>\n",
       "      <th></th>\n",
       "      <th></th>\n",
       "      <th>time</th>\n",
       "      <th>gid</th>\n",
       "    </tr>\n",
       "    <tr>\n",
       "      <th>simulation_id</th>\n",
       "      <th>circuit_id</th>\n",
       "      <th>neuron_class</th>\n",
       "      <th>window</th>\n",
       "      <th>trial</th>\n",
       "      <th></th>\n",
       "      <th></th>\n",
       "    </tr>\n",
       "  </thead>\n",
       "  <tbody>\n",
       "    <tr>\n",
       "      <th rowspan=\"2\" valign=\"top\">1</th>\n",
       "      <th rowspan=\"2\" valign=\"top\">0</th>\n",
       "      <th>L23_EXC</th>\n",
       "      <th>w1</th>\n",
       "      <th>0</th>\n",
       "      <td>2.011714</td>\n",
       "      <td>11</td>\n",
       "    </tr>\n",
       "    <tr>\n",
       "      <th>L23_INH</th>\n",
       "      <th>w1</th>\n",
       "      <th>0</th>\n",
       "      <td>2.054338</td>\n",
       "      <td>8</td>\n",
       "    </tr>\n",
       "  </tbody>\n",
       "</table>\n",
       "</div>"
      ],
      "text/plain": [
       "                                                        time  gid\n",
       "simulation_id circuit_id neuron_class window trial               \n",
       "1             0          L23_EXC      w1     0      2.011714   11\n",
       "                         L23_INH      w1     0      2.054338    8"
      ]
     },
     "execution_count": 11,
     "metadata": {},
     "output_type": "execute_result"
    }
   ],
   "source": [
    "df.loc[\n",
    "    (df.index.get_level_values('simulation_id') == 1)\n",
    "    & (df.index.get_level_values('window').isin([\"w1\", \"w2\"]))\n",
    "    & (df['gid'] >= 8)\n",
    "    & (df['gid'] < 12)\n",
    "    & (df['time'] < 2.1)\n",
    "]"
   ]
  },
  {
   "cell_type": "markdown",
   "metadata": {},
   "source": [
    "As an alternative, it's possible to use the Pandas `query()` method as shown below.\n",
    "However, this operation can be slower than the previous methods."
   ]
  },
  {
   "cell_type": "code",
   "execution_count": 12,
   "metadata": {},
   "outputs": [
    {
     "data": {
      "text/html": [
       "<div>\n",
       "<style scoped>\n",
       "    .dataframe tbody tr th:only-of-type {\n",
       "        vertical-align: middle;\n",
       "    }\n",
       "\n",
       "    .dataframe tbody tr th {\n",
       "        vertical-align: top;\n",
       "    }\n",
       "\n",
       "    .dataframe thead th {\n",
       "        text-align: right;\n",
       "    }\n",
       "</style>\n",
       "<table border=\"1\" class=\"dataframe\">\n",
       "  <thead>\n",
       "    <tr style=\"text-align: right;\">\n",
       "      <th></th>\n",
       "      <th></th>\n",
       "      <th></th>\n",
       "      <th></th>\n",
       "      <th></th>\n",
       "      <th>time</th>\n",
       "      <th>gid</th>\n",
       "    </tr>\n",
       "    <tr>\n",
       "      <th>simulation_id</th>\n",
       "      <th>circuit_id</th>\n",
       "      <th>neuron_class</th>\n",
       "      <th>window</th>\n",
       "      <th>trial</th>\n",
       "      <th></th>\n",
       "      <th></th>\n",
       "    </tr>\n",
       "  </thead>\n",
       "  <tbody>\n",
       "    <tr>\n",
       "      <th rowspan=\"2\" valign=\"top\">1</th>\n",
       "      <th rowspan=\"2\" valign=\"top\">0</th>\n",
       "      <th>L23_EXC</th>\n",
       "      <th>w1</th>\n",
       "      <th>0</th>\n",
       "      <td>2.011714</td>\n",
       "      <td>11</td>\n",
       "    </tr>\n",
       "    <tr>\n",
       "      <th>L23_INH</th>\n",
       "      <th>w1</th>\n",
       "      <th>0</th>\n",
       "      <td>2.054338</td>\n",
       "      <td>8</td>\n",
       "    </tr>\n",
       "  </tbody>\n",
       "</table>\n",
       "</div>"
      ],
      "text/plain": [
       "                                                        time  gid\n",
       "simulation_id circuit_id neuron_class window trial               \n",
       "1             0          L23_EXC      w1     0      2.011714   11\n",
       "                         L23_INH      w1     0      2.054338    8"
      ]
     },
     "execution_count": 12,
     "metadata": {},
     "output_type": "execute_result"
    }
   ],
   "source": [
    "df.query(\"simulation_id==1 and window==['w1', 'w2'] and gid >= 8 and gid < 12 and time < 2.1\")"
   ]
  },
  {
   "cell_type": "markdown",
   "metadata": {},
   "source": [
    "When a query cannot be built with `etl.q`, it's still possible to use the plain Pandas syntax, since the returned objects are DataFrames or Series."
   ]
  },
  {
   "cell_type": "markdown",
   "metadata": {},
   "source": [
    "## Working with MultiIndexes"
   ]
  },
  {
   "cell_type": "markdown",
   "metadata": {},
   "source": [
    "Retrieve the names of all the MultiIndex levels (conditions):"
   ]
  },
  {
   "cell_type": "code",
   "execution_count": 13,
   "metadata": {},
   "outputs": [
    {
     "data": {
      "text/plain": [
       "FrozenList(['simulation_id', 'circuit_id', 'neuron_class', 'window', 'trial'])"
      ]
     },
     "execution_count": 13,
     "metadata": {},
     "output_type": "execute_result"
    }
   ],
   "source": [
    "df.etl.conditions()"
   ]
  },
  {
   "cell_type": "markdown",
   "metadata": {},
   "source": [
    "Retrieve the difference between all the conditions and the specified conditions:"
   ]
  },
  {
   "cell_type": "code",
   "execution_count": 14,
   "metadata": {},
   "outputs": [
    {
     "data": {
      "text/plain": [
       "FrozenList(['circuit_id', 'neuron_class', 'window'])"
      ]
     },
     "execution_count": 14,
     "metadata": {},
     "output_type": "execute_result"
    }
   ],
   "source": [
    "df.etl.complementary_conditions(['trial', 'simulation_id'])"
   ]
  },
  {
   "cell_type": "markdown",
   "metadata": {},
   "source": [
    "Retrieve the unique labels for each level:"
   ]
  },
  {
   "cell_type": "code",
   "execution_count": 15,
   "metadata": {},
   "outputs": [
    {
     "data": {
      "text/plain": [
       "[Index([0, 1, 2], dtype='int64', name='simulation_id'),\n",
       " Index([0], dtype='int64', name='circuit_id'),\n",
       " Index(['L23_INH', 'L23_EXC'], dtype='object', name='neuron_class'),\n",
       " Index(['w1'], dtype='object', name='window'),\n",
       " Index([0], dtype='int64', name='trial')]"
      ]
     },
     "execution_count": 15,
     "metadata": {},
     "output_type": "execute_result"
    }
   ],
   "source": [
    "df.etl.labels()"
   ]
  },
  {
   "cell_type": "markdown",
   "metadata": {},
   "source": [
    "or for specific levels:"
   ]
  },
  {
   "cell_type": "code",
   "execution_count": 16,
   "metadata": {},
   "outputs": [
    {
     "data": {
      "text/plain": [
       "[Index(['L23_INH', 'L23_EXC'], dtype='object', name='neuron_class')]"
      ]
     },
     "execution_count": 16,
     "metadata": {},
     "output_type": "execute_result"
    }
   ],
   "source": [
    "df.etl.labels([\"neuron_class\"])"
   ]
  },
  {
   "cell_type": "markdown",
   "metadata": {},
   "source": [
    "It's possible to remove one or more conditions. However, note that the resulting MultiIndex may be not unique anymore."
   ]
  },
  {
   "cell_type": "code",
   "execution_count": 17,
   "metadata": {},
   "outputs": [
    {
     "data": {
      "text/html": [
       "<div>\n",
       "<style scoped>\n",
       "    .dataframe tbody tr th:only-of-type {\n",
       "        vertical-align: middle;\n",
       "    }\n",
       "\n",
       "    .dataframe tbody tr th {\n",
       "        vertical-align: top;\n",
       "    }\n",
       "\n",
       "    .dataframe thead th {\n",
       "        text-align: right;\n",
       "    }\n",
       "</style>\n",
       "<table border=\"1\" class=\"dataframe\">\n",
       "  <thead>\n",
       "    <tr style=\"text-align: right;\">\n",
       "      <th></th>\n",
       "      <th></th>\n",
       "      <th></th>\n",
       "      <th>time</th>\n",
       "      <th>gid</th>\n",
       "    </tr>\n",
       "    <tr>\n",
       "      <th>simulation_id</th>\n",
       "      <th>circuit_id</th>\n",
       "      <th>neuron_class</th>\n",
       "      <th></th>\n",
       "      <th></th>\n",
       "    </tr>\n",
       "  </thead>\n",
       "  <tbody>\n",
       "    <tr>\n",
       "      <th rowspan=\"5\" valign=\"top\">0</th>\n",
       "      <th rowspan=\"5\" valign=\"top\">0</th>\n",
       "      <th>L23_INH</th>\n",
       "      <td>2.548814</td>\n",
       "      <td>6</td>\n",
       "    </tr>\n",
       "    <tr>\n",
       "      <th>L23_INH</th>\n",
       "      <td>2.715189</td>\n",
       "      <td>7</td>\n",
       "    </tr>\n",
       "    <tr>\n",
       "      <th>L23_EXC</th>\n",
       "      <td>2.602763</td>\n",
       "      <td>18</td>\n",
       "    </tr>\n",
       "    <tr>\n",
       "      <th>L23_EXC</th>\n",
       "      <td>2.544883</td>\n",
       "      <td>11</td>\n",
       "    </tr>\n",
       "    <tr>\n",
       "      <th>L23_EXC</th>\n",
       "      <td>2.423655</td>\n",
       "      <td>19</td>\n",
       "    </tr>\n",
       "    <tr>\n",
       "      <th>...</th>\n",
       "      <th>...</th>\n",
       "      <th>...</th>\n",
       "      <td>...</td>\n",
       "      <td>...</td>\n",
       "    </tr>\n",
       "    <tr>\n",
       "      <th rowspan=\"5\" valign=\"top\">2</th>\n",
       "      <th rowspan=\"5\" valign=\"top\">0</th>\n",
       "      <th>L23_INH</th>\n",
       "      <td>2.490459</td>\n",
       "      <td>2</td>\n",
       "    </tr>\n",
       "    <tr>\n",
       "      <th>L23_EXC</th>\n",
       "      <td>2.227415</td>\n",
       "      <td>13</td>\n",
       "    </tr>\n",
       "    <tr>\n",
       "      <th>L23_EXC</th>\n",
       "      <td>2.254356</td>\n",
       "      <td>15</td>\n",
       "    </tr>\n",
       "    <tr>\n",
       "      <th>L23_INH</th>\n",
       "      <td>2.058029</td>\n",
       "      <td>4</td>\n",
       "    </tr>\n",
       "    <tr>\n",
       "      <th>L23_INH</th>\n",
       "      <td>2.434417</td>\n",
       "      <td>9</td>\n",
       "    </tr>\n",
       "  </tbody>\n",
       "</table>\n",
       "<p>200 rows × 2 columns</p>\n",
       "</div>"
      ],
      "text/plain": [
       "                                           time  gid\n",
       "simulation_id circuit_id neuron_class               \n",
       "0             0          L23_INH       2.548814    6\n",
       "                         L23_INH       2.715189    7\n",
       "                         L23_EXC       2.602763   18\n",
       "                         L23_EXC       2.544883   11\n",
       "                         L23_EXC       2.423655   19\n",
       "...                                         ...  ...\n",
       "2             0          L23_INH       2.490459    2\n",
       "                         L23_EXC       2.227415   13\n",
       "                         L23_EXC       2.254356   15\n",
       "                         L23_INH       2.058029    4\n",
       "                         L23_INH       2.434417    9\n",
       "\n",
       "[200 rows x 2 columns]"
      ]
     },
     "execution_count": 17,
     "metadata": {},
     "output_type": "execute_result"
    }
   ],
   "source": [
    "df.etl.remove_conditions(['window', 'trial'])"
   ]
  },
  {
   "cell_type": "markdown",
   "metadata": {},
   "source": [
    "It's also possible to specify only the conditions to keep:"
   ]
  },
  {
   "cell_type": "code",
   "execution_count": 18,
   "metadata": {},
   "outputs": [
    {
     "data": {
      "text/html": [
       "<div>\n",
       "<style scoped>\n",
       "    .dataframe tbody tr th:only-of-type {\n",
       "        vertical-align: middle;\n",
       "    }\n",
       "\n",
       "    .dataframe tbody tr th {\n",
       "        vertical-align: top;\n",
       "    }\n",
       "\n",
       "    .dataframe thead th {\n",
       "        text-align: right;\n",
       "    }\n",
       "</style>\n",
       "<table border=\"1\" class=\"dataframe\">\n",
       "  <thead>\n",
       "    <tr style=\"text-align: right;\">\n",
       "      <th></th>\n",
       "      <th></th>\n",
       "      <th>time</th>\n",
       "      <th>gid</th>\n",
       "    </tr>\n",
       "    <tr>\n",
       "      <th>window</th>\n",
       "      <th>trial</th>\n",
       "      <th></th>\n",
       "      <th></th>\n",
       "    </tr>\n",
       "  </thead>\n",
       "  <tbody>\n",
       "    <tr>\n",
       "      <th rowspan=\"11\" valign=\"top\">w1</th>\n",
       "      <th>0</th>\n",
       "      <td>2.548814</td>\n",
       "      <td>6</td>\n",
       "    </tr>\n",
       "    <tr>\n",
       "      <th>0</th>\n",
       "      <td>2.715189</td>\n",
       "      <td>7</td>\n",
       "    </tr>\n",
       "    <tr>\n",
       "      <th>0</th>\n",
       "      <td>2.602763</td>\n",
       "      <td>18</td>\n",
       "    </tr>\n",
       "    <tr>\n",
       "      <th>0</th>\n",
       "      <td>2.544883</td>\n",
       "      <td>11</td>\n",
       "    </tr>\n",
       "    <tr>\n",
       "      <th>0</th>\n",
       "      <td>2.423655</td>\n",
       "      <td>19</td>\n",
       "    </tr>\n",
       "    <tr>\n",
       "      <th>...</th>\n",
       "      <td>...</td>\n",
       "      <td>...</td>\n",
       "    </tr>\n",
       "    <tr>\n",
       "      <th>0</th>\n",
       "      <td>2.490459</td>\n",
       "      <td>2</td>\n",
       "    </tr>\n",
       "    <tr>\n",
       "      <th>0</th>\n",
       "      <td>2.227415</td>\n",
       "      <td>13</td>\n",
       "    </tr>\n",
       "    <tr>\n",
       "      <th>0</th>\n",
       "      <td>2.254356</td>\n",
       "      <td>15</td>\n",
       "    </tr>\n",
       "    <tr>\n",
       "      <th>0</th>\n",
       "      <td>2.058029</td>\n",
       "      <td>4</td>\n",
       "    </tr>\n",
       "    <tr>\n",
       "      <th>0</th>\n",
       "      <td>2.434417</td>\n",
       "      <td>9</td>\n",
       "    </tr>\n",
       "  </tbody>\n",
       "</table>\n",
       "<p>200 rows × 2 columns</p>\n",
       "</div>"
      ],
      "text/plain": [
       "                  time  gid\n",
       "window trial               \n",
       "w1     0      2.548814    6\n",
       "       0      2.715189    7\n",
       "       0      2.602763   18\n",
       "       0      2.544883   11\n",
       "       0      2.423655   19\n",
       "...                ...  ...\n",
       "       0      2.490459    2\n",
       "       0      2.227415   13\n",
       "       0      2.254356   15\n",
       "       0      2.058029    4\n",
       "       0      2.434417    9\n",
       "\n",
       "[200 rows x 2 columns]"
      ]
     },
     "execution_count": 18,
     "metadata": {},
     "output_type": "execute_result"
    }
   ],
   "source": [
    "df.etl.keep_conditions(['window', 'trial'])"
   ]
  },
  {
   "cell_type": "markdown",
   "metadata": {},
   "source": [
    "New levels can be added in the following way:"
   ]
  },
  {
   "cell_type": "code",
   "execution_count": 19,
   "metadata": {},
   "outputs": [
    {
     "data": {
      "text/html": [
       "<div>\n",
       "<style scoped>\n",
       "    .dataframe tbody tr th:only-of-type {\n",
       "        vertical-align: middle;\n",
       "    }\n",
       "\n",
       "    .dataframe tbody tr th {\n",
       "        vertical-align: top;\n",
       "    }\n",
       "\n",
       "    .dataframe thead th {\n",
       "        text-align: right;\n",
       "    }\n",
       "</style>\n",
       "<table border=\"1\" class=\"dataframe\">\n",
       "  <thead>\n",
       "    <tr style=\"text-align: right;\">\n",
       "      <th></th>\n",
       "      <th></th>\n",
       "      <th></th>\n",
       "      <th></th>\n",
       "      <th></th>\n",
       "      <th></th>\n",
       "      <th></th>\n",
       "      <th>time</th>\n",
       "      <th>gid</th>\n",
       "    </tr>\n",
       "    <tr>\n",
       "      <th>cond1</th>\n",
       "      <th>cond2</th>\n",
       "      <th>simulation_id</th>\n",
       "      <th>circuit_id</th>\n",
       "      <th>neuron_class</th>\n",
       "      <th>window</th>\n",
       "      <th>trial</th>\n",
       "      <th></th>\n",
       "      <th></th>\n",
       "    </tr>\n",
       "  </thead>\n",
       "  <tbody>\n",
       "    <tr>\n",
       "      <th rowspan=\"11\" valign=\"top\">111</th>\n",
       "      <th rowspan=\"11\" valign=\"top\">222</th>\n",
       "      <th rowspan=\"5\" valign=\"top\">0</th>\n",
       "      <th rowspan=\"5\" valign=\"top\">0</th>\n",
       "      <th rowspan=\"2\" valign=\"top\">L23_INH</th>\n",
       "      <th rowspan=\"2\" valign=\"top\">w1</th>\n",
       "      <th>0</th>\n",
       "      <td>2.548814</td>\n",
       "      <td>6</td>\n",
       "    </tr>\n",
       "    <tr>\n",
       "      <th>0</th>\n",
       "      <td>2.715189</td>\n",
       "      <td>7</td>\n",
       "    </tr>\n",
       "    <tr>\n",
       "      <th rowspan=\"3\" valign=\"top\">L23_EXC</th>\n",
       "      <th rowspan=\"3\" valign=\"top\">w1</th>\n",
       "      <th>0</th>\n",
       "      <td>2.602763</td>\n",
       "      <td>18</td>\n",
       "    </tr>\n",
       "    <tr>\n",
       "      <th>0</th>\n",
       "      <td>2.544883</td>\n",
       "      <td>11</td>\n",
       "    </tr>\n",
       "    <tr>\n",
       "      <th>0</th>\n",
       "      <td>2.423655</td>\n",
       "      <td>19</td>\n",
       "    </tr>\n",
       "    <tr>\n",
       "      <th>...</th>\n",
       "      <th>...</th>\n",
       "      <th>...</th>\n",
       "      <th>...</th>\n",
       "      <th>...</th>\n",
       "      <td>...</td>\n",
       "      <td>...</td>\n",
       "    </tr>\n",
       "    <tr>\n",
       "      <th rowspan=\"5\" valign=\"top\">2</th>\n",
       "      <th rowspan=\"5\" valign=\"top\">0</th>\n",
       "      <th>L23_INH</th>\n",
       "      <th>w1</th>\n",
       "      <th>0</th>\n",
       "      <td>2.490459</td>\n",
       "      <td>2</td>\n",
       "    </tr>\n",
       "    <tr>\n",
       "      <th rowspan=\"2\" valign=\"top\">L23_EXC</th>\n",
       "      <th rowspan=\"2\" valign=\"top\">w1</th>\n",
       "      <th>0</th>\n",
       "      <td>2.227415</td>\n",
       "      <td>13</td>\n",
       "    </tr>\n",
       "    <tr>\n",
       "      <th>0</th>\n",
       "      <td>2.254356</td>\n",
       "      <td>15</td>\n",
       "    </tr>\n",
       "    <tr>\n",
       "      <th rowspan=\"2\" valign=\"top\">L23_INH</th>\n",
       "      <th rowspan=\"2\" valign=\"top\">w1</th>\n",
       "      <th>0</th>\n",
       "      <td>2.058029</td>\n",
       "      <td>4</td>\n",
       "    </tr>\n",
       "    <tr>\n",
       "      <th>0</th>\n",
       "      <td>2.434417</td>\n",
       "      <td>9</td>\n",
       "    </tr>\n",
       "  </tbody>\n",
       "</table>\n",
       "<p>200 rows × 2 columns</p>\n",
       "</div>"
      ],
      "text/plain": [
       "                                                                    time  gid\n",
       "cond1 cond2 simulation_id circuit_id neuron_class window trial               \n",
       "111   222   0             0          L23_INH      w1     0      2.548814    6\n",
       "                                                         0      2.715189    7\n",
       "                                     L23_EXC      w1     0      2.602763   18\n",
       "                                                         0      2.544883   11\n",
       "                                                         0      2.423655   19\n",
       "...                                                                  ...  ...\n",
       "            2             0          L23_INH      w1     0      2.490459    2\n",
       "                                     L23_EXC      w1     0      2.227415   13\n",
       "                                                         0      2.254356   15\n",
       "                                     L23_INH      w1     0      2.058029    4\n",
       "                                                         0      2.434417    9\n",
       "\n",
       "[200 rows x 2 columns]"
      ]
     },
     "execution_count": 19,
     "metadata": {},
     "output_type": "execute_result"
    }
   ],
   "source": [
    "df.etl.add_conditions(conditions=['cond1', 'cond2'], values=[111, 222])"
   ]
  },
  {
   "cell_type": "markdown",
   "metadata": {},
   "source": [
    "## Iteration"
   ]
  },
  {
   "cell_type": "markdown",
   "metadata": {},
   "source": [
    "In general, iterations can be slow and should be avoided in favour of vectorized operations."
   ]
  },
  {
   "cell_type": "markdown",
   "metadata": {},
   "source": [
    "### Iteration over DataFrames"
   ]
  },
  {
   "cell_type": "markdown",
   "metadata": {},
   "source": [
    "The method `etl.iter()` can be used as an alternative to Pandas `itertuples()` when a namedtuple is desired also for the index:"
   ]
  },
  {
   "cell_type": "code",
   "execution_count": 20,
   "metadata": {},
   "outputs": [
    {
     "name": "stdout",
     "output_type": "stream",
     "text": [
      "Index(simulation_id=0, circuit_id=0, neuron_class='L23_INH', window='w1', trial=0)\n",
      "Values(time=2.5488135039273248, gid=6)\n"
     ]
    }
   ],
   "source": [
    "for index, values in df.etl.iter():\n",
    "    print(index)\n",
    "    print(values)\n",
    "    break"
   ]
  },
  {
   "cell_type": "markdown",
   "metadata": {},
   "source": [
    "In some cases, it may be more convenient to work with dictionaries, accepting some performance penalty:"
   ]
  },
  {
   "cell_type": "code",
   "execution_count": 21,
   "metadata": {},
   "outputs": [
    {
     "name": "stdout",
     "output_type": "stream",
     "text": [
      "{'simulation_id': 0, 'circuit_id': 0, 'neuron_class': 'L23_INH', 'window': 'w1', 'trial': 0}\n",
      "{'time': 2.5488135039273248, 'gid': 6}\n"
     ]
    }
   ],
   "source": [
    "for index, values in df.etl.iterdict():\n",
    "    print(index)\n",
    "    print(values)\n",
    "    break"
   ]
  },
  {
   "cell_type": "markdown",
   "metadata": {},
   "source": [
    "For comparison, this is the result with Pandas `itertuples()`:"
   ]
  },
  {
   "cell_type": "code",
   "execution_count": 22,
   "metadata": {},
   "outputs": [
    {
     "name": "stdout",
     "output_type": "stream",
     "text": [
      "Pandas(Index=(0, 0, 'L23_INH', 'w1', 0), time=2.5488135039273248, gid=6)\n"
     ]
    }
   ],
   "source": [
    "for item in df.itertuples():\n",
    "    print(item)\n",
    "    break"
   ]
  },
  {
   "cell_type": "markdown",
   "metadata": {},
   "source": [
    "Pandas `iterrows()` method should be avoided because it may be a lot slower than the other methods:"
   ]
  },
  {
   "cell_type": "code",
   "execution_count": 23,
   "metadata": {},
   "outputs": [
    {
     "name": "stdout",
     "output_type": "stream",
     "text": [
      "(0, 0, 'L23_INH', 'w1', 0)\n",
      "time    2.548814\n",
      "gid     6.000000\n",
      "Name: (0, 0, L23_INH, w1, 0), dtype: float64\n"
     ]
    }
   ],
   "source": [
    "for index, values in df.iterrows():\n",
    "    print(index)\n",
    "    print(values)\n",
    "    break"
   ]
  },
  {
   "cell_type": "markdown",
   "metadata": {},
   "source": [
    "### Iteration over Series"
   ]
  },
  {
   "cell_type": "markdown",
   "metadata": {},
   "source": [
    "The `etl.iter()` method can be used also to iterate over Series, and in this case the value is just the value of the item:"
   ]
  },
  {
   "cell_type": "code",
   "execution_count": 24,
   "metadata": {},
   "outputs": [
    {
     "name": "stdout",
     "output_type": "stream",
     "text": [
      "Index(simulation_id=0, circuit_id=0, neuron_class='L23_INH', window='w1', trial=0)\n",
      "2.5488135039273248\n"
     ]
    }
   ],
   "source": [
    "for index, values in df['time'].etl.iter():\n",
    "    print(index)\n",
    "    print(values)\n",
    "    break"
   ]
  },
  {
   "cell_type": "markdown",
   "metadata": {},
   "source": [
    "Similarly, when used with Series, `etl.iterdict()` will yield a dict for the index, and the plain value for the item:"
   ]
  },
  {
   "cell_type": "code",
   "execution_count": 25,
   "metadata": {},
   "outputs": [
    {
     "name": "stdout",
     "output_type": "stream",
     "text": [
      "{'simulation_id': 0, 'circuit_id': 0, 'neuron_class': 'L23_INH', 'window': 'w1', 'trial': 0}\n",
      "2.5488135039273248\n"
     ]
    }
   ],
   "source": [
    "for index, values in df['time'].etl.iterdict():\n",
    "    print(index)\n",
    "    print(values)\n",
    "    break"
   ]
  },
  {
   "cell_type": "markdown",
   "metadata": {},
   "source": [
    "## Grouping"
   ]
  },
  {
   "cell_type": "markdown",
   "metadata": {},
   "source": [
    "In some cases it can be useful to use `etl.groupby_except()` to group by all the conditions, except some of them:"
   ]
  },
  {
   "cell_type": "code",
   "execution_count": 26,
   "metadata": {},
   "outputs": [
    {
     "data": {
      "text/html": [
       "<div>\n",
       "<style scoped>\n",
       "    .dataframe tbody tr th:only-of-type {\n",
       "        vertical-align: middle;\n",
       "    }\n",
       "\n",
       "    .dataframe tbody tr th {\n",
       "        vertical-align: top;\n",
       "    }\n",
       "\n",
       "    .dataframe thead th {\n",
       "        text-align: right;\n",
       "    }\n",
       "</style>\n",
       "<table border=\"1\" class=\"dataframe\">\n",
       "  <thead>\n",
       "    <tr style=\"text-align: right;\">\n",
       "      <th></th>\n",
       "      <th></th>\n",
       "      <th>time</th>\n",
       "      <th>gid</th>\n",
       "    </tr>\n",
       "    <tr>\n",
       "      <th>simulation_id</th>\n",
       "      <th>circuit_id</th>\n",
       "      <th></th>\n",
       "      <th></th>\n",
       "    </tr>\n",
       "  </thead>\n",
       "  <tbody>\n",
       "    <tr>\n",
       "      <th>0</th>\n",
       "      <th>0</th>\n",
       "      <td>100</td>\n",
       "      <td>100</td>\n",
       "    </tr>\n",
       "    <tr>\n",
       "      <th>1</th>\n",
       "      <th>0</th>\n",
       "      <td>75</td>\n",
       "      <td>75</td>\n",
       "    </tr>\n",
       "    <tr>\n",
       "      <th>2</th>\n",
       "      <th>0</th>\n",
       "      <td>25</td>\n",
       "      <td>25</td>\n",
       "    </tr>\n",
       "  </tbody>\n",
       "</table>\n",
       "</div>"
      ],
      "text/plain": [
       "                          time  gid\n",
       "simulation_id circuit_id           \n",
       "0             0            100  100\n",
       "1             0             75   75\n",
       "2             0             25   25"
      ]
     },
     "execution_count": 26,
     "metadata": {},
     "output_type": "execute_result"
    }
   ],
   "source": [
    "df.etl.groupby_except(['neuron_class', 'window', 'trial']).count()"
   ]
  },
  {
   "cell_type": "markdown",
   "metadata": {},
   "source": [
    "It's then possible to apply a user defined function to the result:"
   ]
  },
  {
   "cell_type": "code",
   "execution_count": 27,
   "metadata": {},
   "outputs": [
    {
     "data": {
      "text/plain": [
       "simulation_id  circuit_id\n",
       "0              0             0.998522\n",
       "1              0             0.998623\n",
       "2              0             0.998177\n",
       "Name: time, dtype: float64"
      ]
     },
     "execution_count": 27,
     "metadata": {},
     "output_type": "execute_result"
    }
   ],
   "source": [
    "from scipy.stats import entropy\n",
    "\n",
    "def response_entropy(x):\n",
    "    return entropy(x, base=2) / np.log2(len(x))\n",
    "\n",
    "df['time'].etl.groupby_except(['neuron_class', 'window', 'trial']).apply(response_entropy)"
   ]
  },
  {
   "cell_type": "markdown",
   "metadata": {},
   "source": [
    "The method `etl.groupby_iter()` can be used to get a generator yielding each record of the grouped dataframe as a tuple (key, df).\n",
    "\n",
    "In general, `etl.groupby_iter()` is not a replacement for `groupby()` because it returns a generator, while `groupby()` returns a `DataFrameGroupBy`.\n",
    "\n",
    "However, it can be used as a replacement for the iteration over `groupby()`, with these differences:\n",
    "\n",
    "- the yielded keys are namedtuples, instead of tuples\n",
    "- it's possible to specify the list of column names to be included in the yielded dataframes\n"
   ]
  },
  {
   "cell_type": "markdown",
   "metadata": {},
   "source": [
    "Iterating over `df`:"
   ]
  },
  {
   "cell_type": "code",
   "execution_count": 28,
   "metadata": {},
   "outputs": [
    {
     "name": "stdout",
     "output_type": "stream",
     "text": [
      "RecordKey(simulation_id=0, circuit_id=0, neuron_class='L23_EXC', window='w1', gid=10)\n",
      "                                                        time  gid\n",
      "simulation_id circuit_id neuron_class window trial               \n",
      "0             0          L23_EXC      w1     0      2.832620   10\n",
      "                                             0      2.568434   10\n",
      "                                             0      2.438602   10\n",
      "                                             0      2.368725   10\n",
      "                                             0      2.976459   10\n"
     ]
    }
   ],
   "source": [
    "for key, tmp_df in df.etl.groupby_iter(['simulation_id', 'circuit_id', 'neuron_class', 'window', 'gid']):\n",
    "    print(key)\n",
    "    print(tmp_df)\n",
    "    break"
   ]
  },
  {
   "cell_type": "markdown",
   "metadata": {},
   "source": [
    "For comparison, with Pandas:"
   ]
  },
  {
   "cell_type": "code",
   "execution_count": 29,
   "metadata": {},
   "outputs": [
    {
     "name": "stdout",
     "output_type": "stream",
     "text": [
      "(0, 0, 'L23_EXC', 'w1', 10)\n",
      "                                                        time  gid\n",
      "simulation_id circuit_id neuron_class window trial               \n",
      "0             0          L23_EXC      w1     0      2.832620   10\n",
      "                                             0      2.568434   10\n",
      "                                             0      2.438602   10\n",
      "                                             0      2.368725   10\n",
      "                                             0      2.976459   10\n"
     ]
    }
   ],
   "source": [
    "for key, tmp_df in df.groupby(['simulation_id', 'circuit_id', 'neuron_class', 'window', 'gid']):\n",
    "    print(key)\n",
    "    print(tmp_df)\n",
    "    break"
   ]
  },
  {
   "cell_type": "markdown",
   "metadata": {},
   "source": [
    "Iterating over `df_col` (columnar representation):"
   ]
  },
  {
   "cell_type": "code",
   "execution_count": 30,
   "metadata": {},
   "outputs": [
    {
     "name": "stdout",
     "output_type": "stream",
     "text": [
      "RecordKey(simulation_id=0, circuit_id=0, neuron_class='L23_EXC', window='w1', gid=10)\n",
      "    simulation_id  circuit_id neuron_class window  trial      time  gid\n",
      "17              0           0      L23_EXC     w1      0  2.832620   10\n",
      "33              0           0      L23_EXC     w1      0  2.568434   10\n",
      "51              0           0      L23_EXC     w1      0  2.438602   10\n",
      "65              0           0      L23_EXC     w1      0  2.368725   10\n",
      "70              0           0      L23_EXC     w1      0  2.976459   10\n"
     ]
    }
   ],
   "source": [
    "for key, tmp_df in df_col.etl.groupby_iter(['simulation_id', 'circuit_id', 'neuron_class', 'window', 'gid']):\n",
    "    print(key)\n",
    "    print(tmp_df)\n",
    "    break"
   ]
  },
  {
   "cell_type": "markdown",
   "metadata": {},
   "source": [
    "For comparison, with Pandas:"
   ]
  },
  {
   "cell_type": "code",
   "execution_count": 31,
   "metadata": {},
   "outputs": [
    {
     "name": "stdout",
     "output_type": "stream",
     "text": [
      "(0, 0, 'L23_EXC', 'w1', 10)\n",
      "    simulation_id  circuit_id neuron_class window  trial      time  gid\n",
      "17              0           0      L23_EXC     w1      0  2.832620   10\n",
      "33              0           0      L23_EXC     w1      0  2.568434   10\n",
      "51              0           0      L23_EXC     w1      0  2.438602   10\n",
      "65              0           0      L23_EXC     w1      0  2.368725   10\n",
      "70              0           0      L23_EXC     w1      0  2.976459   10\n"
     ]
    }
   ],
   "source": [
    "for key, tmp_df in df_col.groupby(['simulation_id', 'circuit_id', 'neuron_class', 'window', 'gid']):\n",
    "    print(key)\n",
    "    print(tmp_df)\n",
    "    break"
   ]
  },
  {
   "cell_type": "markdown",
   "metadata": {},
   "source": [
    "## Multiprocessing"
   ]
  },
  {
   "cell_type": "markdown",
   "metadata": {},
   "source": [
    "With `etl.groupby_run_parallel()` it's possible to group the dataframe and run a function in parallel processes.\n",
    "The function should accept (key, df) and it can return anything.\n",
    "\n",
    "This method should be used only when the function is expensive and it's worth to execute it in a separate subprocess.\n",
    "If the function isn't expensive, iterating over `etl.groupby_iter()` and calling the function is probably faster."
   ]
  },
  {
   "cell_type": "markdown",
   "metadata": {},
   "source": [
    "In the following example, the defined function is executed in separate processes and it just returns the grouping key and the length of the partial dataframe."
   ]
  },
  {
   "cell_type": "code",
   "execution_count": 32,
   "metadata": {},
   "outputs": [
    {
     "data": {
      "text/plain": [
       "[(RecordKey(simulation_id=0, circuit_id=0, neuron_class='L23_EXC'), 52),\n",
       " (RecordKey(simulation_id=0, circuit_id=0, neuron_class='L23_INH'), 48),\n",
       " (RecordKey(simulation_id=1, circuit_id=0, neuron_class='L23_EXC'), 28),\n",
       " (RecordKey(simulation_id=1, circuit_id=0, neuron_class='L23_INH'), 47),\n",
       " (RecordKey(simulation_id=2, circuit_id=0, neuron_class='L23_EXC'), 12),\n",
       " (RecordKey(simulation_id=2, circuit_id=0, neuron_class='L23_INH'), 13)]"
      ]
     },
     "execution_count": 32,
     "metadata": {},
     "output_type": "execute_result"
    }
   ],
   "source": [
    "def func(key, df):\n",
    "    return key, len(df)\n",
    "\n",
    "df.etl.groupby_run_parallel(['simulation_id', 'circuit_id', 'neuron_class'], func=func)"
   ]
  },
  {
   "cell_type": "markdown",
   "metadata": {},
   "source": [
    "The same result is returned when `etl.groupby_run_parallel()` is applied to the columnar `df_col`:"
   ]
  },
  {
   "cell_type": "code",
   "execution_count": 33,
   "metadata": {},
   "outputs": [
    {
     "data": {
      "text/plain": [
       "[(RecordKey(simulation_id=0, circuit_id=0, neuron_class='L23_EXC'), 52),\n",
       " (RecordKey(simulation_id=0, circuit_id=0, neuron_class='L23_INH'), 48),\n",
       " (RecordKey(simulation_id=1, circuit_id=0, neuron_class='L23_EXC'), 28),\n",
       " (RecordKey(simulation_id=1, circuit_id=0, neuron_class='L23_INH'), 47),\n",
       " (RecordKey(simulation_id=2, circuit_id=0, neuron_class='L23_EXC'), 12),\n",
       " (RecordKey(simulation_id=2, circuit_id=0, neuron_class='L23_INH'), 13)]"
      ]
     },
     "execution_count": 33,
     "metadata": {},
     "output_type": "execute_result"
    }
   ],
   "source": [
    "def func(key, df):\n",
    "    return key, len(df)\n",
    "\n",
    "df_col.etl.groupby_run_parallel(['simulation_id', 'circuit_id', 'neuron_class'], func=func)"
   ]
  },
  {
   "cell_type": "markdown",
   "metadata": {},
   "source": [
    "If the function returns a DataFrame and all the DataFrames should be concatenated together to create a single DataFrame, it's possible to use `etl.groupby_apply_parallel()`.\n",
    "\n",
    "This is just a shortcut to calling `etl.groupby_run_parallel()` and concatenate the results with `pd.concat()`.\n",
    "\n",
    "Note that this method should be considered still _experimental and subject to changes_."
   ]
  },
  {
   "cell_type": "code",
   "execution_count": 34,
   "metadata": {},
   "outputs": [
    {
     "data": {
      "text/html": [
       "<div>\n",
       "<style scoped>\n",
       "    .dataframe tbody tr th:only-of-type {\n",
       "        vertical-align: middle;\n",
       "    }\n",
       "\n",
       "    .dataframe tbody tr th {\n",
       "        vertical-align: top;\n",
       "    }\n",
       "\n",
       "    .dataframe thead th {\n",
       "        text-align: right;\n",
       "    }\n",
       "</style>\n",
       "<table border=\"1\" class=\"dataframe\">\n",
       "  <thead>\n",
       "    <tr style=\"text-align: right;\">\n",
       "      <th></th>\n",
       "      <th></th>\n",
       "      <th></th>\n",
       "      <th>mean</th>\n",
       "    </tr>\n",
       "    <tr>\n",
       "      <th>simulation_id</th>\n",
       "      <th>circuit_id</th>\n",
       "      <th>window</th>\n",
       "      <th></th>\n",
       "    </tr>\n",
       "  </thead>\n",
       "  <tbody>\n",
       "    <tr>\n",
       "      <th>0</th>\n",
       "      <th>0</th>\n",
       "      <th>w1</th>\n",
       "      <td>2.472794</td>\n",
       "    </tr>\n",
       "    <tr>\n",
       "      <th>1</th>\n",
       "      <th>0</th>\n",
       "      <th>w1</th>\n",
       "      <td>2.550862</td>\n",
       "    </tr>\n",
       "    <tr>\n",
       "      <th>2</th>\n",
       "      <th>0</th>\n",
       "      <th>w1</th>\n",
       "      <td>2.459742</td>\n",
       "    </tr>\n",
       "  </tbody>\n",
       "</table>\n",
       "</div>"
      ],
      "text/plain": [
       "                                     mean\n",
       "simulation_id circuit_id window          \n",
       "0             0          w1      2.472794\n",
       "1             0          w1      2.550862\n",
       "2             0          w1      2.459742"
      ]
     },
     "execution_count": 34,
     "metadata": {},
     "output_type": "execute_result"
    }
   ],
   "source": [
    "def func(key, df):\n",
    "    return pd.DataFrame(\n",
    "        data={\"mean\": [df['time'].mean()]},\n",
    "        index=pd.MultiIndex.from_tuples([key], names=key._fields)\n",
    "    )\n",
    "\n",
    "df_col.etl.groupby_apply_parallel(['simulation_id', 'circuit_id', 'window'], func=func)"
   ]
  },
  {
   "cell_type": "markdown",
   "metadata": {},
   "source": [
    "In simple cases like in the previous example, it may be more efficient to avoid multiprocessing:"
   ]
  },
  {
   "cell_type": "code",
   "execution_count": 35,
   "metadata": {},
   "outputs": [
    {
     "data": {
      "text/html": [
       "<div>\n",
       "<style scoped>\n",
       "    .dataframe tbody tr th:only-of-type {\n",
       "        vertical-align: middle;\n",
       "    }\n",
       "\n",
       "    .dataframe tbody tr th {\n",
       "        vertical-align: top;\n",
       "    }\n",
       "\n",
       "    .dataframe thead th {\n",
       "        text-align: right;\n",
       "    }\n",
       "</style>\n",
       "<table border=\"1\" class=\"dataframe\">\n",
       "  <thead>\n",
       "    <tr style=\"text-align: right;\">\n",
       "      <th></th>\n",
       "      <th></th>\n",
       "      <th></th>\n",
       "      <th>time</th>\n",
       "    </tr>\n",
       "    <tr>\n",
       "      <th>simulation_id</th>\n",
       "      <th>circuit_id</th>\n",
       "      <th>window</th>\n",
       "      <th></th>\n",
       "    </tr>\n",
       "  </thead>\n",
       "  <tbody>\n",
       "    <tr>\n",
       "      <th>0</th>\n",
       "      <th>0</th>\n",
       "      <th>w1</th>\n",
       "      <td>2.472794</td>\n",
       "    </tr>\n",
       "    <tr>\n",
       "      <th>1</th>\n",
       "      <th>0</th>\n",
       "      <th>w1</th>\n",
       "      <td>2.550862</td>\n",
       "    </tr>\n",
       "    <tr>\n",
       "      <th>2</th>\n",
       "      <th>0</th>\n",
       "      <th>w1</th>\n",
       "      <td>2.459742</td>\n",
       "    </tr>\n",
       "  </tbody>\n",
       "</table>\n",
       "</div>"
      ],
      "text/plain": [
       "                                     time\n",
       "simulation_id circuit_id window          \n",
       "0             0          w1      2.472794\n",
       "1             0          w1      2.550862\n",
       "2             0          w1      2.459742"
      ]
     },
     "execution_count": 35,
     "metadata": {},
     "output_type": "execute_result"
    }
   ],
   "source": [
    "df_col.groupby(['simulation_id', 'circuit_id', 'window'])[['time']].mean()"
   ]
  },
  {
   "cell_type": "code",
   "execution_count": null,
   "metadata": {},
   "outputs": [],
   "source": []
  }
 ],
 "metadata": {
  "kernelspec": {
   "display_name": "Python 3 (ipykernel)",
   "language": "python",
   "name": "python3"
  },
  "language_info": {
   "codemirror_mode": {
    "name": "ipython",
    "version": 3
   },
   "file_extension": ".py",
   "mimetype": "text/x-python",
   "name": "python",
   "nbconvert_exporter": "python",
   "pygments_lexer": "ipython3",
   "version": "3.11.1"
  }
 },
 "nbformat": 4,
 "nbformat_minor": 4
}
